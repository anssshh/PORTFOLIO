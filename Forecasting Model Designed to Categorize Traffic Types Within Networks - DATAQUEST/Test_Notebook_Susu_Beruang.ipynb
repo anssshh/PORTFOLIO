{
  "nbformat": 4,
  "nbformat_minor": 0,
  "metadata": {
    "colab": {
      "provenance": []
    },
    "kernelspec": {
      "name": "python3",
      "display_name": "Python 3"
    },
    "language_info": {
      "name": "python"
    }
  },
  "cells": [
    {
      "cell_type": "code",
      "execution_count": null,
      "metadata": {
        "id": "Q5jwGkIhAhr8"
      },
      "outputs": [],
      "source": [
        "import pandas as pd\n",
        "import numpy as np\n",
        "import seaborn as sns\n",
        "import matplotlib.pyplot as plt\n",
        "from torch.optim import AdamW\n",
        "from sklearn.model_selection import train_test_split\n",
        "from torch.utils.data import TensorDataset\n",
        "import pickle\n",
        "from sklearn.preprocessing import StandardScaler\n",
        "import pickle\n",
        "from sklearn.preprocessing import LabelEncoder"
      ]
    },
    {
      "cell_type": "code",
      "source": [
        "new_data = pd.read_csv('data_test.csv')\n",
        "new_data.head()"
      ],
      "metadata": {
        "id": "fTnJVaZ-AmNA"
      },
      "execution_count": null,
      "outputs": []
    },
    {
      "cell_type": "code",
      "source": [
        "id = new_data['id']\n",
        "new_data = new_data.drop(columns=['id'])\n"
      ],
      "metadata": {
        "id": "WS9WxdqTAngw"
      },
      "execution_count": null,
      "outputs": []
    },
    {
      "cell_type": "code",
      "source": [
        "# Ubah DataFrame menjadi array numpy\n",
        "new_data_scaled_array = new_data.to_numpy()"
      ],
      "metadata": {
        "id": "IVeIgZq7Ao0r"
      },
      "execution_count": null,
      "outputs": []
    },
    {
      "cell_type": "code",
      "source": [
        "with open('model.pkl', 'rb') as file:\n",
        "     loaded_model = pickle.load(file)"
      ],
      "metadata": {
        "id": "5HpoFo6jAqP7"
      },
      "execution_count": null,
      "outputs": []
    },
    {
      "cell_type": "code",
      "source": [
        "predictions = loaded_model.predict(new_data)"
      ],
      "metadata": {
        "id": "iSETqVzsArwj"
      },
      "execution_count": null,
      "outputs": []
    },
    {
      "cell_type": "code",
      "source": [
        "# Adjust predictions by subtracting 1\n",
        "adjusted_predictions = predictions - 1\n",
        "\n",
        "# Recreate the LabelEncoder with the saved classes\n",
        "label_encoder = LabelEncoder()\n",
        "label_encoder.classes_ = np.array(['Background', 'Benign', 'Bruteforce', 'Bruteforce-XML', 'Probing', 'XMRIGCC CryptoMiner'])  # Replace with the actual classes from training\n",
        "\n",
        "# Decode the predictions to original labels\n",
        "decoded_predictions = label_encoder.inverse_transform(adjusted_predictions)\n",
        "\n",
        "print(f\"Decoded predictions: {decoded_predictions}\")\n"
      ],
      "metadata": {
        "id": "Y6hNSYbCAtJ9"
      },
      "execution_count": null,
      "outputs": []
    },
    {
      "cell_type": "code",
      "source": [
        "# Save the predictions to a CSV file, using the stored 'id'\n",
        "submission = pd.DataFrame({\n",
        "    'id': id,  # Use the stored 'id' values\n",
        "    'traffic': decoded_predictions\n",
        "})\n",
        "submission.to_csv('submission.csv', index=False)"
      ],
      "metadata": {
        "id": "zLGFfe9cAuuJ"
      },
      "execution_count": null,
      "outputs": []
    }
  ]
}