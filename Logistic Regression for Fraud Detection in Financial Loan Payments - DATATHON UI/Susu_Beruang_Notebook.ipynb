{
  "nbformat": 4,
  "nbformat_minor": 0,
  "metadata": {
    "colab": {
      "provenance": [],
      "collapsed_sections": [
        "QUFVA5t5e_cP"
      ],
      "gpuType": "T4",
      "toc_visible": true
    },
    "kernelspec": {
      "name": "python3",
      "display_name": "Python 3"
    },
    "language_info": {
      "name": "python"
    },
    "accelerator": "GPU"
  },
  "cells": [
    {
      "cell_type": "markdown",
      "source": [
        "# PENDAHULUAN"
      ],
      "metadata": {
        "id": "gT8ImJ-rfEx4"
      }
    },
    {
      "cell_type": "markdown",
      "source": [
        "Fraud detection adalah proses mengidentifikasi tindakan pengguna dalam suatu skenario dikategorikan sebagai tindakan penipuan atau bukan. Dalam konteks kompetisi ini, tindakan penipuan didefinisikan sebagai pengguna platform yang telah meminjam produk keuangan tetapi tercatat belum melakukan pembayaran sampai tenggat waktu yang telah ditentukan.\n",
        "\n",
        "Machine learning memainkan peran penting dalam mengatasi permasalahan fraud detection. Salah satu model machine learning yang dapat digunakan untuk menyelesaikan permasalahan ini adalah logistic regression. Logistic regression adalah model pembelajaran mesin untuk klasifikasi. Model ini digunakan untuk memprediksi kemungkinan variabel dependen kategorikal. (Kumar et al. 2020).\n",
        "\n",
        "Model logistic regression dipilih karena regresi logistik mudah diterapkan dan hasilnya mudah diinterpretasikan. Hal ini penting dalam deteksi penipuan, dimana memahami hubungan antara prediktor dan kemungkinan penipuan bisa menjadi sangat penting. Selain itu, regresi logistik menampilkan skor presisi rata-rata yang lebih baik dari beberapa algoritma yang telah digunakan.\n"
      ],
      "metadata": {
        "id": "6bMxVxxIQR3o"
      }
    },
    {
      "cell_type": "markdown",
      "source": [
        "# LOAD DATASET"
      ],
      "metadata": {
        "id": "gLdgVgnzd6s4"
      }
    },
    {
      "cell_type": "code",
      "execution_count": null,
      "metadata": {
        "id": "7g_lpKv7rV8U",
        "colab": {
          "base_uri": "https://localhost:8080/"
        },
        "outputId": "9cb08f38-ef76-44c6-d631-fb788bd53205"
      },
      "outputs": [
        {
          "output_type": "stream",
          "name": "stdout",
          "text": [
            "Requirement already satisfied: gdown in /usr/local/lib/python3.10/dist-packages (5.1.0)\n",
            "Requirement already satisfied: beautifulsoup4 in /usr/local/lib/python3.10/dist-packages (from gdown) (4.12.3)\n",
            "Requirement already satisfied: filelock in /usr/local/lib/python3.10/dist-packages (from gdown) (3.15.4)\n",
            "Requirement already satisfied: requests[socks] in /usr/local/lib/python3.10/dist-packages (from gdown) (2.31.0)\n",
            "Requirement already satisfied: tqdm in /usr/local/lib/python3.10/dist-packages (from gdown) (4.66.4)\n",
            "Requirement already satisfied: soupsieve>1.2 in /usr/local/lib/python3.10/dist-packages (from beautifulsoup4->gdown) (2.5)\n",
            "Requirement already satisfied: charset-normalizer<4,>=2 in /usr/local/lib/python3.10/dist-packages (from requests[socks]->gdown) (3.3.2)\n",
            "Requirement already satisfied: idna<4,>=2.5 in /usr/local/lib/python3.10/dist-packages (from requests[socks]->gdown) (3.7)\n",
            "Requirement already satisfied: urllib3<3,>=1.21.1 in /usr/local/lib/python3.10/dist-packages (from requests[socks]->gdown) (2.0.7)\n",
            "Requirement already satisfied: certifi>=2017.4.17 in /usr/local/lib/python3.10/dist-packages (from requests[socks]->gdown) (2024.7.4)\n",
            "Requirement already satisfied: PySocks!=1.5.7,>=1.5.6 in /usr/local/lib/python3.10/dist-packages (from requests[socks]->gdown) (1.7.1)\n"
          ]
        },
        {
          "output_type": "stream",
          "name": "stderr",
          "text": [
            "Downloading...\n",
            "From (original): https://drive.google.com/uc?&id=1joOspf-LvEBdKLw48S2WeBno_l5J1DPj\n",
            "From (redirected): https://drive.google.com/uc?id=1joOspf-LvEBdKLw48S2WeBno_l5J1DPj&confirm=t&uuid=206f739d-02c7-4947-b66f-223e40aa7403\n",
            "To: /content/datathon-2024/ristek-datathon-2024.zip\n",
            "100%|██████████| 113M/113M [00:01<00:00, 60.7MB/s]\n"
          ]
        }
      ],
      "source": [
        "!pip install gdown\n",
        "\n",
        "import os\n",
        "import gdown\n",
        "import zipfile\n",
        "import logging\n",
        "from genericpath import isdir\n",
        "\n",
        "def download_data(url, filename, dir_name: str = \"data\") -> None:\n",
        "    if not os.path.isdir(dir_name):\n",
        "        os.mkdir(dir_name)\n",
        "    os.chdir(dir_name)\n",
        "    logging.info(\"Downloading data....\")\n",
        "    gdown.download(\n",
        "        url, quiet=False\n",
        "    )\n",
        "    logging.info(\"Extracting zip file....\")\n",
        "    with zipfile.ZipFile(f\"{filename}.zip\", 'r') as zip_ref:\n",
        "        zip_ref.extractall(filename)\n",
        "    os.remove(f\"{filename}.zip\")\n",
        "    os.chdir(\"..\")\n",
        "\n",
        "download_data(url=\"https://drive.google.com/uc?&id=1joOspf-LvEBdKLw48S2WeBno_l5J1DPj\",\n",
        "              filename=\"ristek-datathon-2024\",\n",
        "              dir_name=\"datathon-2024\")\n"
      ]
    },
    {
      "cell_type": "markdown",
      "source": [
        "LOAD THE LIBRARY"
      ],
      "metadata": {
        "id": "L92rtJ4oSr3G"
      }
    },
    {
      "cell_type": "code",
      "source": [
        "import pandas as pd\n",
        "import numpy as np\n",
        "import seaborn as sns\n",
        "import matplotlib.pyplot as plt\n",
        "from torch.optim import AdamW\n",
        "from sklearn.model_selection import train_test_split\n",
        "from torch.utils.data import TensorDataset\n",
        "from sklearn.model_selection import train_test_split\n",
        "from sklearn.linear_model import LogisticRegression\n",
        "from sklearn.metrics import accuracy_score\n"
      ],
      "metadata": {
        "id": "zGSFbSbCrYWX"
      },
      "execution_count": null,
      "outputs": []
    },
    {
      "cell_type": "markdown",
      "source": [
        "READ DATASET"
      ],
      "metadata": {
        "id": "BVxadRmrSt7Y"
      }
    },
    {
      "cell_type": "code",
      "source": [
        "df  = pd.read_csv(\"/content/datathon-2024/ristek-datathon-2024/ristek-datathon-2024/train.csv\")\n",
        "df.head()"
      ],
      "metadata": {
        "id": "Fzx7DCAYrcc0",
        "colab": {
          "base_uri": "https://localhost:8080/",
          "height": 206
        },
        "outputId": "af2cc718-658b-4f24-d488-b55c1519d3c9"
      },
      "execution_count": null,
      "outputs": [
        {
          "output_type": "execute_result",
          "data": {
            "text/plain": [
              "   user_id  pc0  pc1    pc2    pc3       pc4  pc5    pc6    pc7    pc8  \\\n",
              "0        3  1.0  1.0  0.275  0.255  0.927273  0.4  0.260  0.040  0.254   \n",
              "1        5  0.0  0.0  0.430  0.365  0.848837  0.4  1.253  0.210  1.235   \n",
              "2        9  1.0  3.0  1.315  0.825  0.627376  0.9  2.385  0.128  2.270   \n",
              "3       10  0.0  5.0 -1.000 -1.000 -1.000000 -1.0 -1.000 -1.000 -1.000   \n",
              "4       17  1.0  1.0  0.235  0.160  0.680851  0.1  0.120  0.002  0.104   \n",
              "\n",
              "        pc9  pc10      pc11      pc12      pc13      pc14      pc15      pc16  \\\n",
              "0  0.976923   1.0  0.072727  0.023077  0.078431  0.750000  0.018182  0.250000   \n",
              "1  0.985634   1.0  0.151163  0.014366  0.054795  0.500000  0.011628  0.250000   \n",
              "2  0.951782   1.0  0.372624  0.048218  0.054545  0.777778  0.003802  0.111111   \n",
              "3 -1.000000   0.0 -1.000000 -1.000000 -1.000000 -1.000000 -1.000000 -1.000000   \n",
              "4  0.866667   0.0  0.319149  0.133333  0.031250 -1.000000 -1.000000 -1.000000   \n",
              "\n",
              "   label  \n",
              "0      0  \n",
              "1      0  \n",
              "2      0  \n",
              "3      0  \n",
              "4      0  "
            ],
            "text/html": [
              "\n",
              "  <div id=\"df-55bc80d4-47b8-46b8-a799-5b9fab5fcf1a\" class=\"colab-df-container\">\n",
              "    <div>\n",
              "<style scoped>\n",
              "    .dataframe tbody tr th:only-of-type {\n",
              "        vertical-align: middle;\n",
              "    }\n",
              "\n",
              "    .dataframe tbody tr th {\n",
              "        vertical-align: top;\n",
              "    }\n",
              "\n",
              "    .dataframe thead th {\n",
              "        text-align: right;\n",
              "    }\n",
              "</style>\n",
              "<table border=\"1\" class=\"dataframe\">\n",
              "  <thead>\n",
              "    <tr style=\"text-align: right;\">\n",
              "      <th></th>\n",
              "      <th>user_id</th>\n",
              "      <th>pc0</th>\n",
              "      <th>pc1</th>\n",
              "      <th>pc2</th>\n",
              "      <th>pc3</th>\n",
              "      <th>pc4</th>\n",
              "      <th>pc5</th>\n",
              "      <th>pc6</th>\n",
              "      <th>pc7</th>\n",
              "      <th>pc8</th>\n",
              "      <th>pc9</th>\n",
              "      <th>pc10</th>\n",
              "      <th>pc11</th>\n",
              "      <th>pc12</th>\n",
              "      <th>pc13</th>\n",
              "      <th>pc14</th>\n",
              "      <th>pc15</th>\n",
              "      <th>pc16</th>\n",
              "      <th>label</th>\n",
              "    </tr>\n",
              "  </thead>\n",
              "  <tbody>\n",
              "    <tr>\n",
              "      <th>0</th>\n",
              "      <td>3</td>\n",
              "      <td>1.0</td>\n",
              "      <td>1.0</td>\n",
              "      <td>0.275</td>\n",
              "      <td>0.255</td>\n",
              "      <td>0.927273</td>\n",
              "      <td>0.4</td>\n",
              "      <td>0.260</td>\n",
              "      <td>0.040</td>\n",
              "      <td>0.254</td>\n",
              "      <td>0.976923</td>\n",
              "      <td>1.0</td>\n",
              "      <td>0.072727</td>\n",
              "      <td>0.023077</td>\n",
              "      <td>0.078431</td>\n",
              "      <td>0.750000</td>\n",
              "      <td>0.018182</td>\n",
              "      <td>0.250000</td>\n",
              "      <td>0</td>\n",
              "    </tr>\n",
              "    <tr>\n",
              "      <th>1</th>\n",
              "      <td>5</td>\n",
              "      <td>0.0</td>\n",
              "      <td>0.0</td>\n",
              "      <td>0.430</td>\n",
              "      <td>0.365</td>\n",
              "      <td>0.848837</td>\n",
              "      <td>0.4</td>\n",
              "      <td>1.253</td>\n",
              "      <td>0.210</td>\n",
              "      <td>1.235</td>\n",
              "      <td>0.985634</td>\n",
              "      <td>1.0</td>\n",
              "      <td>0.151163</td>\n",
              "      <td>0.014366</td>\n",
              "      <td>0.054795</td>\n",
              "      <td>0.500000</td>\n",
              "      <td>0.011628</td>\n",
              "      <td>0.250000</td>\n",
              "      <td>0</td>\n",
              "    </tr>\n",
              "    <tr>\n",
              "      <th>2</th>\n",
              "      <td>9</td>\n",
              "      <td>1.0</td>\n",
              "      <td>3.0</td>\n",
              "      <td>1.315</td>\n",
              "      <td>0.825</td>\n",
              "      <td>0.627376</td>\n",
              "      <td>0.9</td>\n",
              "      <td>2.385</td>\n",
              "      <td>0.128</td>\n",
              "      <td>2.270</td>\n",
              "      <td>0.951782</td>\n",
              "      <td>1.0</td>\n",
              "      <td>0.372624</td>\n",
              "      <td>0.048218</td>\n",
              "      <td>0.054545</td>\n",
              "      <td>0.777778</td>\n",
              "      <td>0.003802</td>\n",
              "      <td>0.111111</td>\n",
              "      <td>0</td>\n",
              "    </tr>\n",
              "    <tr>\n",
              "      <th>3</th>\n",
              "      <td>10</td>\n",
              "      <td>0.0</td>\n",
              "      <td>5.0</td>\n",
              "      <td>-1.000</td>\n",
              "      <td>-1.000</td>\n",
              "      <td>-1.000000</td>\n",
              "      <td>-1.0</td>\n",
              "      <td>-1.000</td>\n",
              "      <td>-1.000</td>\n",
              "      <td>-1.000</td>\n",
              "      <td>-1.000000</td>\n",
              "      <td>0.0</td>\n",
              "      <td>-1.000000</td>\n",
              "      <td>-1.000000</td>\n",
              "      <td>-1.000000</td>\n",
              "      <td>-1.000000</td>\n",
              "      <td>-1.000000</td>\n",
              "      <td>-1.000000</td>\n",
              "      <td>0</td>\n",
              "    </tr>\n",
              "    <tr>\n",
              "      <th>4</th>\n",
              "      <td>17</td>\n",
              "      <td>1.0</td>\n",
              "      <td>1.0</td>\n",
              "      <td>0.235</td>\n",
              "      <td>0.160</td>\n",
              "      <td>0.680851</td>\n",
              "      <td>0.1</td>\n",
              "      <td>0.120</td>\n",
              "      <td>0.002</td>\n",
              "      <td>0.104</td>\n",
              "      <td>0.866667</td>\n",
              "      <td>0.0</td>\n",
              "      <td>0.319149</td>\n",
              "      <td>0.133333</td>\n",
              "      <td>0.031250</td>\n",
              "      <td>-1.000000</td>\n",
              "      <td>-1.000000</td>\n",
              "      <td>-1.000000</td>\n",
              "      <td>0</td>\n",
              "    </tr>\n",
              "  </tbody>\n",
              "</table>\n",
              "</div>\n",
              "    <div class=\"colab-df-buttons\">\n",
              "\n",
              "  <div class=\"colab-df-container\">\n",
              "    <button class=\"colab-df-convert\" onclick=\"convertToInteractive('df-55bc80d4-47b8-46b8-a799-5b9fab5fcf1a')\"\n",
              "            title=\"Convert this dataframe to an interactive table.\"\n",
              "            style=\"display:none;\">\n",
              "\n",
              "  <svg xmlns=\"http://www.w3.org/2000/svg\" height=\"24px\" viewBox=\"0 -960 960 960\">\n",
              "    <path d=\"M120-120v-720h720v720H120Zm60-500h600v-160H180v160Zm220 220h160v-160H400v160Zm0 220h160v-160H400v160ZM180-400h160v-160H180v160Zm440 0h160v-160H620v160ZM180-180h160v-160H180v160Zm440 0h160v-160H620v160Z\"/>\n",
              "  </svg>\n",
              "    </button>\n",
              "\n",
              "  <style>\n",
              "    .colab-df-container {\n",
              "      display:flex;\n",
              "      gap: 12px;\n",
              "    }\n",
              "\n",
              "    .colab-df-convert {\n",
              "      background-color: #E8F0FE;\n",
              "      border: none;\n",
              "      border-radius: 50%;\n",
              "      cursor: pointer;\n",
              "      display: none;\n",
              "      fill: #1967D2;\n",
              "      height: 32px;\n",
              "      padding: 0 0 0 0;\n",
              "      width: 32px;\n",
              "    }\n",
              "\n",
              "    .colab-df-convert:hover {\n",
              "      background-color: #E2EBFA;\n",
              "      box-shadow: 0px 1px 2px rgba(60, 64, 67, 0.3), 0px 1px 3px 1px rgba(60, 64, 67, 0.15);\n",
              "      fill: #174EA6;\n",
              "    }\n",
              "\n",
              "    .colab-df-buttons div {\n",
              "      margin-bottom: 4px;\n",
              "    }\n",
              "\n",
              "    [theme=dark] .colab-df-convert {\n",
              "      background-color: #3B4455;\n",
              "      fill: #D2E3FC;\n",
              "    }\n",
              "\n",
              "    [theme=dark] .colab-df-convert:hover {\n",
              "      background-color: #434B5C;\n",
              "      box-shadow: 0px 1px 3px 1px rgba(0, 0, 0, 0.15);\n",
              "      filter: drop-shadow(0px 1px 2px rgba(0, 0, 0, 0.3));\n",
              "      fill: #FFFFFF;\n",
              "    }\n",
              "  </style>\n",
              "\n",
              "    <script>\n",
              "      const buttonEl =\n",
              "        document.querySelector('#df-55bc80d4-47b8-46b8-a799-5b9fab5fcf1a button.colab-df-convert');\n",
              "      buttonEl.style.display =\n",
              "        google.colab.kernel.accessAllowed ? 'block' : 'none';\n",
              "\n",
              "      async function convertToInteractive(key) {\n",
              "        const element = document.querySelector('#df-55bc80d4-47b8-46b8-a799-5b9fab5fcf1a');\n",
              "        const dataTable =\n",
              "          await google.colab.kernel.invokeFunction('convertToInteractive',\n",
              "                                                    [key], {});\n",
              "        if (!dataTable) return;\n",
              "\n",
              "        const docLinkHtml = 'Like what you see? Visit the ' +\n",
              "          '<a target=\"_blank\" href=https://colab.research.google.com/notebooks/data_table.ipynb>data table notebook</a>'\n",
              "          + ' to learn more about interactive tables.';\n",
              "        element.innerHTML = '';\n",
              "        dataTable['output_type'] = 'display_data';\n",
              "        await google.colab.output.renderOutput(dataTable, element);\n",
              "        const docLink = document.createElement('div');\n",
              "        docLink.innerHTML = docLinkHtml;\n",
              "        element.appendChild(docLink);\n",
              "      }\n",
              "    </script>\n",
              "  </div>\n",
              "\n",
              "\n",
              "<div id=\"df-7dfacd16-0623-48c4-8aca-6babd8d058c1\">\n",
              "  <button class=\"colab-df-quickchart\" onclick=\"quickchart('df-7dfacd16-0623-48c4-8aca-6babd8d058c1')\"\n",
              "            title=\"Suggest charts\"\n",
              "            style=\"display:none;\">\n",
              "\n",
              "<svg xmlns=\"http://www.w3.org/2000/svg\" height=\"24px\"viewBox=\"0 0 24 24\"\n",
              "     width=\"24px\">\n",
              "    <g>\n",
              "        <path d=\"M19 3H5c-1.1 0-2 .9-2 2v14c0 1.1.9 2 2 2h14c1.1 0 2-.9 2-2V5c0-1.1-.9-2-2-2zM9 17H7v-7h2v7zm4 0h-2V7h2v10zm4 0h-2v-4h2v4z\"/>\n",
              "    </g>\n",
              "</svg>\n",
              "  </button>\n",
              "\n",
              "<style>\n",
              "  .colab-df-quickchart {\n",
              "      --bg-color: #E8F0FE;\n",
              "      --fill-color: #1967D2;\n",
              "      --hover-bg-color: #E2EBFA;\n",
              "      --hover-fill-color: #174EA6;\n",
              "      --disabled-fill-color: #AAA;\n",
              "      --disabled-bg-color: #DDD;\n",
              "  }\n",
              "\n",
              "  [theme=dark] .colab-df-quickchart {\n",
              "      --bg-color: #3B4455;\n",
              "      --fill-color: #D2E3FC;\n",
              "      --hover-bg-color: #434B5C;\n",
              "      --hover-fill-color: #FFFFFF;\n",
              "      --disabled-bg-color: #3B4455;\n",
              "      --disabled-fill-color: #666;\n",
              "  }\n",
              "\n",
              "  .colab-df-quickchart {\n",
              "    background-color: var(--bg-color);\n",
              "    border: none;\n",
              "    border-radius: 50%;\n",
              "    cursor: pointer;\n",
              "    display: none;\n",
              "    fill: var(--fill-color);\n",
              "    height: 32px;\n",
              "    padding: 0;\n",
              "    width: 32px;\n",
              "  }\n",
              "\n",
              "  .colab-df-quickchart:hover {\n",
              "    background-color: var(--hover-bg-color);\n",
              "    box-shadow: 0 1px 2px rgba(60, 64, 67, 0.3), 0 1px 3px 1px rgba(60, 64, 67, 0.15);\n",
              "    fill: var(--button-hover-fill-color);\n",
              "  }\n",
              "\n",
              "  .colab-df-quickchart-complete:disabled,\n",
              "  .colab-df-quickchart-complete:disabled:hover {\n",
              "    background-color: var(--disabled-bg-color);\n",
              "    fill: var(--disabled-fill-color);\n",
              "    box-shadow: none;\n",
              "  }\n",
              "\n",
              "  .colab-df-spinner {\n",
              "    border: 2px solid var(--fill-color);\n",
              "    border-color: transparent;\n",
              "    border-bottom-color: var(--fill-color);\n",
              "    animation:\n",
              "      spin 1s steps(1) infinite;\n",
              "  }\n",
              "\n",
              "  @keyframes spin {\n",
              "    0% {\n",
              "      border-color: transparent;\n",
              "      border-bottom-color: var(--fill-color);\n",
              "      border-left-color: var(--fill-color);\n",
              "    }\n",
              "    20% {\n",
              "      border-color: transparent;\n",
              "      border-left-color: var(--fill-color);\n",
              "      border-top-color: var(--fill-color);\n",
              "    }\n",
              "    30% {\n",
              "      border-color: transparent;\n",
              "      border-left-color: var(--fill-color);\n",
              "      border-top-color: var(--fill-color);\n",
              "      border-right-color: var(--fill-color);\n",
              "    }\n",
              "    40% {\n",
              "      border-color: transparent;\n",
              "      border-right-color: var(--fill-color);\n",
              "      border-top-color: var(--fill-color);\n",
              "    }\n",
              "    60% {\n",
              "      border-color: transparent;\n",
              "      border-right-color: var(--fill-color);\n",
              "    }\n",
              "    80% {\n",
              "      border-color: transparent;\n",
              "      border-right-color: var(--fill-color);\n",
              "      border-bottom-color: var(--fill-color);\n",
              "    }\n",
              "    90% {\n",
              "      border-color: transparent;\n",
              "      border-bottom-color: var(--fill-color);\n",
              "    }\n",
              "  }\n",
              "</style>\n",
              "\n",
              "  <script>\n",
              "    async function quickchart(key) {\n",
              "      const quickchartButtonEl =\n",
              "        document.querySelector('#' + key + ' button');\n",
              "      quickchartButtonEl.disabled = true;  // To prevent multiple clicks.\n",
              "      quickchartButtonEl.classList.add('colab-df-spinner');\n",
              "      try {\n",
              "        const charts = await google.colab.kernel.invokeFunction(\n",
              "            'suggestCharts', [key], {});\n",
              "      } catch (error) {\n",
              "        console.error('Error during call to suggestCharts:', error);\n",
              "      }\n",
              "      quickchartButtonEl.classList.remove('colab-df-spinner');\n",
              "      quickchartButtonEl.classList.add('colab-df-quickchart-complete');\n",
              "    }\n",
              "    (() => {\n",
              "      let quickchartButtonEl =\n",
              "        document.querySelector('#df-7dfacd16-0623-48c4-8aca-6babd8d058c1 button');\n",
              "      quickchartButtonEl.style.display =\n",
              "        google.colab.kernel.accessAllowed ? 'block' : 'none';\n",
              "    })();\n",
              "  </script>\n",
              "</div>\n",
              "\n",
              "    </div>\n",
              "  </div>\n"
            ],
            "application/vnd.google.colaboratory.intrinsic+json": {
              "type": "dataframe",
              "variable_name": "df"
            }
          },
          "metadata": {},
          "execution_count": 3
        }
      ]
    },
    {
      "cell_type": "markdown",
      "source": [
        "# EDA"
      ],
      "metadata": {
        "id": "YL0AIxg5fgJd"
      }
    },
    {
      "cell_type": "markdown",
      "source": [
        "Checking NULL"
      ],
      "metadata": {
        "id": "8k2mp4enfquJ"
      }
    },
    {
      "cell_type": "code",
      "source": [
        "#any null values\n",
        "df.isnull().values.any()"
      ],
      "metadata": {
        "colab": {
          "base_uri": "https://localhost:8080/"
        },
        "id": "_VG_8JgyfiwF",
        "outputId": "79139843-6c1c-48a0-b610-3de4ccbb6181"
      },
      "execution_count": null,
      "outputs": [
        {
          "output_type": "execute_result",
          "data": {
            "text/plain": [
              "False"
            ]
          },
          "metadata": {},
          "execution_count": 4
        }
      ]
    },
    {
      "cell_type": "markdown",
      "source": [
        "Ringkasan Statistik Dataset"
      ],
      "metadata": {
        "id": "703EWZb3E3Kl"
      }
    },
    {
      "cell_type": "code",
      "source": [
        "df.drop(columns = ['user_id']).describe()"
      ],
      "metadata": {
        "colab": {
          "base_uri": "https://localhost:8080/",
          "height": 320
        },
        "id": "6x1L00h2hdw5",
        "outputId": "7c06a2b4-2c61-482e-90eb-e95d84315b5b"
      },
      "execution_count": null,
      "outputs": [
        {
          "output_type": "execute_result",
          "data": {
            "text/plain": [
              "                 pc0            pc1            pc2            pc3  \\\n",
              "count  857899.000000  857899.000000  857899.000000  857899.000000   \n",
              "mean        0.746870       3.709053       0.545364       0.391718   \n",
              "std         0.439532       1.934880       1.941448       1.766663   \n",
              "min        -1.000000      -1.000000      -1.000000      -1.000000   \n",
              "25%         0.000000       2.000000      -1.000000      -1.000000   \n",
              "50%         1.000000       4.000000       0.365000       0.295000   \n",
              "75%         1.000000       5.000000       1.150000       0.915000   \n",
              "max         1.000000       8.000000     111.815000     111.475000   \n",
              "\n",
              "                 pc4            pc5            pc6            pc7  \\\n",
              "count  857899.000000  857899.000000  857899.000000  857899.000000   \n",
              "mean        0.175067       0.315356       0.961431      -0.245161   \n",
              "std         0.880198       1.790893       2.766861       0.696857   \n",
              "min        -1.000000      -1.000000      -1.000000      -1.000000   \n",
              "25%        -1.000000      -1.000000      -1.000000      -1.000000   \n",
              "50%         0.738007       0.300000       0.312000       0.011000   \n",
              "75%         0.884120       0.900000       1.501000       0.114000   \n",
              "max         1.000000     456.300000      64.119000      12.338000   \n",
              "\n",
              "                pc8            pc9           pc10           pc11  \\\n",
              "count  857899.00000  857899.000000  857899.000000  857899.000000   \n",
              "mean        0.91576       0.251290       1.336002      -0.282764   \n",
              "std         2.71027       0.932444       3.565165       0.589381   \n",
              "min        -1.00000      -1.000000       0.000000      -1.000000   \n",
              "25%        -1.00000      -1.000000       0.000000      -1.000000   \n",
              "50%         0.28700       0.922936       0.000000       0.068966   \n",
              "75%         1.43400       0.977522       2.000000       0.187500   \n",
              "max        63.41600       1.000000    1313.000000       1.000000   \n",
              "\n",
              "                pc12           pc13           pc14           pc15  \\\n",
              "count  857899.000000  857899.000000  857899.000000  857899.000000   \n",
              "mean       -0.358987      -0.351351       0.030651      -0.555226   \n",
              "std         0.522695       0.518399       0.875284       0.503602   \n",
              "min        -1.000000      -1.000000      -1.000000      -1.000000   \n",
              "25%        -1.000000      -1.000000      -1.000000      -1.000000   \n",
              "50%         0.011834       0.029297       0.500000      -1.000000   \n",
              "75%         0.044816       0.057143       0.800000       0.008230   \n",
              "max         1.000000       2.000000       3.000000       1.000000   \n",
              "\n",
              "                pc16          label  \n",
              "count  857899.000000  857899.000000  \n",
              "mean       -0.440967       0.012655  \n",
              "std         0.644649       0.111782  \n",
              "min        -1.000000       0.000000  \n",
              "25%        -1.000000       0.000000  \n",
              "50%        -1.000000       0.000000  \n",
              "75%         0.200000       0.000000  \n",
              "max         1.000000       1.000000  "
            ],
            "text/html": [
              "\n",
              "  <div id=\"df-7a954961-a56e-4c74-8b4c-e93d17a36aac\" class=\"colab-df-container\">\n",
              "    <div>\n",
              "<style scoped>\n",
              "    .dataframe tbody tr th:only-of-type {\n",
              "        vertical-align: middle;\n",
              "    }\n",
              "\n",
              "    .dataframe tbody tr th {\n",
              "        vertical-align: top;\n",
              "    }\n",
              "\n",
              "    .dataframe thead th {\n",
              "        text-align: right;\n",
              "    }\n",
              "</style>\n",
              "<table border=\"1\" class=\"dataframe\">\n",
              "  <thead>\n",
              "    <tr style=\"text-align: right;\">\n",
              "      <th></th>\n",
              "      <th>pc0</th>\n",
              "      <th>pc1</th>\n",
              "      <th>pc2</th>\n",
              "      <th>pc3</th>\n",
              "      <th>pc4</th>\n",
              "      <th>pc5</th>\n",
              "      <th>pc6</th>\n",
              "      <th>pc7</th>\n",
              "      <th>pc8</th>\n",
              "      <th>pc9</th>\n",
              "      <th>pc10</th>\n",
              "      <th>pc11</th>\n",
              "      <th>pc12</th>\n",
              "      <th>pc13</th>\n",
              "      <th>pc14</th>\n",
              "      <th>pc15</th>\n",
              "      <th>pc16</th>\n",
              "      <th>label</th>\n",
              "    </tr>\n",
              "  </thead>\n",
              "  <tbody>\n",
              "    <tr>\n",
              "      <th>count</th>\n",
              "      <td>857899.000000</td>\n",
              "      <td>857899.000000</td>\n",
              "      <td>857899.000000</td>\n",
              "      <td>857899.000000</td>\n",
              "      <td>857899.000000</td>\n",
              "      <td>857899.000000</td>\n",
              "      <td>857899.000000</td>\n",
              "      <td>857899.000000</td>\n",
              "      <td>857899.00000</td>\n",
              "      <td>857899.000000</td>\n",
              "      <td>857899.000000</td>\n",
              "      <td>857899.000000</td>\n",
              "      <td>857899.000000</td>\n",
              "      <td>857899.000000</td>\n",
              "      <td>857899.000000</td>\n",
              "      <td>857899.000000</td>\n",
              "      <td>857899.000000</td>\n",
              "      <td>857899.000000</td>\n",
              "    </tr>\n",
              "    <tr>\n",
              "      <th>mean</th>\n",
              "      <td>0.746870</td>\n",
              "      <td>3.709053</td>\n",
              "      <td>0.545364</td>\n",
              "      <td>0.391718</td>\n",
              "      <td>0.175067</td>\n",
              "      <td>0.315356</td>\n",
              "      <td>0.961431</td>\n",
              "      <td>-0.245161</td>\n",
              "      <td>0.91576</td>\n",
              "      <td>0.251290</td>\n",
              "      <td>1.336002</td>\n",
              "      <td>-0.282764</td>\n",
              "      <td>-0.358987</td>\n",
              "      <td>-0.351351</td>\n",
              "      <td>0.030651</td>\n",
              "      <td>-0.555226</td>\n",
              "      <td>-0.440967</td>\n",
              "      <td>0.012655</td>\n",
              "    </tr>\n",
              "    <tr>\n",
              "      <th>std</th>\n",
              "      <td>0.439532</td>\n",
              "      <td>1.934880</td>\n",
              "      <td>1.941448</td>\n",
              "      <td>1.766663</td>\n",
              "      <td>0.880198</td>\n",
              "      <td>1.790893</td>\n",
              "      <td>2.766861</td>\n",
              "      <td>0.696857</td>\n",
              "      <td>2.71027</td>\n",
              "      <td>0.932444</td>\n",
              "      <td>3.565165</td>\n",
              "      <td>0.589381</td>\n",
              "      <td>0.522695</td>\n",
              "      <td>0.518399</td>\n",
              "      <td>0.875284</td>\n",
              "      <td>0.503602</td>\n",
              "      <td>0.644649</td>\n",
              "      <td>0.111782</td>\n",
              "    </tr>\n",
              "    <tr>\n",
              "      <th>min</th>\n",
              "      <td>-1.000000</td>\n",
              "      <td>-1.000000</td>\n",
              "      <td>-1.000000</td>\n",
              "      <td>-1.000000</td>\n",
              "      <td>-1.000000</td>\n",
              "      <td>-1.000000</td>\n",
              "      <td>-1.000000</td>\n",
              "      <td>-1.000000</td>\n",
              "      <td>-1.00000</td>\n",
              "      <td>-1.000000</td>\n",
              "      <td>0.000000</td>\n",
              "      <td>-1.000000</td>\n",
              "      <td>-1.000000</td>\n",
              "      <td>-1.000000</td>\n",
              "      <td>-1.000000</td>\n",
              "      <td>-1.000000</td>\n",
              "      <td>-1.000000</td>\n",
              "      <td>0.000000</td>\n",
              "    </tr>\n",
              "    <tr>\n",
              "      <th>25%</th>\n",
              "      <td>0.000000</td>\n",
              "      <td>2.000000</td>\n",
              "      <td>-1.000000</td>\n",
              "      <td>-1.000000</td>\n",
              "      <td>-1.000000</td>\n",
              "      <td>-1.000000</td>\n",
              "      <td>-1.000000</td>\n",
              "      <td>-1.000000</td>\n",
              "      <td>-1.00000</td>\n",
              "      <td>-1.000000</td>\n",
              "      <td>0.000000</td>\n",
              "      <td>-1.000000</td>\n",
              "      <td>-1.000000</td>\n",
              "      <td>-1.000000</td>\n",
              "      <td>-1.000000</td>\n",
              "      <td>-1.000000</td>\n",
              "      <td>-1.000000</td>\n",
              "      <td>0.000000</td>\n",
              "    </tr>\n",
              "    <tr>\n",
              "      <th>50%</th>\n",
              "      <td>1.000000</td>\n",
              "      <td>4.000000</td>\n",
              "      <td>0.365000</td>\n",
              "      <td>0.295000</td>\n",
              "      <td>0.738007</td>\n",
              "      <td>0.300000</td>\n",
              "      <td>0.312000</td>\n",
              "      <td>0.011000</td>\n",
              "      <td>0.28700</td>\n",
              "      <td>0.922936</td>\n",
              "      <td>0.000000</td>\n",
              "      <td>0.068966</td>\n",
              "      <td>0.011834</td>\n",
              "      <td>0.029297</td>\n",
              "      <td>0.500000</td>\n",
              "      <td>-1.000000</td>\n",
              "      <td>-1.000000</td>\n",
              "      <td>0.000000</td>\n",
              "    </tr>\n",
              "    <tr>\n",
              "      <th>75%</th>\n",
              "      <td>1.000000</td>\n",
              "      <td>5.000000</td>\n",
              "      <td>1.150000</td>\n",
              "      <td>0.915000</td>\n",
              "      <td>0.884120</td>\n",
              "      <td>0.900000</td>\n",
              "      <td>1.501000</td>\n",
              "      <td>0.114000</td>\n",
              "      <td>1.43400</td>\n",
              "      <td>0.977522</td>\n",
              "      <td>2.000000</td>\n",
              "      <td>0.187500</td>\n",
              "      <td>0.044816</td>\n",
              "      <td>0.057143</td>\n",
              "      <td>0.800000</td>\n",
              "      <td>0.008230</td>\n",
              "      <td>0.200000</td>\n",
              "      <td>0.000000</td>\n",
              "    </tr>\n",
              "    <tr>\n",
              "      <th>max</th>\n",
              "      <td>1.000000</td>\n",
              "      <td>8.000000</td>\n",
              "      <td>111.815000</td>\n",
              "      <td>111.475000</td>\n",
              "      <td>1.000000</td>\n",
              "      <td>456.300000</td>\n",
              "      <td>64.119000</td>\n",
              "      <td>12.338000</td>\n",
              "      <td>63.41600</td>\n",
              "      <td>1.000000</td>\n",
              "      <td>1313.000000</td>\n",
              "      <td>1.000000</td>\n",
              "      <td>1.000000</td>\n",
              "      <td>2.000000</td>\n",
              "      <td>3.000000</td>\n",
              "      <td>1.000000</td>\n",
              "      <td>1.000000</td>\n",
              "      <td>1.000000</td>\n",
              "    </tr>\n",
              "  </tbody>\n",
              "</table>\n",
              "</div>\n",
              "    <div class=\"colab-df-buttons\">\n",
              "\n",
              "  <div class=\"colab-df-container\">\n",
              "    <button class=\"colab-df-convert\" onclick=\"convertToInteractive('df-7a954961-a56e-4c74-8b4c-e93d17a36aac')\"\n",
              "            title=\"Convert this dataframe to an interactive table.\"\n",
              "            style=\"display:none;\">\n",
              "\n",
              "  <svg xmlns=\"http://www.w3.org/2000/svg\" height=\"24px\" viewBox=\"0 -960 960 960\">\n",
              "    <path d=\"M120-120v-720h720v720H120Zm60-500h600v-160H180v160Zm220 220h160v-160H400v160Zm0 220h160v-160H400v160ZM180-400h160v-160H180v160Zm440 0h160v-160H620v160ZM180-180h160v-160H180v160Zm440 0h160v-160H620v160Z\"/>\n",
              "  </svg>\n",
              "    </button>\n",
              "\n",
              "  <style>\n",
              "    .colab-df-container {\n",
              "      display:flex;\n",
              "      gap: 12px;\n",
              "    }\n",
              "\n",
              "    .colab-df-convert {\n",
              "      background-color: #E8F0FE;\n",
              "      border: none;\n",
              "      border-radius: 50%;\n",
              "      cursor: pointer;\n",
              "      display: none;\n",
              "      fill: #1967D2;\n",
              "      height: 32px;\n",
              "      padding: 0 0 0 0;\n",
              "      width: 32px;\n",
              "    }\n",
              "\n",
              "    .colab-df-convert:hover {\n",
              "      background-color: #E2EBFA;\n",
              "      box-shadow: 0px 1px 2px rgba(60, 64, 67, 0.3), 0px 1px 3px 1px rgba(60, 64, 67, 0.15);\n",
              "      fill: #174EA6;\n",
              "    }\n",
              "\n",
              "    .colab-df-buttons div {\n",
              "      margin-bottom: 4px;\n",
              "    }\n",
              "\n",
              "    [theme=dark] .colab-df-convert {\n",
              "      background-color: #3B4455;\n",
              "      fill: #D2E3FC;\n",
              "    }\n",
              "\n",
              "    [theme=dark] .colab-df-convert:hover {\n",
              "      background-color: #434B5C;\n",
              "      box-shadow: 0px 1px 3px 1px rgba(0, 0, 0, 0.15);\n",
              "      filter: drop-shadow(0px 1px 2px rgba(0, 0, 0, 0.3));\n",
              "      fill: #FFFFFF;\n",
              "    }\n",
              "  </style>\n",
              "\n",
              "    <script>\n",
              "      const buttonEl =\n",
              "        document.querySelector('#df-7a954961-a56e-4c74-8b4c-e93d17a36aac button.colab-df-convert');\n",
              "      buttonEl.style.display =\n",
              "        google.colab.kernel.accessAllowed ? 'block' : 'none';\n",
              "\n",
              "      async function convertToInteractive(key) {\n",
              "        const element = document.querySelector('#df-7a954961-a56e-4c74-8b4c-e93d17a36aac');\n",
              "        const dataTable =\n",
              "          await google.colab.kernel.invokeFunction('convertToInteractive',\n",
              "                                                    [key], {});\n",
              "        if (!dataTable) return;\n",
              "\n",
              "        const docLinkHtml = 'Like what you see? Visit the ' +\n",
              "          '<a target=\"_blank\" href=https://colab.research.google.com/notebooks/data_table.ipynb>data table notebook</a>'\n",
              "          + ' to learn more about interactive tables.';\n",
              "        element.innerHTML = '';\n",
              "        dataTable['output_type'] = 'display_data';\n",
              "        await google.colab.output.renderOutput(dataTable, element);\n",
              "        const docLink = document.createElement('div');\n",
              "        docLink.innerHTML = docLinkHtml;\n",
              "        element.appendChild(docLink);\n",
              "      }\n",
              "    </script>\n",
              "  </div>\n",
              "\n",
              "\n",
              "<div id=\"df-d7c7fa84-e826-46de-beb7-ce9350aaa8c4\">\n",
              "  <button class=\"colab-df-quickchart\" onclick=\"quickchart('df-d7c7fa84-e826-46de-beb7-ce9350aaa8c4')\"\n",
              "            title=\"Suggest charts\"\n",
              "            style=\"display:none;\">\n",
              "\n",
              "<svg xmlns=\"http://www.w3.org/2000/svg\" height=\"24px\"viewBox=\"0 0 24 24\"\n",
              "     width=\"24px\">\n",
              "    <g>\n",
              "        <path d=\"M19 3H5c-1.1 0-2 .9-2 2v14c0 1.1.9 2 2 2h14c1.1 0 2-.9 2-2V5c0-1.1-.9-2-2-2zM9 17H7v-7h2v7zm4 0h-2V7h2v10zm4 0h-2v-4h2v4z\"/>\n",
              "    </g>\n",
              "</svg>\n",
              "  </button>\n",
              "\n",
              "<style>\n",
              "  .colab-df-quickchart {\n",
              "      --bg-color: #E8F0FE;\n",
              "      --fill-color: #1967D2;\n",
              "      --hover-bg-color: #E2EBFA;\n",
              "      --hover-fill-color: #174EA6;\n",
              "      --disabled-fill-color: #AAA;\n",
              "      --disabled-bg-color: #DDD;\n",
              "  }\n",
              "\n",
              "  [theme=dark] .colab-df-quickchart {\n",
              "      --bg-color: #3B4455;\n",
              "      --fill-color: #D2E3FC;\n",
              "      --hover-bg-color: #434B5C;\n",
              "      --hover-fill-color: #FFFFFF;\n",
              "      --disabled-bg-color: #3B4455;\n",
              "      --disabled-fill-color: #666;\n",
              "  }\n",
              "\n",
              "  .colab-df-quickchart {\n",
              "    background-color: var(--bg-color);\n",
              "    border: none;\n",
              "    border-radius: 50%;\n",
              "    cursor: pointer;\n",
              "    display: none;\n",
              "    fill: var(--fill-color);\n",
              "    height: 32px;\n",
              "    padding: 0;\n",
              "    width: 32px;\n",
              "  }\n",
              "\n",
              "  .colab-df-quickchart:hover {\n",
              "    background-color: var(--hover-bg-color);\n",
              "    box-shadow: 0 1px 2px rgba(60, 64, 67, 0.3), 0 1px 3px 1px rgba(60, 64, 67, 0.15);\n",
              "    fill: var(--button-hover-fill-color);\n",
              "  }\n",
              "\n",
              "  .colab-df-quickchart-complete:disabled,\n",
              "  .colab-df-quickchart-complete:disabled:hover {\n",
              "    background-color: var(--disabled-bg-color);\n",
              "    fill: var(--disabled-fill-color);\n",
              "    box-shadow: none;\n",
              "  }\n",
              "\n",
              "  .colab-df-spinner {\n",
              "    border: 2px solid var(--fill-color);\n",
              "    border-color: transparent;\n",
              "    border-bottom-color: var(--fill-color);\n",
              "    animation:\n",
              "      spin 1s steps(1) infinite;\n",
              "  }\n",
              "\n",
              "  @keyframes spin {\n",
              "    0% {\n",
              "      border-color: transparent;\n",
              "      border-bottom-color: var(--fill-color);\n",
              "      border-left-color: var(--fill-color);\n",
              "    }\n",
              "    20% {\n",
              "      border-color: transparent;\n",
              "      border-left-color: var(--fill-color);\n",
              "      border-top-color: var(--fill-color);\n",
              "    }\n",
              "    30% {\n",
              "      border-color: transparent;\n",
              "      border-left-color: var(--fill-color);\n",
              "      border-top-color: var(--fill-color);\n",
              "      border-right-color: var(--fill-color);\n",
              "    }\n",
              "    40% {\n",
              "      border-color: transparent;\n",
              "      border-right-color: var(--fill-color);\n",
              "      border-top-color: var(--fill-color);\n",
              "    }\n",
              "    60% {\n",
              "      border-color: transparent;\n",
              "      border-right-color: var(--fill-color);\n",
              "    }\n",
              "    80% {\n",
              "      border-color: transparent;\n",
              "      border-right-color: var(--fill-color);\n",
              "      border-bottom-color: var(--fill-color);\n",
              "    }\n",
              "    90% {\n",
              "      border-color: transparent;\n",
              "      border-bottom-color: var(--fill-color);\n",
              "    }\n",
              "  }\n",
              "</style>\n",
              "\n",
              "  <script>\n",
              "    async function quickchart(key) {\n",
              "      const quickchartButtonEl =\n",
              "        document.querySelector('#' + key + ' button');\n",
              "      quickchartButtonEl.disabled = true;  // To prevent multiple clicks.\n",
              "      quickchartButtonEl.classList.add('colab-df-spinner');\n",
              "      try {\n",
              "        const charts = await google.colab.kernel.invokeFunction(\n",
              "            'suggestCharts', [key], {});\n",
              "      } catch (error) {\n",
              "        console.error('Error during call to suggestCharts:', error);\n",
              "      }\n",
              "      quickchartButtonEl.classList.remove('colab-df-spinner');\n",
              "      quickchartButtonEl.classList.add('colab-df-quickchart-complete');\n",
              "    }\n",
              "    (() => {\n",
              "      let quickchartButtonEl =\n",
              "        document.querySelector('#df-d7c7fa84-e826-46de-beb7-ce9350aaa8c4 button');\n",
              "      quickchartButtonEl.style.display =\n",
              "        google.colab.kernel.accessAllowed ? 'block' : 'none';\n",
              "    })();\n",
              "  </script>\n",
              "</div>\n",
              "\n",
              "    </div>\n",
              "  </div>\n"
            ],
            "application/vnd.google.colaboratory.intrinsic+json": {
              "type": "dataframe",
              "summary": "{\n  \"name\": \"df\",\n  \"rows\": 8,\n  \"fields\": [\n    {\n      \"column\": \"pc0\",\n      \"properties\": {\n        \"dtype\": \"number\",\n        \"std\": 303312.9392997294,\n        \"min\": -1.0,\n        \"max\": 857899.0,\n        \"num_unique_values\": 6,\n        \"samples\": [\n          857899.0,\n          0.7468699695418691,\n          1.0\n        ],\n        \"semantic_type\": \"\",\n        \"description\": \"\"\n      }\n    },\n    {\n      \"column\": \"pc1\",\n      \"properties\": {\n        \"dtype\": \"number\",\n        \"std\": 303311.90604881925,\n        \"min\": -1.0,\n        \"max\": 857899.0,\n        \"num_unique_values\": 8,\n        \"samples\": [\n          3.7090531636008435,\n          4.0,\n          857899.0\n        ],\n        \"semantic_type\": \"\",\n        \"description\": \"\"\n      }\n    },\n    {\n      \"column\": \"pc2\",\n      \"properties\": {\n        \"dtype\": \"number\",\n        \"std\": 303307.3541297544,\n        \"min\": -1.0,\n        \"max\": 857899.0,\n        \"num_unique_values\": 7,\n        \"samples\": [\n          857899.0,\n          0.5453640871477878,\n          1.15\n        ],\n        \"semantic_type\": \"\",\n        \"description\": \"\"\n      }\n    },\n    {\n      \"column\": \"pc3\",\n      \"properties\": {\n        \"dtype\": \"number\",\n        \"std\": 303307.403284696,\n        \"min\": -1.0,\n        \"max\": 857899.0,\n        \"num_unique_values\": 7,\n        \"samples\": [\n          857899.0,\n          0.39171792367166747,\n          0.915\n        ],\n        \"semantic_type\": \"\",\n        \"description\": \"\"\n      }\n    },\n    {\n      \"column\": \"pc4\",\n      \"properties\": {\n        \"dtype\": \"number\",\n        \"std\": 303313.015516549,\n        \"min\": -1.0,\n        \"max\": 857899.0,\n        \"num_unique_values\": 7,\n        \"samples\": [\n          857899.0,\n          0.17506732169617195,\n          0.8841201716738197\n        ],\n        \"semantic_type\": \"\",\n        \"description\": \"\"\n      }\n    },\n    {\n      \"column\": \"pc5\",\n      \"properties\": {\n        \"dtype\": \"number\",\n        \"std\": 303290.0296228701,\n        \"min\": -1.0,\n        \"max\": 857899.0,\n        \"num_unique_values\": 7,\n        \"samples\": [\n          857899.0,\n          0.3153557703179511,\n          0.9\n        ],\n        \"semantic_type\": \"\",\n        \"description\": \"\"\n      }\n    },\n    {\n      \"column\": \"pc6\",\n      \"properties\": {\n        \"dtype\": \"number\",\n        \"std\": 303309.683692979,\n        \"min\": -1.0,\n        \"max\": 857899.0,\n        \"num_unique_values\": 7,\n        \"samples\": [\n          857899.0,\n          0.9614314610461141,\n          1.501\n        ],\n        \"semantic_type\": \"\",\n        \"description\": \"\"\n      }\n    },\n    {\n      \"column\": \"pc7\",\n      \"properties\": {\n        \"dtype\": \"number\",\n        \"std\": 303312.5489936557,\n        \"min\": -1.0,\n        \"max\": 857899.0,\n        \"num_unique_values\": 7,\n        \"samples\": [\n          857899.0,\n          -0.24516149103798926,\n          0.114\n        ],\n        \"semantic_type\": \"\",\n        \"description\": \"\"\n      }\n    },\n    {\n      \"column\": \"pc8\",\n      \"properties\": {\n        \"dtype\": \"number\",\n        \"std\": 303309.72899434465,\n        \"min\": -1.0,\n        \"max\": 857899.0,\n        \"num_unique_values\": 7,\n        \"samples\": [\n          857899.0,\n          0.915760003217162,\n          1.434\n        ],\n        \"semantic_type\": \"\",\n        \"description\": \"\"\n      }\n    },\n    {\n      \"column\": \"pc9\",\n      \"properties\": {\n        \"dtype\": \"number\",\n        \"std\": 303312.99497024034,\n        \"min\": -1.0,\n        \"max\": 857899.0,\n        \"num_unique_values\": 7,\n        \"samples\": [\n          857899.0,\n          0.251289698763773,\n          0.9775216138328532\n        ],\n        \"semantic_type\": \"\",\n        \"description\": \"\"\n      }\n    },\n    {\n      \"column\": \"pc10\",\n      \"properties\": {\n        \"dtype\": \"number\",\n        \"std\": 303246.78261704737,\n        \"min\": 0.0,\n        \"max\": 857899.0,\n        \"num_unique_values\": 6,\n        \"samples\": [\n          857899.0,\n          1.3360022566759024,\n          1313.0\n        ],\n        \"semantic_type\": \"\",\n        \"description\": \"\"\n      }\n    },\n    {\n      \"column\": \"pc11\",\n      \"properties\": {\n        \"dtype\": \"number\",\n        \"std\": 303313.122305066,\n        \"min\": -1.0,\n        \"max\": 857899.0,\n        \"num_unique_values\": 7,\n        \"samples\": [\n          857899.0,\n          -0.28276414847881187,\n          0.1875\n        ],\n        \"semantic_type\": \"\",\n        \"description\": \"\"\n      }\n    },\n    {\n      \"column\": \"pc12\",\n      \"properties\": {\n        \"dtype\": \"number\",\n        \"std\": 303313.1396151899,\n        \"min\": -1.0,\n        \"max\": 857899.0,\n        \"num_unique_values\": 7,\n        \"samples\": [\n          857899.0,\n          -0.35898652554641297,\n          0.0448160535117056\n        ],\n        \"semantic_type\": \"\",\n        \"description\": \"\"\n      }\n    },\n    {\n      \"column\": \"pc13\",\n      \"properties\": {\n        \"dtype\": \"number\",\n        \"std\": 303313.08743503096,\n        \"min\": -1.0,\n        \"max\": 857899.0,\n        \"num_unique_values\": 7,\n        \"samples\": [\n          857899.0,\n          -0.3513509748619848,\n          0.0571428571428571\n        ],\n        \"semantic_type\": \"\",\n        \"description\": \"\"\n      }\n    },\n    {\n      \"column\": \"pc14\",\n      \"properties\": {\n        \"dtype\": \"number\",\n        \"std\": 303312.9383150532,\n        \"min\": -1.0,\n        \"max\": 857899.0,\n        \"num_unique_values\": 7,\n        \"samples\": [\n          857899.0,\n          0.030651300430053617,\n          0.8\n        ],\n        \"semantic_type\": \"\",\n        \"description\": \"\"\n      }\n    },\n    {\n      \"column\": \"pc15\",\n      \"properties\": {\n        \"dtype\": \"number\",\n        \"std\": 303313.20344448497,\n        \"min\": -1.0,\n        \"max\": 857899.0,\n        \"num_unique_values\": 6,\n        \"samples\": [\n          857899.0,\n          -0.5552263599730731,\n          1.0\n        ],\n        \"semantic_type\": \"\",\n        \"description\": \"\"\n      }\n    },\n    {\n      \"column\": \"pc16\",\n      \"properties\": {\n        \"dtype\": \"number\",\n        \"std\": 303313.1808638154,\n        \"min\": -1.0,\n        \"max\": 857899.0,\n        \"num_unique_values\": 6,\n        \"samples\": [\n          857899.0,\n          -0.4409670412715093,\n          1.0\n        ],\n        \"semantic_type\": \"\",\n        \"description\": \"\"\n      }\n    },\n    {\n      \"column\": \"label\",\n      \"properties\": {\n        \"dtype\": \"number\",\n        \"std\": 303313.04344411823,\n        \"min\": 0.0,\n        \"max\": 857899.0,\n        \"num_unique_values\": 5,\n        \"samples\": [\n          0.0126553358845272,\n          1.0,\n          0.11178189890609944\n        ],\n        \"semantic_type\": \"\",\n        \"description\": \"\"\n      }\n    }\n  ]\n}"
            }
          },
          "metadata": {},
          "execution_count": 5
        }
      ]
    },
    {
      "cell_type": "markdown",
      "source": [
        "CHECK DISTRIBUTION OF EACH VARIABLES"
      ],
      "metadata": {
        "id": "dLpURaCxfvkl"
      }
    },
    {
      "cell_type": "code",
      "source": [
        "#histogram\n",
        "df.hist(bins=10,figsize=(10,10))\n",
        "plt.show()"
      ],
      "metadata": {
        "colab": {
          "base_uri": "https://localhost:8080/",
          "height": 853
        },
        "id": "LttD8rGSfvOj",
        "outputId": "1856b070-ff50-45c0-cb9e-466b9960f319"
      },
      "execution_count": null,
      "outputs": [
        {
          "output_type": "display_data",
          "data": {
            "text/plain": [
              "<Figure size 1000x1000 with 20 Axes>"
            ],
            "image/png": "[encoded data removed]"
          },
          "metadata": {}
        }
      ]
    },
    {
      "cell_type": "code",
      "source": [
        "except_id_corr = df.drop(columns = ['user_id']).corr()\n"
      ],
      "metadata": {
        "id": "sGSuEaZOgkiy"
      },
      "execution_count": null,
      "outputs": []
    },
    {
      "cell_type": "markdown",
      "source": [
        "Checking Correlations Among The Variables"
      ],
      "metadata": {
        "id": "Pz_tk3esFJ4m"
      }
    },
    {
      "cell_type": "code",
      "source": [
        "plt.figure(figsize=(20, 10))\n",
        "sns.heatmap(except_id_corr, annot=True, cmap='coolwarm', linewidths=0.5)\n",
        "plt.title(\"Heatmap Korelasi Train Dataset\")\n",
        "plt.show()"
      ],
      "metadata": {
        "colab": {
          "base_uri": "https://localhost:8080/",
          "height": 853
        },
        "id": "KLB21X-XfvKX",
        "outputId": "9b85e27f-aab3-4c4d-d26f-23d19fa5d27f"
      },
      "execution_count": null,
      "outputs": [
        {
          "output_type": "display_data",
          "data": {
            "text/plain": [
              "<Figure size 2000x1000 with 2 Axes>"
            ],
            "image/png": "[encoded data removed]"
          },
          "metadata": {}
        }
      ]
    },
    {
      "cell_type": "markdown",
      "source": [
        "Distribution of The Label"
      ],
      "metadata": {
        "id": "kEOd5VlAFPkl"
      }
    },
    {
      "cell_type": "code",
      "source": [
        "sns.countplot(y=df['label'],palette='Set1')"
      ],
      "metadata": {
        "colab": {
          "base_uri": "https://localhost:8080/",
          "height": 553
        },
        "id": "kc-rJ9VJfvIw",
        "outputId": "652d0c52-173c-44ab-d106-6f54e7580fa1"
      },
      "execution_count": null,
      "outputs": [
        {
          "output_type": "stream",
          "name": "stderr",
          "text": [
            "<ipython-input-23-ec57abaea6e1>:1: FutureWarning: \n",
            "\n",
            "Passing `palette` without assigning `hue` is deprecated and will be removed in v0.14.0. Assign the `y` variable to `hue` and set `legend=False` for the same effect.\n",
            "\n",
            "  sns.countplot(y=df['label'],palette='Set1')\n"
          ]
        },
        {
          "output_type": "execute_result",
          "data": {
            "text/plain": [
              "<Axes: xlabel='count', ylabel='label'>"
            ]
          },
          "metadata": {},
          "execution_count": 23
        },
        {
          "output_type": "display_data",
          "data": {
            "text/plain": [
              "<Figure size 640x480 with 1 Axes>"
            ],
            "image/png": "[encoded data removed]"
          },
          "metadata": {}
        }
      ]
    },
    {
      "cell_type": "code",
      "source": [
        "#box plot for outlier visualization\n",
        "sns.set(style=\"whitegrid\")\n",
        "df.boxplot(figsize=(15,6))"
      ],
      "metadata": {
        "colab": {
          "base_uri": "https://localhost:8080/",
          "height": 561
        },
        "id": "o-5Ljd2vhd2I",
        "outputId": "562edd04-cf7a-4327-be4f-b1e8b9ab607f"
      },
      "execution_count": null,
      "outputs": [
        {
          "output_type": "execute_result",
          "data": {
            "text/plain": [
              "<Axes: >"
            ]
          },
          "metadata": {},
          "execution_count": 24
        },
        {
          "output_type": "display_data",
          "data": {
            "text/plain": [
              "<Figure size 1500x600 with 1 Axes>"
            ],
            "image/png": "[encoded data removed]"
          },
          "metadata": {}
        }
      ]
    },
    {
      "cell_type": "markdown",
      "source": [
        "Range of Values ​​for Each Variable"
      ],
      "metadata": {
        "id": "cbQUKmT4FWW5"
      }
    },
    {
      "cell_type": "code",
      "source": [
        "#box plot\n",
        "sns.set(style=\"whitegrid\")\n",
        "\n",
        "sns.set(rc={'figure.figsize':(4,2)})\n",
        "sns.boxplot(x=df['pc0'])\n",
        "plt.show()\n",
        "sns.boxplot(x=df['pc1'])\n",
        "plt.show()\n",
        "sns.boxplot(x=df['pc2'])\n",
        "plt.show()\n",
        "sns.boxplot(x=df['pc3'])\n",
        "plt.show()\n",
        "sns.boxplot(x=df['pc4'])\n",
        "plt.show()\n",
        "sns.boxplot(x=df['pc5'])\n",
        "plt.show()\n",
        "sns.boxplot(x=df['pc6'])\n",
        "plt.show()\n",
        "sns.boxplot(x=df['pc7'])\n",
        "plt.show()\n",
        "sns.boxplot(x=df['pc8'])\n",
        "plt.show()\n",
        "sns.boxplot(x=df['pc9'])\n",
        "plt.show()\n",
        "sns.boxplot(x=df['pc10'])\n",
        "plt.show()\n",
        "sns.boxplot(x=df['pc11'])\n",
        "plt.show()\n",
        "sns.boxplot(x=df['pc12'])\n",
        "plt.show()\n",
        "sns.boxplot(x=df['pc13'])\n",
        "plt.show()\n",
        "sns.boxplot(x=df['pc14'])\n",
        "plt.show()\n",
        "sns.boxplot(x=df['pc15'])\n",
        "plt.show()\n",
        "sns.boxplot(x=df['pc16'])\n",
        "plt.show()"
      ],
      "metadata": {
        "colab": {
          "base_uri": "https://localhost:8080/",
          "height": 1000
        },
        "id": "5-ISo26ej47L",
        "outputId": "38d30efa-5feb-4506-cdc3-64d72e32d612"
      },
      "execution_count": null,
      "outputs": [
        {
          "output_type": "display_data",
          "data": {
            "text/plain": [
              "<Figure size 400x200 with 1 Axes>"
            ],
            "image/png": "[encoded data removed]"
          },
          "metadata": {}
        },
        {
          "output_type": "display_data",
          "data": {
            "text/plain": [
              "<Figure size 400x200 with 1 Axes>"
            ],
            "image/png": "[encoded data removed]"
          },
          "metadata": {}
        },
        {
          "output_type": "display_data",
          "data": {
            "text/plain": [
              "<Figure size 400x200 with 1 Axes>"
            ],
            "image/png": "[encoded data removed]"
          },
          "metadata": {}
        },
        {
          "output_type": "display_data",
          "data": {
            "text/plain": [
              "<Figure size 400x200 with 1 Axes>"
            ],
            "image/png": "[encoded data removed]"
          },
          "metadata": {}
        },
        {
          "output_type": "display_data",
          "data": {
            "text/plain": [
              "<Figure size 400x200 with 1 Axes>"
            ],
            "image/png": "[encoded data removed]"
          },
          "metadata": {}
        },
        {
          "output_type": "display_data",
          "data": {
            "text/plain": [
              "<Figure size 400x200 with 1 Axes>"
            ],
            "image/png": "[encoded data removed]"
          },
          "metadata": {}
        },
        {
          "output_type": "display_data",
          "data": {
            "text/plain": [
              "<Figure size 400x200 with 1 Axes>"
            ],
            "image/png": "[encoded data removed]"
          },
          "metadata": {}
        },
        {
          "output_type": "display_data",
          "data": {
            "text/plain": [
              "<Figure size 400x200 with 1 Axes>"
            ],
            "image/png": "[encoded data removed]"
          },
          "metadata": {}
        },
        {
          "output_type": "display_data",
          "data": {
            "text/plain": [
              "<Figure size 400x200 with 1 Axes>"
            ],
            "image/png": "[encoded data removed]"
          },
          "metadata": {}
        },
        {
          "output_type": "display_data",
          "data": {
            "text/plain": [
              "<Figure size 400x200 with 1 Axes>"
            ],
            "image/png": "[encoded data removed]"
          },
          "metadata": {}
        },
        {
          "output_type": "display_data",
          "data": {
            "text/plain": [
              "<Figure size 400x200 with 1 Axes>"
            ],
            "image/png": "[encoded data removed]"
          },
          "metadata": {}
        },
        {
          "output_type": "display_data",
          "data": {
            "text/plain": [
              "<Figure size 400x200 with 1 Axes>"
            ],
            "image/png": "[encoded data removed]"
          },
          "metadata": {}
        },
        {
          "output_type": "display_data",
          "data": {
            "text/plain": [
              "<Figure size 400x200 with 1 Axes>"
            ],
            "image/png": "[encoded data removed]"
          },
          "metadata": {}
        },
        {
          "output_type": "display_data",
          "data": {
            "text/plain": [
              "<Figure size 400x200 with 1 Axes>"
            ],
            "image/png": "[encoded data removed]"
          },
          "metadata": {}
        },
        {
          "output_type": "display_data",
          "data": {
            "text/plain": [
              "<Figure size 400x200 with 1 Axes>"
            ],
            "image/png": "[encoded data removed]"
          },
          "metadata": {}
        },
        {
          "output_type": "display_data",
          "data": {
            "text/plain": [
              "<Figure size 400x200 with 1 Axes>"
            ],
            "image/png": "[encoded data removed]"
          },
          "metadata": {}
        },
        {
          "output_type": "display_data",
          "data": {
            "text/plain": [
              "<Figure size 400x200 with 1 Axes>"
            ],
            "image/png": "[encoded data removed]"
          },
          "metadata": {}
        }
      ]
    },
    {
      "cell_type": "markdown",
      "source": [
        "LOAD THE NON-BORROWER DATASET FOR MORE INFO"
      ],
      "metadata": {
        "id": "Y5MFFiHuFjIA"
      }
    },
    {
      "cell_type": "code",
      "source": [
        "non_borrower = pd.read_csv('/content/datathon-2024/ristek-datathon-2024/ristek-datathon-2024/non_borrower_user.csv')"
      ],
      "metadata": {
        "id": "RatBiiKbhdyC"
      },
      "execution_count": null,
      "outputs": []
    },
    {
      "cell_type": "code",
      "source": [
        "df.drop(columns = ['user_id']).describe()"
      ],
      "metadata": {
        "colab": {
          "base_uri": "https://localhost:8080/",
          "height": 320
        },
        "id": "zFXEEufxiY04",
        "outputId": "d24d0c0c-4564-4ab8-a0fd-f4ebe635ae09"
      },
      "execution_count": null,
      "outputs": [
        {
          "output_type": "execute_result",
          "data": {
            "text/plain": [
              "                 pc0            pc1            pc2            pc3  \\\n",
              "count  857899.000000  857899.000000  857899.000000  857899.000000   \n",
              "mean        0.746870       3.709053       0.545364       0.391718   \n",
              "std         0.439532       1.934880       1.941448       1.766663   \n",
              "min        -1.000000      -1.000000      -1.000000      -1.000000   \n",
              "25%         0.000000       2.000000      -1.000000      -1.000000   \n",
              "50%         1.000000       4.000000       0.365000       0.295000   \n",
              "75%         1.000000       5.000000       1.150000       0.915000   \n",
              "max         1.000000       8.000000     111.815000     111.475000   \n",
              "\n",
              "                 pc4            pc5            pc6            pc7  \\\n",
              "count  857899.000000  857899.000000  857899.000000  857899.000000   \n",
              "mean        0.175067       0.315356       0.961431      -0.245161   \n",
              "std         0.880198       1.790893       2.766861       0.696857   \n",
              "min        -1.000000      -1.000000      -1.000000      -1.000000   \n",
              "25%        -1.000000      -1.000000      -1.000000      -1.000000   \n",
              "50%         0.738007       0.300000       0.312000       0.011000   \n",
              "75%         0.884120       0.900000       1.501000       0.114000   \n",
              "max         1.000000     456.300000      64.119000      12.338000   \n",
              "\n",
              "                pc8            pc9           pc10           pc11  \\\n",
              "count  857899.00000  857899.000000  857899.000000  857899.000000   \n",
              "mean        0.91576       0.251290       1.336002      -0.282764   \n",
              "std         2.71027       0.932444       3.565165       0.589381   \n",
              "min        -1.00000      -1.000000       0.000000      -1.000000   \n",
              "25%        -1.00000      -1.000000       0.000000      -1.000000   \n",
              "50%         0.28700       0.922936       0.000000       0.068966   \n",
              "75%         1.43400       0.977522       2.000000       0.187500   \n",
              "max        63.41600       1.000000    1313.000000       1.000000   \n",
              "\n",
              "                pc12           pc13           pc14           pc15  \\\n",
              "count  857899.000000  857899.000000  857899.000000  857899.000000   \n",
              "mean       -0.358987      -0.351351       0.030651      -0.555226   \n",
              "std         0.522695       0.518399       0.875284       0.503602   \n",
              "min        -1.000000      -1.000000      -1.000000      -1.000000   \n",
              "25%        -1.000000      -1.000000      -1.000000      -1.000000   \n",
              "50%         0.011834       0.029297       0.500000      -1.000000   \n",
              "75%         0.044816       0.057143       0.800000       0.008230   \n",
              "max         1.000000       2.000000       3.000000       1.000000   \n",
              "\n",
              "                pc16          label  \n",
              "count  857899.000000  857899.000000  \n",
              "mean       -0.440967       0.012655  \n",
              "std         0.644649       0.111782  \n",
              "min        -1.000000       0.000000  \n",
              "25%        -1.000000       0.000000  \n",
              "50%        -1.000000       0.000000  \n",
              "75%         0.200000       0.000000  \n",
              "max         1.000000       1.000000  "
            ],
            "text/html": [
              "\n",
              "  <div id=\"df-38169e7a-5794-47e8-8d1d-47213645ffd6\" class=\"colab-df-container\">\n",
              "    <div>\n",
              "<style scoped>\n",
              "    .dataframe tbody tr th:only-of-type {\n",
              "        vertical-align: middle;\n",
              "    }\n",
              "\n",
              "    .dataframe tbody tr th {\n",
              "        vertical-align: top;\n",
              "    }\n",
              "\n",
              "    .dataframe thead th {\n",
              "        text-align: right;\n",
              "    }\n",
              "</style>\n",
              "<table border=\"1\" class=\"dataframe\">\n",
              "  <thead>\n",
              "    <tr style=\"text-align: right;\">\n",
              "      <th></th>\n",
              "      <th>pc0</th>\n",
              "      <th>pc1</th>\n",
              "      <th>pc2</th>\n",
              "      <th>pc3</th>\n",
              "      <th>pc4</th>\n",
              "      <th>pc5</th>\n",
              "      <th>pc6</th>\n",
              "      <th>pc7</th>\n",
              "      <th>pc8</th>\n",
              "      <th>pc9</th>\n",
              "      <th>pc10</th>\n",
              "      <th>pc11</th>\n",
              "      <th>pc12</th>\n",
              "      <th>pc13</th>\n",
              "      <th>pc14</th>\n",
              "      <th>pc15</th>\n",
              "      <th>pc16</th>\n",
              "      <th>label</th>\n",
              "    </tr>\n",
              "  </thead>\n",
              "  <tbody>\n",
              "    <tr>\n",
              "      <th>count</th>\n",
              "      <td>857899.000000</td>\n",
              "      <td>857899.000000</td>\n",
              "      <td>857899.000000</td>\n",
              "      <td>857899.000000</td>\n",
              "      <td>857899.000000</td>\n",
              "      <td>857899.000000</td>\n",
              "      <td>857899.000000</td>\n",
              "      <td>857899.000000</td>\n",
              "      <td>857899.00000</td>\n",
              "      <td>857899.000000</td>\n",
              "      <td>857899.000000</td>\n",
              "      <td>857899.000000</td>\n",
              "      <td>857899.000000</td>\n",
              "      <td>857899.000000</td>\n",
              "      <td>857899.000000</td>\n",
              "      <td>857899.000000</td>\n",
              "      <td>857899.000000</td>\n",
              "      <td>857899.000000</td>\n",
              "    </tr>\n",
              "    <tr>\n",
              "      <th>mean</th>\n",
              "      <td>0.746870</td>\n",
              "      <td>3.709053</td>\n",
              "      <td>0.545364</td>\n",
              "      <td>0.391718</td>\n",
              "      <td>0.175067</td>\n",
              "      <td>0.315356</td>\n",
              "      <td>0.961431</td>\n",
              "      <td>-0.245161</td>\n",
              "      <td>0.91576</td>\n",
              "      <td>0.251290</td>\n",
              "      <td>1.336002</td>\n",
              "      <td>-0.282764</td>\n",
              "      <td>-0.358987</td>\n",
              "      <td>-0.351351</td>\n",
              "      <td>0.030651</td>\n",
              "      <td>-0.555226</td>\n",
              "      <td>-0.440967</td>\n",
              "      <td>0.012655</td>\n",
              "    </tr>\n",
              "    <tr>\n",
              "      <th>std</th>\n",
              "      <td>0.439532</td>\n",
              "      <td>1.934880</td>\n",
              "      <td>1.941448</td>\n",
              "      <td>1.766663</td>\n",
              "      <td>0.880198</td>\n",
              "      <td>1.790893</td>\n",
              "      <td>2.766861</td>\n",
              "      <td>0.696857</td>\n",
              "      <td>2.71027</td>\n",
              "      <td>0.932444</td>\n",
              "      <td>3.565165</td>\n",
              "      <td>0.589381</td>\n",
              "      <td>0.522695</td>\n",
              "      <td>0.518399</td>\n",
              "      <td>0.875284</td>\n",
              "      <td>0.503602</td>\n",
              "      <td>0.644649</td>\n",
              "      <td>0.111782</td>\n",
              "    </tr>\n",
              "    <tr>\n",
              "      <th>min</th>\n",
              "      <td>-1.000000</td>\n",
              "      <td>-1.000000</td>\n",
              "      <td>-1.000000</td>\n",
              "      <td>-1.000000</td>\n",
              "      <td>-1.000000</td>\n",
              "      <td>-1.000000</td>\n",
              "      <td>-1.000000</td>\n",
              "      <td>-1.000000</td>\n",
              "      <td>-1.00000</td>\n",
              "      <td>-1.000000</td>\n",
              "      <td>0.000000</td>\n",
              "      <td>-1.000000</td>\n",
              "      <td>-1.000000</td>\n",
              "      <td>-1.000000</td>\n",
              "      <td>-1.000000</td>\n",
              "      <td>-1.000000</td>\n",
              "      <td>-1.000000</td>\n",
              "      <td>0.000000</td>\n",
              "    </tr>\n",
              "    <tr>\n",
              "      <th>25%</th>\n",
              "      <td>0.000000</td>\n",
              "      <td>2.000000</td>\n",
              "      <td>-1.000000</td>\n",
              "      <td>-1.000000</td>\n",
              "      <td>-1.000000</td>\n",
              "      <td>-1.000000</td>\n",
              "      <td>-1.000000</td>\n",
              "      <td>-1.000000</td>\n",
              "      <td>-1.00000</td>\n",
              "      <td>-1.000000</td>\n",
              "      <td>0.000000</td>\n",
              "      <td>-1.000000</td>\n",
              "      <td>-1.000000</td>\n",
              "      <td>-1.000000</td>\n",
              "      <td>-1.000000</td>\n",
              "      <td>-1.000000</td>\n",
              "      <td>-1.000000</td>\n",
              "      <td>0.000000</td>\n",
              "    </tr>\n",
              "    <tr>\n",
              "      <th>50%</th>\n",
              "      <td>1.000000</td>\n",
              "      <td>4.000000</td>\n",
              "      <td>0.365000</td>\n",
              "      <td>0.295000</td>\n",
              "      <td>0.738007</td>\n",
              "      <td>0.300000</td>\n",
              "      <td>0.312000</td>\n",
              "      <td>0.011000</td>\n",
              "      <td>0.28700</td>\n",
              "      <td>0.922936</td>\n",
              "      <td>0.000000</td>\n",
              "      <td>0.068966</td>\n",
              "      <td>0.011834</td>\n",
              "      <td>0.029297</td>\n",
              "      <td>0.500000</td>\n",
              "      <td>-1.000000</td>\n",
              "      <td>-1.000000</td>\n",
              "      <td>0.000000</td>\n",
              "    </tr>\n",
              "    <tr>\n",
              "      <th>75%</th>\n",
              "      <td>1.000000</td>\n",
              "      <td>5.000000</td>\n",
              "      <td>1.150000</td>\n",
              "      <td>0.915000</td>\n",
              "      <td>0.884120</td>\n",
              "      <td>0.900000</td>\n",
              "      <td>1.501000</td>\n",
              "      <td>0.114000</td>\n",
              "      <td>1.43400</td>\n",
              "      <td>0.977522</td>\n",
              "      <td>2.000000</td>\n",
              "      <td>0.187500</td>\n",
              "      <td>0.044816</td>\n",
              "      <td>0.057143</td>\n",
              "      <td>0.800000</td>\n",
              "      <td>0.008230</td>\n",
              "      <td>0.200000</td>\n",
              "      <td>0.000000</td>\n",
              "    </tr>\n",
              "    <tr>\n",
              "      <th>max</th>\n",
              "      <td>1.000000</td>\n",
              "      <td>8.000000</td>\n",
              "      <td>111.815000</td>\n",
              "      <td>111.475000</td>\n",
              "      <td>1.000000</td>\n",
              "      <td>456.300000</td>\n",
              "      <td>64.119000</td>\n",
              "      <td>12.338000</td>\n",
              "      <td>63.41600</td>\n",
              "      <td>1.000000</td>\n",
              "      <td>1313.000000</td>\n",
              "      <td>1.000000</td>\n",
              "      <td>1.000000</td>\n",
              "      <td>2.000000</td>\n",
              "      <td>3.000000</td>\n",
              "      <td>1.000000</td>\n",
              "      <td>1.000000</td>\n",
              "      <td>1.000000</td>\n",
              "    </tr>\n",
              "  </tbody>\n",
              "</table>\n",
              "</div>\n",
              "    <div class=\"colab-df-buttons\">\n",
              "\n",
              "  <div class=\"colab-df-container\">\n",
              "    <button class=\"colab-df-convert\" onclick=\"convertToInteractive('df-38169e7a-5794-47e8-8d1d-47213645ffd6')\"\n",
              "            title=\"Convert this dataframe to an interactive table.\"\n",
              "            style=\"display:none;\">\n",
              "\n",
              "  <svg xmlns=\"http://www.w3.org/2000/svg\" height=\"24px\" viewBox=\"0 -960 960 960\">\n",
              "    <path d=\"M120-120v-720h720v720H120Zm60-500h600v-160H180v160Zm220 220h160v-160H400v160Zm0 220h160v-160H400v160ZM180-400h160v-160H180v160Zm440 0h160v-160H620v160ZM180-180h160v-160H180v160Zm440 0h160v-160H620v160Z\"/>\n",
              "  </svg>\n",
              "    </button>\n",
              "\n",
              "  <style>\n",
              "    .colab-df-container {\n",
              "      display:flex;\n",
              "      gap: 12px;\n",
              "    }\n",
              "\n",
              "    .colab-df-convert {\n",
              "      background-color: #E8F0FE;\n",
              "      border: none;\n",
              "      border-radius: 50%;\n",
              "      cursor: pointer;\n",
              "      display: none;\n",
              "      fill: #1967D2;\n",
              "      height: 32px;\n",
              "      padding: 0 0 0 0;\n",
              "      width: 32px;\n",
              "    }\n",
              "\n",
              "    .colab-df-convert:hover {\n",
              "      background-color: #E2EBFA;\n",
              "      box-shadow: 0px 1px 2px rgba(60, 64, 67, 0.3), 0px 1px 3px 1px rgba(60, 64, 67, 0.15);\n",
              "      fill: #174EA6;\n",
              "    }\n",
              "\n",
              "    .colab-df-buttons div {\n",
              "      margin-bottom: 4px;\n",
              "    }\n",
              "\n",
              "    [theme=dark] .colab-df-convert {\n",
              "      background-color: #3B4455;\n",
              "      fill: #D2E3FC;\n",
              "    }\n",
              "\n",
              "    [theme=dark] .colab-df-convert:hover {\n",
              "      background-color: #434B5C;\n",
              "      box-shadow: 0px 1px 3px 1px rgba(0, 0, 0, 0.15);\n",
              "      filter: drop-shadow(0px 1px 2px rgba(0, 0, 0, 0.3));\n",
              "      fill: #FFFFFF;\n",
              "    }\n",
              "  </style>\n",
              "\n",
              "    <script>\n",
              "      const buttonEl =\n",
              "        document.querySelector('#df-38169e7a-5794-47e8-8d1d-47213645ffd6 button.colab-df-convert');\n",
              "      buttonEl.style.display =\n",
              "        google.colab.kernel.accessAllowed ? 'block' : 'none';\n",
              "\n",
              "      async function convertToInteractive(key) {\n",
              "        const element = document.querySelector('#df-38169e7a-5794-47e8-8d1d-47213645ffd6');\n",
              "        const dataTable =\n",
              "          await google.colab.kernel.invokeFunction('convertToInteractive',\n",
              "                                                    [key], {});\n",
              "        if (!dataTable) return;\n",
              "\n",
              "        const docLinkHtml = 'Like what you see? Visit the ' +\n",
              "          '<a target=\"_blank\" href=https://colab.research.google.com/notebooks/data_table.ipynb>data table notebook</a>'\n",
              "          + ' to learn more about interactive tables.';\n",
              "        element.innerHTML = '';\n",
              "        dataTable['output_type'] = 'display_data';\n",
              "        await google.colab.output.renderOutput(dataTable, element);\n",
              "        const docLink = document.createElement('div');\n",
              "        docLink.innerHTML = docLinkHtml;\n",
              "        element.appendChild(docLink);\n",
              "      }\n",
              "    </script>\n",
              "  </div>\n",
              "\n",
              "\n",
              "<div id=\"df-94d93304-7319-4edc-af5f-52652cdea0c4\">\n",
              "  <button class=\"colab-df-quickchart\" onclick=\"quickchart('df-94d93304-7319-4edc-af5f-52652cdea0c4')\"\n",
              "            title=\"Suggest charts\"\n",
              "            style=\"display:none;\">\n",
              "\n",
              "<svg xmlns=\"http://www.w3.org/2000/svg\" height=\"24px\"viewBox=\"0 0 24 24\"\n",
              "     width=\"24px\">\n",
              "    <g>\n",
              "        <path d=\"M19 3H5c-1.1 0-2 .9-2 2v14c0 1.1.9 2 2 2h14c1.1 0 2-.9 2-2V5c0-1.1-.9-2-2-2zM9 17H7v-7h2v7zm4 0h-2V7h2v10zm4 0h-2v-4h2v4z\"/>\n",
              "    </g>\n",
              "</svg>\n",
              "  </button>\n",
              "\n",
              "<style>\n",
              "  .colab-df-quickchart {\n",
              "      --bg-color: #E8F0FE;\n",
              "      --fill-color: #1967D2;\n",
              "      --hover-bg-color: #E2EBFA;\n",
              "      --hover-fill-color: #174EA6;\n",
              "      --disabled-fill-color: #AAA;\n",
              "      --disabled-bg-color: #DDD;\n",
              "  }\n",
              "\n",
              "  [theme=dark] .colab-df-quickchart {\n",
              "      --bg-color: #3B4455;\n",
              "      --fill-color: #D2E3FC;\n",
              "      --hover-bg-color: #434B5C;\n",
              "      --hover-fill-color: #FFFFFF;\n",
              "      --disabled-bg-color: #3B4455;\n",
              "      --disabled-fill-color: #666;\n",
              "  }\n",
              "\n",
              "  .colab-df-quickchart {\n",
              "    background-color: var(--bg-color);\n",
              "    border: none;\n",
              "    border-radius: 50%;\n",
              "    cursor: pointer;\n",
              "    display: none;\n",
              "    fill: var(--fill-color);\n",
              "    height: 32px;\n",
              "    padding: 0;\n",
              "    width: 32px;\n",
              "  }\n",
              "\n",
              "  .colab-df-quickchart:hover {\n",
              "    background-color: var(--hover-bg-color);\n",
              "    box-shadow: 0 1px 2px rgba(60, 64, 67, 0.3), 0 1px 3px 1px rgba(60, 64, 67, 0.15);\n",
              "    fill: var(--button-hover-fill-color);\n",
              "  }\n",
              "\n",
              "  .colab-df-quickchart-complete:disabled,\n",
              "  .colab-df-quickchart-complete:disabled:hover {\n",
              "    background-color: var(--disabled-bg-color);\n",
              "    fill: var(--disabled-fill-color);\n",
              "    box-shadow: none;\n",
              "  }\n",
              "\n",
              "  .colab-df-spinner {\n",
              "    border: 2px solid var(--fill-color);\n",
              "    border-color: transparent;\n",
              "    border-bottom-color: var(--fill-color);\n",
              "    animation:\n",
              "      spin 1s steps(1) infinite;\n",
              "  }\n",
              "\n",
              "  @keyframes spin {\n",
              "    0% {\n",
              "      border-color: transparent;\n",
              "      border-bottom-color: var(--fill-color);\n",
              "      border-left-color: var(--fill-color);\n",
              "    }\n",
              "    20% {\n",
              "      border-color: transparent;\n",
              "      border-left-color: var(--fill-color);\n",
              "      border-top-color: var(--fill-color);\n",
              "    }\n",
              "    30% {\n",
              "      border-color: transparent;\n",
              "      border-left-color: var(--fill-color);\n",
              "      border-top-color: var(--fill-color);\n",
              "      border-right-color: var(--fill-color);\n",
              "    }\n",
              "    40% {\n",
              "      border-color: transparent;\n",
              "      border-right-color: var(--fill-color);\n",
              "      border-top-color: var(--fill-color);\n",
              "    }\n",
              "    60% {\n",
              "      border-color: transparent;\n",
              "      border-right-color: var(--fill-color);\n",
              "    }\n",
              "    80% {\n",
              "      border-color: transparent;\n",
              "      border-right-color: var(--fill-color);\n",
              "      border-bottom-color: var(--fill-color);\n",
              "    }\n",
              "    90% {\n",
              "      border-color: transparent;\n",
              "      border-bottom-color: var(--fill-color);\n",
              "    }\n",
              "  }\n",
              "</style>\n",
              "\n",
              "  <script>\n",
              "    async function quickchart(key) {\n",
              "      const quickchartButtonEl =\n",
              "        document.querySelector('#' + key + ' button');\n",
              "      quickchartButtonEl.disabled = true;  // To prevent multiple clicks.\n",
              "      quickchartButtonEl.classList.add('colab-df-spinner');\n",
              "      try {\n",
              "        const charts = await google.colab.kernel.invokeFunction(\n",
              "            'suggestCharts', [key], {});\n",
              "      } catch (error) {\n",
              "        console.error('Error during call to suggestCharts:', error);\n",
              "      }\n",
              "      quickchartButtonEl.classList.remove('colab-df-spinner');\n",
              "      quickchartButtonEl.classList.add('colab-df-quickchart-complete');\n",
              "    }\n",
              "    (() => {\n",
              "      let quickchartButtonEl =\n",
              "        document.querySelector('#df-94d93304-7319-4edc-af5f-52652cdea0c4 button');\n",
              "      quickchartButtonEl.style.display =\n",
              "        google.colab.kernel.accessAllowed ? 'block' : 'none';\n",
              "    })();\n",
              "  </script>\n",
              "</div>\n",
              "\n",
              "    </div>\n",
              "  </div>\n"
            ],
            "application/vnd.google.colaboratory.intrinsic+json": {
              "type": "dataframe",
              "summary": "{\n  \"name\": \"df\",\n  \"rows\": 8,\n  \"fields\": [\n    {\n      \"column\": \"pc0\",\n      \"properties\": {\n        \"dtype\": \"number\",\n        \"std\": 303312.9392997294,\n        \"min\": -1.0,\n        \"max\": 857899.0,\n        \"num_unique_values\": 6,\n        \"samples\": [\n          857899.0,\n          0.7468699695418691,\n          1.0\n        ],\n        \"semantic_type\": \"\",\n        \"description\": \"\"\n      }\n    },\n    {\n      \"column\": \"pc1\",\n      \"properties\": {\n        \"dtype\": \"number\",\n        \"std\": 303311.90604881925,\n        \"min\": -1.0,\n        \"max\": 857899.0,\n        \"num_unique_values\": 8,\n        \"samples\": [\n          3.7090531636008435,\n          4.0,\n          857899.0\n        ],\n        \"semantic_type\": \"\",\n        \"description\": \"\"\n      }\n    },\n    {\n      \"column\": \"pc2\",\n      \"properties\": {\n        \"dtype\": \"number\",\n        \"std\": 303307.3541297544,\n        \"min\": -1.0,\n        \"max\": 857899.0,\n        \"num_unique_values\": 7,\n        \"samples\": [\n          857899.0,\n          0.5453640871477878,\n          1.15\n        ],\n        \"semantic_type\": \"\",\n        \"description\": \"\"\n      }\n    },\n    {\n      \"column\": \"pc3\",\n      \"properties\": {\n        \"dtype\": \"number\",\n        \"std\": 303307.403284696,\n        \"min\": -1.0,\n        \"max\": 857899.0,\n        \"num_unique_values\": 7,\n        \"samples\": [\n          857899.0,\n          0.39171792367166747,\n          0.915\n        ],\n        \"semantic_type\": \"\",\n        \"description\": \"\"\n      }\n    },\n    {\n      \"column\": \"pc4\",\n      \"properties\": {\n        \"dtype\": \"number\",\n        \"std\": 303313.015516549,\n        \"min\": -1.0,\n        \"max\": 857899.0,\n        \"num_unique_values\": 7,\n        \"samples\": [\n          857899.0,\n          0.17506732169617195,\n          0.8841201716738197\n        ],\n        \"semantic_type\": \"\",\n        \"description\": \"\"\n      }\n    },\n    {\n      \"column\": \"pc5\",\n      \"properties\": {\n        \"dtype\": \"number\",\n        \"std\": 303290.0296228701,\n        \"min\": -1.0,\n        \"max\": 857899.0,\n        \"num_unique_values\": 7,\n        \"samples\": [\n          857899.0,\n          0.3153557703179511,\n          0.9\n        ],\n        \"semantic_type\": \"\",\n        \"description\": \"\"\n      }\n    },\n    {\n      \"column\": \"pc6\",\n      \"properties\": {\n        \"dtype\": \"number\",\n        \"std\": 303309.683692979,\n        \"min\": -1.0,\n        \"max\": 857899.0,\n        \"num_unique_values\": 7,\n        \"samples\": [\n          857899.0,\n          0.9614314610461141,\n          1.501\n        ],\n        \"semantic_type\": \"\",\n        \"description\": \"\"\n      }\n    },\n    {\n      \"column\": \"pc7\",\n      \"properties\": {\n        \"dtype\": \"number\",\n        \"std\": 303312.5489936557,\n        \"min\": -1.0,\n        \"max\": 857899.0,\n        \"num_unique_values\": 7,\n        \"samples\": [\n          857899.0,\n          -0.24516149103798926,\n          0.114\n        ],\n        \"semantic_type\": \"\",\n        \"description\": \"\"\n      }\n    },\n    {\n      \"column\": \"pc8\",\n      \"properties\": {\n        \"dtype\": \"number\",\n        \"std\": 303309.72899434465,\n        \"min\": -1.0,\n        \"max\": 857899.0,\n        \"num_unique_values\": 7,\n        \"samples\": [\n          857899.0,\n          0.915760003217162,\n          1.434\n        ],\n        \"semantic_type\": \"\",\n        \"description\": \"\"\n      }\n    },\n    {\n      \"column\": \"pc9\",\n      \"properties\": {\n        \"dtype\": \"number\",\n        \"std\": 303312.99497024034,\n        \"min\": -1.0,\n        \"max\": 857899.0,\n        \"num_unique_values\": 7,\n        \"samples\": [\n          857899.0,\n          0.251289698763773,\n          0.9775216138328532\n        ],\n        \"semantic_type\": \"\",\n        \"description\": \"\"\n      }\n    },\n    {\n      \"column\": \"pc10\",\n      \"properties\": {\n        \"dtype\": \"number\",\n        \"std\": 303246.78261704737,\n        \"min\": 0.0,\n        \"max\": 857899.0,\n        \"num_unique_values\": 6,\n        \"samples\": [\n          857899.0,\n          1.3360022566759024,\n          1313.0\n        ],\n        \"semantic_type\": \"\",\n        \"description\": \"\"\n      }\n    },\n    {\n      \"column\": \"pc11\",\n      \"properties\": {\n        \"dtype\": \"number\",\n        \"std\": 303313.122305066,\n        \"min\": -1.0,\n        \"max\": 857899.0,\n        \"num_unique_values\": 7,\n        \"samples\": [\n          857899.0,\n          -0.28276414847881187,\n          0.1875\n        ],\n        \"semantic_type\": \"\",\n        \"description\": \"\"\n      }\n    },\n    {\n      \"column\": \"pc12\",\n      \"properties\": {\n        \"dtype\": \"number\",\n        \"std\": 303313.1396151899,\n        \"min\": -1.0,\n        \"max\": 857899.0,\n        \"num_unique_values\": 7,\n        \"samples\": [\n          857899.0,\n          -0.35898652554641297,\n          0.0448160535117056\n        ],\n        \"semantic_type\": \"\",\n        \"description\": \"\"\n      }\n    },\n    {\n      \"column\": \"pc13\",\n      \"properties\": {\n        \"dtype\": \"number\",\n        \"std\": 303313.08743503096,\n        \"min\": -1.0,\n        \"max\": 857899.0,\n        \"num_unique_values\": 7,\n        \"samples\": [\n          857899.0,\n          -0.3513509748619848,\n          0.0571428571428571\n        ],\n        \"semantic_type\": \"\",\n        \"description\": \"\"\n      }\n    },\n    {\n      \"column\": \"pc14\",\n      \"properties\": {\n        \"dtype\": \"number\",\n        \"std\": 303312.9383150532,\n        \"min\": -1.0,\n        \"max\": 857899.0,\n        \"num_unique_values\": 7,\n        \"samples\": [\n          857899.0,\n          0.030651300430053617,\n          0.8\n        ],\n        \"semantic_type\": \"\",\n        \"description\": \"\"\n      }\n    },\n    {\n      \"column\": \"pc15\",\n      \"properties\": {\n        \"dtype\": \"number\",\n        \"std\": 303313.20344448497,\n        \"min\": -1.0,\n        \"max\": 857899.0,\n        \"num_unique_values\": 6,\n        \"samples\": [\n          857899.0,\n          -0.5552263599730731,\n          1.0\n        ],\n        \"semantic_type\": \"\",\n        \"description\": \"\"\n      }\n    },\n    {\n      \"column\": \"pc16\",\n      \"properties\": {\n        \"dtype\": \"number\",\n        \"std\": 303313.1808638154,\n        \"min\": -1.0,\n        \"max\": 857899.0,\n        \"num_unique_values\": 6,\n        \"samples\": [\n          857899.0,\n          -0.4409670412715093,\n          1.0\n        ],\n        \"semantic_type\": \"\",\n        \"description\": \"\"\n      }\n    },\n    {\n      \"column\": \"label\",\n      \"properties\": {\n        \"dtype\": \"number\",\n        \"std\": 303313.04344411823,\n        \"min\": 0.0,\n        \"max\": 857899.0,\n        \"num_unique_values\": 5,\n        \"samples\": [\n          0.0126553358845272,\n          1.0,\n          0.11178189890609944\n        ],\n        \"semantic_type\": \"\",\n        \"description\": \"\"\n      }\n    }\n  ]\n}"
            }
          },
          "metadata": {},
          "execution_count": 29
        }
      ]
    },
    {
      "cell_type": "code",
      "source": [
        "non_borrower.drop(columns = ['user_id']).describe()"
      ],
      "metadata": {
        "colab": {
          "base_uri": "https://localhost:8080/",
          "height": 320
        },
        "id": "2cJdgH3OhdtY",
        "outputId": "bc887512-afdd-4708-942f-4ffaa3d501c5"
      },
      "execution_count": null,
      "outputs": [
        {
          "output_type": "execute_result",
          "data": {
            "text/plain": [
              "                pc0           pc1           pc2           pc3           pc4  \\\n",
              "count  1.048575e+06  1.048575e+06  1.048575e+06  1.048575e+06  1.048575e+06   \n",
              "mean   3.887829e-01  2.764622e+00 -4.025661e-01 -4.321563e-01 -3.165213e-01   \n",
              "std    8.221746e-01  2.870280e+00  9.388054e-01  8.878405e-01  9.028309e-01   \n",
              "min   -1.000000e+00 -1.000000e+00 -1.000000e+00 -1.000000e+00 -1.000000e+00   \n",
              "25%    0.000000e+00  0.000000e+00 -1.000000e+00 -1.000000e+00 -1.000000e+00   \n",
              "50%    1.000000e+00  3.000000e+00 -1.000000e+00 -1.000000e+00 -1.000000e+00   \n",
              "75%    1.000000e+00  5.000000e+00  2.500000e-01  2.150000e-01  8.413886e-01   \n",
              "max    1.000000e+00  8.000000e+00  5.176500e+01  5.091500e+01  1.000000e+00   \n",
              "\n",
              "                pc5           pc6           pc7           pc8           pc9  \\\n",
              "count  1.048575e+06  1.048575e+06  1.048575e+06  1.048575e+06  1.048575e+06   \n",
              "mean  -4.604148e-01 -3.464219e-01 -6.442732e-01 -3.551684e-01 -2.855068e-01   \n",
              "std    9.240246e-01  1.042326e+00  5.216804e-01  1.027156e+00  9.418125e-01   \n",
              "min   -1.000000e+00 -1.000000e+00 -1.000000e+00 -1.000000e+00 -1.000000e+00   \n",
              "25%   -1.000000e+00 -1.000000e+00 -1.000000e+00 -1.000000e+00 -1.000000e+00   \n",
              "50%   -1.000000e+00 -1.000000e+00 -1.000000e+00 -1.000000e+00 -1.000000e+00   \n",
              "75%    2.000000e-01  2.330000e-01  7.000000e-03  2.200000e-01  9.568528e-01   \n",
              "max    9.180000e+01  3.430200e+01  7.132000e+00  3.406400e+01  1.000000e+00   \n",
              "\n",
              "               pc10          pc11          pc12          pc13          pc14  \\\n",
              "count  1.048575e+06  1.048575e+06  1.048575e+06  1.048575e+06  1.048575e+06   \n",
              "mean   4.385094e-01 -6.227477e-01 -6.537622e-01 -6.519266e-01 -4.526044e-01   \n",
              "std    1.587725e+00  5.432509e-01  4.967269e-01  5.023275e-01  8.340102e-01   \n",
              "min    0.000000e+00 -1.000000e+00 -1.000000e+00 -1.000000e+00 -1.000000e+00   \n",
              "25%    0.000000e+00 -1.000000e+00 -1.000000e+00 -1.000000e+00 -1.000000e+00   \n",
              "50%    0.000000e+00 -1.000000e+00 -1.000000e+00 -1.000000e+00 -1.000000e+00   \n",
              "75%    0.000000e+00  5.882353e-02  1.142857e-02  3.571429e-02  5.714286e-01   \n",
              "max    4.560000e+02  1.000000e+00  1.000000e+00  1.000000e+00  3.000000e+00   \n",
              "\n",
              "               pc15          pc16  \n",
              "count  1.048575e+06  1.048575e+06  \n",
              "mean  -7.981312e-01 -7.348920e-01  \n",
              "std    4.069985e-01  5.439490e-01  \n",
              "min   -1.000000e+00 -1.000000e+00  \n",
              "25%   -1.000000e+00 -1.000000e+00  \n",
              "50%   -1.000000e+00 -1.000000e+00  \n",
              "75%   -1.000000e+00 -1.000000e+00  \n",
              "max    1.000000e+00  1.000000e+00  "
            ],
            "text/html": [
              "\n",
              "  <div id=\"df-ff0cd0fd-03c1-432f-97db-402b031a804e\" class=\"colab-df-container\">\n",
              "    <div>\n",
              "<style scoped>\n",
              "    .dataframe tbody tr th:only-of-type {\n",
              "        vertical-align: middle;\n",
              "    }\n",
              "\n",
              "    .dataframe tbody tr th {\n",
              "        vertical-align: top;\n",
              "    }\n",
              "\n",
              "    .dataframe thead th {\n",
              "        text-align: right;\n",
              "    }\n",
              "</style>\n",
              "<table border=\"1\" class=\"dataframe\">\n",
              "  <thead>\n",
              "    <tr style=\"text-align: right;\">\n",
              "      <th></th>\n",
              "      <th>pc0</th>\n",
              "      <th>pc1</th>\n",
              "      <th>pc2</th>\n",
              "      <th>pc3</th>\n",
              "      <th>pc4</th>\n",
              "      <th>pc5</th>\n",
              "      <th>pc6</th>\n",
              "      <th>pc7</th>\n",
              "      <th>pc8</th>\n",
              "      <th>pc9</th>\n",
              "      <th>pc10</th>\n",
              "      <th>pc11</th>\n",
              "      <th>pc12</th>\n",
              "      <th>pc13</th>\n",
              "      <th>pc14</th>\n",
              "      <th>pc15</th>\n",
              "      <th>pc16</th>\n",
              "    </tr>\n",
              "  </thead>\n",
              "  <tbody>\n",
              "    <tr>\n",
              "      <th>count</th>\n",
              "      <td>1.048575e+06</td>\n",
              "      <td>1.048575e+06</td>\n",
              "      <td>1.048575e+06</td>\n",
              "      <td>1.048575e+06</td>\n",
              "      <td>1.048575e+06</td>\n",
              "      <td>1.048575e+06</td>\n",
              "      <td>1.048575e+06</td>\n",
              "      <td>1.048575e+06</td>\n",
              "      <td>1.048575e+06</td>\n",
              "      <td>1.048575e+06</td>\n",
              "      <td>1.048575e+06</td>\n",
              "      <td>1.048575e+06</td>\n",
              "      <td>1.048575e+06</td>\n",
              "      <td>1.048575e+06</td>\n",
              "      <td>1.048575e+06</td>\n",
              "      <td>1.048575e+06</td>\n",
              "      <td>1.048575e+06</td>\n",
              "    </tr>\n",
              "    <tr>\n",
              "      <th>mean</th>\n",
              "      <td>3.887829e-01</td>\n",
              "      <td>2.764622e+00</td>\n",
              "      <td>-4.025661e-01</td>\n",
              "      <td>-4.321563e-01</td>\n",
              "      <td>-3.165213e-01</td>\n",
              "      <td>-4.604148e-01</td>\n",
              "      <td>-3.464219e-01</td>\n",
              "      <td>-6.442732e-01</td>\n",
              "      <td>-3.551684e-01</td>\n",
              "      <td>-2.855068e-01</td>\n",
              "      <td>4.385094e-01</td>\n",
              "      <td>-6.227477e-01</td>\n",
              "      <td>-6.537622e-01</td>\n",
              "      <td>-6.519266e-01</td>\n",
              "      <td>-4.526044e-01</td>\n",
              "      <td>-7.981312e-01</td>\n",
              "      <td>-7.348920e-01</td>\n",
              "    </tr>\n",
              "    <tr>\n",
              "      <th>std</th>\n",
              "      <td>8.221746e-01</td>\n",
              "      <td>2.870280e+00</td>\n",
              "      <td>9.388054e-01</td>\n",
              "      <td>8.878405e-01</td>\n",
              "      <td>9.028309e-01</td>\n",
              "      <td>9.240246e-01</td>\n",
              "      <td>1.042326e+00</td>\n",
              "      <td>5.216804e-01</td>\n",
              "      <td>1.027156e+00</td>\n",
              "      <td>9.418125e-01</td>\n",
              "      <td>1.587725e+00</td>\n",
              "      <td>5.432509e-01</td>\n",
              "      <td>4.967269e-01</td>\n",
              "      <td>5.023275e-01</td>\n",
              "      <td>8.340102e-01</td>\n",
              "      <td>4.069985e-01</td>\n",
              "      <td>5.439490e-01</td>\n",
              "    </tr>\n",
              "    <tr>\n",
              "      <th>min</th>\n",
              "      <td>-1.000000e+00</td>\n",
              "      <td>-1.000000e+00</td>\n",
              "      <td>-1.000000e+00</td>\n",
              "      <td>-1.000000e+00</td>\n",
              "      <td>-1.000000e+00</td>\n",
              "      <td>-1.000000e+00</td>\n",
              "      <td>-1.000000e+00</td>\n",
              "      <td>-1.000000e+00</td>\n",
              "      <td>-1.000000e+00</td>\n",
              "      <td>-1.000000e+00</td>\n",
              "      <td>0.000000e+00</td>\n",
              "      <td>-1.000000e+00</td>\n",
              "      <td>-1.000000e+00</td>\n",
              "      <td>-1.000000e+00</td>\n",
              "      <td>-1.000000e+00</td>\n",
              "      <td>-1.000000e+00</td>\n",
              "      <td>-1.000000e+00</td>\n",
              "    </tr>\n",
              "    <tr>\n",
              "      <th>25%</th>\n",
              "      <td>0.000000e+00</td>\n",
              "      <td>0.000000e+00</td>\n",
              "      <td>-1.000000e+00</td>\n",
              "      <td>-1.000000e+00</td>\n",
              "      <td>-1.000000e+00</td>\n",
              "      <td>-1.000000e+00</td>\n",
              "      <td>-1.000000e+00</td>\n",
              "      <td>-1.000000e+00</td>\n",
              "      <td>-1.000000e+00</td>\n",
              "      <td>-1.000000e+00</td>\n",
              "      <td>0.000000e+00</td>\n",
              "      <td>-1.000000e+00</td>\n",
              "      <td>-1.000000e+00</td>\n",
              "      <td>-1.000000e+00</td>\n",
              "      <td>-1.000000e+00</td>\n",
              "      <td>-1.000000e+00</td>\n",
              "      <td>-1.000000e+00</td>\n",
              "    </tr>\n",
              "    <tr>\n",
              "      <th>50%</th>\n",
              "      <td>1.000000e+00</td>\n",
              "      <td>3.000000e+00</td>\n",
              "      <td>-1.000000e+00</td>\n",
              "      <td>-1.000000e+00</td>\n",
              "      <td>-1.000000e+00</td>\n",
              "      <td>-1.000000e+00</td>\n",
              "      <td>-1.000000e+00</td>\n",
              "      <td>-1.000000e+00</td>\n",
              "      <td>-1.000000e+00</td>\n",
              "      <td>-1.000000e+00</td>\n",
              "      <td>0.000000e+00</td>\n",
              "      <td>-1.000000e+00</td>\n",
              "      <td>-1.000000e+00</td>\n",
              "      <td>-1.000000e+00</td>\n",
              "      <td>-1.000000e+00</td>\n",
              "      <td>-1.000000e+00</td>\n",
              "      <td>-1.000000e+00</td>\n",
              "    </tr>\n",
              "    <tr>\n",
              "      <th>75%</th>\n",
              "      <td>1.000000e+00</td>\n",
              "      <td>5.000000e+00</td>\n",
              "      <td>2.500000e-01</td>\n",
              "      <td>2.150000e-01</td>\n",
              "      <td>8.413886e-01</td>\n",
              "      <td>2.000000e-01</td>\n",
              "      <td>2.330000e-01</td>\n",
              "      <td>7.000000e-03</td>\n",
              "      <td>2.200000e-01</td>\n",
              "      <td>9.568528e-01</td>\n",
              "      <td>0.000000e+00</td>\n",
              "      <td>5.882353e-02</td>\n",
              "      <td>1.142857e-02</td>\n",
              "      <td>3.571429e-02</td>\n",
              "      <td>5.714286e-01</td>\n",
              "      <td>-1.000000e+00</td>\n",
              "      <td>-1.000000e+00</td>\n",
              "    </tr>\n",
              "    <tr>\n",
              "      <th>max</th>\n",
              "      <td>1.000000e+00</td>\n",
              "      <td>8.000000e+00</td>\n",
              "      <td>5.176500e+01</td>\n",
              "      <td>5.091500e+01</td>\n",
              "      <td>1.000000e+00</td>\n",
              "      <td>9.180000e+01</td>\n",
              "      <td>3.430200e+01</td>\n",
              "      <td>7.132000e+00</td>\n",
              "      <td>3.406400e+01</td>\n",
              "      <td>1.000000e+00</td>\n",
              "      <td>4.560000e+02</td>\n",
              "      <td>1.000000e+00</td>\n",
              "      <td>1.000000e+00</td>\n",
              "      <td>1.000000e+00</td>\n",
              "      <td>3.000000e+00</td>\n",
              "      <td>1.000000e+00</td>\n",
              "      <td>1.000000e+00</td>\n",
              "    </tr>\n",
              "  </tbody>\n",
              "</table>\n",
              "</div>\n",
              "    <div class=\"colab-df-buttons\">\n",
              "\n",
              "  <div class=\"colab-df-container\">\n",
              "    <button class=\"colab-df-convert\" onclick=\"convertToInteractive('df-ff0cd0fd-03c1-432f-97db-402b031a804e')\"\n",
              "            title=\"Convert this dataframe to an interactive table.\"\n",
              "            style=\"display:none;\">\n",
              "\n",
              "  <svg xmlns=\"http://www.w3.org/2000/svg\" height=\"24px\" viewBox=\"0 -960 960 960\">\n",
              "    <path d=\"M120-120v-720h720v720H120Zm60-500h600v-160H180v160Zm220 220h160v-160H400v160Zm0 220h160v-160H400v160ZM180-400h160v-160H180v160Zm440 0h160v-160H620v160ZM180-180h160v-160H180v160Zm440 0h160v-160H620v160Z\"/>\n",
              "  </svg>\n",
              "    </button>\n",
              "\n",
              "  <style>\n",
              "    .colab-df-container {\n",
              "      display:flex;\n",
              "      gap: 12px;\n",
              "    }\n",
              "\n",
              "    .colab-df-convert {\n",
              "      background-color: #E8F0FE;\n",
              "      border: none;\n",
              "      border-radius: 50%;\n",
              "      cursor: pointer;\n",
              "      display: none;\n",
              "      fill: #1967D2;\n",
              "      height: 32px;\n",
              "      padding: 0 0 0 0;\n",
              "      width: 32px;\n",
              "    }\n",
              "\n",
              "    .colab-df-convert:hover {\n",
              "      background-color: #E2EBFA;\n",
              "      box-shadow: 0px 1px 2px rgba(60, 64, 67, 0.3), 0px 1px 3px 1px rgba(60, 64, 67, 0.15);\n",
              "      fill: #174EA6;\n",
              "    }\n",
              "\n",
              "    .colab-df-buttons div {\n",
              "      margin-bottom: 4px;\n",
              "    }\n",
              "\n",
              "    [theme=dark] .colab-df-convert {\n",
              "      background-color: #3B4455;\n",
              "      fill: #D2E3FC;\n",
              "    }\n",
              "\n",
              "    [theme=dark] .colab-df-convert:hover {\n",
              "      background-color: #434B5C;\n",
              "      box-shadow: 0px 1px 3px 1px rgba(0, 0, 0, 0.15);\n",
              "      filter: drop-shadow(0px 1px 2px rgba(0, 0, 0, 0.3));\n",
              "      fill: #FFFFFF;\n",
              "    }\n",
              "  </style>\n",
              "\n",
              "    <script>\n",
              "      const buttonEl =\n",
              "        document.querySelector('#df-ff0cd0fd-03c1-432f-97db-402b031a804e button.colab-df-convert');\n",
              "      buttonEl.style.display =\n",
              "        google.colab.kernel.accessAllowed ? 'block' : 'none';\n",
              "\n",
              "      async function convertToInteractive(key) {\n",
              "        const element = document.querySelector('#df-ff0cd0fd-03c1-432f-97db-402b031a804e');\n",
              "        const dataTable =\n",
              "          await google.colab.kernel.invokeFunction('convertToInteractive',\n",
              "                                                    [key], {});\n",
              "        if (!dataTable) return;\n",
              "\n",
              "        const docLinkHtml = 'Like what you see? Visit the ' +\n",
              "          '<a target=\"_blank\" href=https://colab.research.google.com/notebooks/data_table.ipynb>data table notebook</a>'\n",
              "          + ' to learn more about interactive tables.';\n",
              "        element.innerHTML = '';\n",
              "        dataTable['output_type'] = 'display_data';\n",
              "        await google.colab.output.renderOutput(dataTable, element);\n",
              "        const docLink = document.createElement('div');\n",
              "        docLink.innerHTML = docLinkHtml;\n",
              "        element.appendChild(docLink);\n",
              "      }\n",
              "    </script>\n",
              "  </div>\n",
              "\n",
              "\n",
              "<div id=\"df-159d7b52-a4c9-4ba9-85a7-e26661561729\">\n",
              "  <button class=\"colab-df-quickchart\" onclick=\"quickchart('df-159d7b52-a4c9-4ba9-85a7-e26661561729')\"\n",
              "            title=\"Suggest charts\"\n",
              "            style=\"display:none;\">\n",
              "\n",
              "<svg xmlns=\"http://www.w3.org/2000/svg\" height=\"24px\"viewBox=\"0 0 24 24\"\n",
              "     width=\"24px\">\n",
              "    <g>\n",
              "        <path d=\"M19 3H5c-1.1 0-2 .9-2 2v14c0 1.1.9 2 2 2h14c1.1 0 2-.9 2-2V5c0-1.1-.9-2-2-2zM9 17H7v-7h2v7zm4 0h-2V7h2v10zm4 0h-2v-4h2v4z\"/>\n",
              "    </g>\n",
              "</svg>\n",
              "  </button>\n",
              "\n",
              "<style>\n",
              "  .colab-df-quickchart {\n",
              "      --bg-color: #E8F0FE;\n",
              "      --fill-color: #1967D2;\n",
              "      --hover-bg-color: #E2EBFA;\n",
              "      --hover-fill-color: #174EA6;\n",
              "      --disabled-fill-color: #AAA;\n",
              "      --disabled-bg-color: #DDD;\n",
              "  }\n",
              "\n",
              "  [theme=dark] .colab-df-quickchart {\n",
              "      --bg-color: #3B4455;\n",
              "      --fill-color: #D2E3FC;\n",
              "      --hover-bg-color: #434B5C;\n",
              "      --hover-fill-color: #FFFFFF;\n",
              "      --disabled-bg-color: #3B4455;\n",
              "      --disabled-fill-color: #666;\n",
              "  }\n",
              "\n",
              "  .colab-df-quickchart {\n",
              "    background-color: var(--bg-color);\n",
              "    border: none;\n",
              "    border-radius: 50%;\n",
              "    cursor: pointer;\n",
              "    display: none;\n",
              "    fill: var(--fill-color);\n",
              "    height: 32px;\n",
              "    padding: 0;\n",
              "    width: 32px;\n",
              "  }\n",
              "\n",
              "  .colab-df-quickchart:hover {\n",
              "    background-color: var(--hover-bg-color);\n",
              "    box-shadow: 0 1px 2px rgba(60, 64, 67, 0.3), 0 1px 3px 1px rgba(60, 64, 67, 0.15);\n",
              "    fill: var(--button-hover-fill-color);\n",
              "  }\n",
              "\n",
              "  .colab-df-quickchart-complete:disabled,\n",
              "  .colab-df-quickchart-complete:disabled:hover {\n",
              "    background-color: var(--disabled-bg-color);\n",
              "    fill: var(--disabled-fill-color);\n",
              "    box-shadow: none;\n",
              "  }\n",
              "\n",
              "  .colab-df-spinner {\n",
              "    border: 2px solid var(--fill-color);\n",
              "    border-color: transparent;\n",
              "    border-bottom-color: var(--fill-color);\n",
              "    animation:\n",
              "      spin 1s steps(1) infinite;\n",
              "  }\n",
              "\n",
              "  @keyframes spin {\n",
              "    0% {\n",
              "      border-color: transparent;\n",
              "      border-bottom-color: var(--fill-color);\n",
              "      border-left-color: var(--fill-color);\n",
              "    }\n",
              "    20% {\n",
              "      border-color: transparent;\n",
              "      border-left-color: var(--fill-color);\n",
              "      border-top-color: var(--fill-color);\n",
              "    }\n",
              "    30% {\n",
              "      border-color: transparent;\n",
              "      border-left-color: var(--fill-color);\n",
              "      border-top-color: var(--fill-color);\n",
              "      border-right-color: var(--fill-color);\n",
              "    }\n",
              "    40% {\n",
              "      border-color: transparent;\n",
              "      border-right-color: var(--fill-color);\n",
              "      border-top-color: var(--fill-color);\n",
              "    }\n",
              "    60% {\n",
              "      border-color: transparent;\n",
              "      border-right-color: var(--fill-color);\n",
              "    }\n",
              "    80% {\n",
              "      border-color: transparent;\n",
              "      border-right-color: var(--fill-color);\n",
              "      border-bottom-color: var(--fill-color);\n",
              "    }\n",
              "    90% {\n",
              "      border-color: transparent;\n",
              "      border-bottom-color: var(--fill-color);\n",
              "    }\n",
              "  }\n",
              "</style>\n",
              "\n",
              "  <script>\n",
              "    async function quickchart(key) {\n",
              "      const quickchartButtonEl =\n",
              "        document.querySelector('#' + key + ' button');\n",
              "      quickchartButtonEl.disabled = true;  // To prevent multiple clicks.\n",
              "      quickchartButtonEl.classList.add('colab-df-spinner');\n",
              "      try {\n",
              "        const charts = await google.colab.kernel.invokeFunction(\n",
              "            'suggestCharts', [key], {});\n",
              "      } catch (error) {\n",
              "        console.error('Error during call to suggestCharts:', error);\n",
              "      }\n",
              "      quickchartButtonEl.classList.remove('colab-df-spinner');\n",
              "      quickchartButtonEl.classList.add('colab-df-quickchart-complete');\n",
              "    }\n",
              "    (() => {\n",
              "      let quickchartButtonEl =\n",
              "        document.querySelector('#df-159d7b52-a4c9-4ba9-85a7-e26661561729 button');\n",
              "      quickchartButtonEl.style.display =\n",
              "        google.colab.kernel.accessAllowed ? 'block' : 'none';\n",
              "    })();\n",
              "  </script>\n",
              "</div>\n",
              "\n",
              "    </div>\n",
              "  </div>\n"
            ],
            "application/vnd.google.colaboratory.intrinsic+json": {
              "type": "dataframe",
              "summary": "{\n  \"name\": \"non_borrower\",\n  \"rows\": 8,\n  \"fields\": [\n    {\n      \"column\": \"pc0\",\n      \"properties\": {\n        \"dtype\": \"number\",\n        \"std\": 370727.08436414605,\n        \"min\": -1.0,\n        \"max\": 1048575.0,\n        \"num_unique_values\": 6,\n        \"samples\": [\n          1048575.0,\n          0.3887828719929428,\n          1.0\n        ],\n        \"semantic_type\": \"\",\n        \"description\": \"\"\n      }\n    },\n    {\n      \"column\": \"pc1\",\n      \"properties\": {\n        \"dtype\": \"number\",\n        \"std\": 370726.204331806,\n        \"min\": -1.0,\n        \"max\": 1048575.0,\n        \"num_unique_values\": 8,\n        \"samples\": [\n          2.764622463819946,\n          3.0,\n          1048575.0\n        ],\n        \"semantic_type\": \"\",\n        \"description\": \"\"\n      }\n    },\n    {\n      \"column\": \"pc2\",\n      \"properties\": {\n        \"dtype\": \"number\",\n        \"std\": 370724.74427531863,\n        \"min\": -1.0,\n        \"max\": 1048575.0,\n        \"num_unique_values\": 6,\n        \"samples\": [\n          1048575.0,\n          -0.40256613022435206,\n          51.765\n        ],\n        \"semantic_type\": \"\",\n        \"description\": \"\"\n      }\n    },\n    {\n      \"column\": \"pc3\",\n      \"properties\": {\n        \"dtype\": \"number\",\n        \"std\": 370724.7930289854,\n        \"min\": -1.0,\n        \"max\": 1048575.0,\n        \"num_unique_values\": 6,\n        \"samples\": [\n          1048575.0,\n          -0.43215626445414007,\n          50.915\n        ],\n        \"semantic_type\": \"\",\n        \"description\": \"\"\n      }\n    },\n    {\n      \"column\": \"pc4\",\n      \"properties\": {\n        \"dtype\": \"number\",\n        \"std\": 370727.27544802346,\n        \"min\": -1.0,\n        \"max\": 1048575.0,\n        \"num_unique_values\": 6,\n        \"samples\": [\n          1048575.0,\n          -0.3165213380814418,\n          1.0\n        ],\n        \"semantic_type\": \"\",\n        \"description\": \"\"\n      }\n    },\n    {\n      \"column\": \"pc5\",\n      \"properties\": {\n        \"dtype\": \"number\",\n        \"std\": 370722.72935088654,\n        \"min\": -1.0,\n        \"max\": 1048575.0,\n        \"num_unique_values\": 6,\n        \"samples\": [\n          1048575.0,\n          -0.4604148487232673,\n          91.8\n        ],\n        \"semantic_type\": \"\",\n        \"description\": \"\"\n      }\n    },\n    {\n      \"column\": \"pc6\",\n      \"properties\": {\n        \"dtype\": \"number\",\n        \"std\": 370725.6188337788,\n        \"min\": -1.0,\n        \"max\": 1048575.0,\n        \"num_unique_values\": 6,\n        \"samples\": [\n          1048575.0,\n          -0.3464219078272895,\n          34.302\n        ],\n        \"semantic_type\": \"\",\n        \"description\": \"\"\n      }\n    },\n    {\n      \"column\": \"pc7\",\n      \"properties\": {\n        \"dtype\": \"number\",\n        \"std\": 370727.04369221337,\n        \"min\": -1.0,\n        \"max\": 1048575.0,\n        \"num_unique_values\": 6,\n        \"samples\": [\n          1048575.0,\n          -0.644273225091195,\n          7.132\n        ],\n        \"semantic_type\": \"\",\n        \"description\": \"\"\n      }\n    },\n    {\n      \"column\": \"pc8\",\n      \"properties\": {\n        \"dtype\": \"number\",\n        \"std\": 370725.6327165295,\n        \"min\": -1.0,\n        \"max\": 1048575.0,\n        \"num_unique_values\": 6,\n        \"samples\": [\n          1048575.0,\n          -0.35516837231480797,\n          34.064\n        ],\n        \"semantic_type\": \"\",\n        \"description\": \"\"\n      }\n    },\n    {\n      \"column\": \"pc9\",\n      \"properties\": {\n        \"dtype\": \"number\",\n        \"std\": 370727.26608092035,\n        \"min\": -1.0,\n        \"max\": 1048575.0,\n        \"num_unique_values\": 6,\n        \"samples\": [\n          1048575.0,\n          -0.28550683292996687,\n          1.0\n        ],\n        \"semantic_type\": \"\",\n        \"description\": \"\"\n      }\n    },\n    {\n      \"column\": \"pc10\",\n      \"properties\": {\n        \"dtype\": \"number\",\n        \"std\": 370704.14701473096,\n        \"min\": 0.0,\n        \"max\": 1048575.0,\n        \"num_unique_values\": 5,\n        \"samples\": [\n          0.4385094056219155,\n          456.0,\n          1.5877248625634075\n        ],\n        \"semantic_type\": \"\",\n        \"description\": \"\"\n      }\n    },\n    {\n      \"column\": \"pc11\",\n      \"properties\": {\n        \"dtype\": \"number\",\n        \"std\": 370727.34860154224,\n        \"min\": -1.0,\n        \"max\": 1048575.0,\n        \"num_unique_values\": 6,\n        \"samples\": [\n          1048575.0,\n          -0.6227476698579015,\n          1.0\n        ],\n        \"semantic_type\": \"\",\n        \"description\": \"\"\n      }\n    },\n    {\n      \"column\": \"pc12\",\n      \"properties\": {\n        \"dtype\": \"number\",\n        \"std\": 370727.3549116213,\n        \"min\": -1.0,\n        \"max\": 1048575.0,\n        \"num_unique_values\": 6,\n        \"samples\": [\n          1048575.0,\n          -0.6537621750093146,\n          1.0\n        ],\n        \"semantic_type\": \"\",\n        \"description\": \"\"\n      }\n    },\n    {\n      \"column\": \"pc13\",\n      \"properties\": {\n        \"dtype\": \"number\",\n        \"std\": 370727.3533094257,\n        \"min\": -1.0,\n        \"max\": 1048575.0,\n        \"num_unique_values\": 6,\n        \"samples\": [\n          1048575.0,\n          -0.6519266065193964,\n          1.0\n        ],\n        \"semantic_type\": \"\",\n        \"description\": \"\"\n      }\n    },\n    {\n      \"column\": \"pc14\",\n      \"properties\": {\n        \"dtype\": \"number\",\n        \"std\": 370727.1984184625,\n        \"min\": -1.0,\n        \"max\": 1048575.0,\n        \"num_unique_values\": 6,\n        \"samples\": [\n          1048575.0,\n          -0.4526044305304447,\n          3.0\n        ],\n        \"semantic_type\": \"\",\n        \"description\": \"\"\n      }\n    },\n    {\n      \"column\": \"pc15\",\n      \"properties\": {\n        \"dtype\": \"number\",\n        \"std\": 370727.4178202099,\n        \"min\": -1.0,\n        \"max\": 1048575.0,\n        \"num_unique_values\": 5,\n        \"samples\": [\n          -0.7981311902535059,\n          1.0,\n          0.40699848850737325\n        ],\n        \"semantic_type\": \"\",\n        \"description\": \"\"\n      }\n    },\n    {\n      \"column\": \"pc16\",\n      \"properties\": {\n        \"dtype\": \"number\",\n        \"std\": 370727.4077091465,\n        \"min\": -1.0,\n        \"max\": 1048575.0,\n        \"num_unique_values\": 5,\n        \"samples\": [\n          -0.7348920035341193,\n          1.0,\n          0.5439489885850546\n        ],\n        \"semantic_type\": \"\",\n        \"description\": \"\"\n      }\n    }\n  ]\n}"
            }
          },
          "metadata": {},
          "execution_count": 28
        }
      ]
    },
    {
      "cell_type": "code",
      "source": [
        "user = non_borrower.drop(columns = ['user_id'])"
      ],
      "metadata": {
        "id": "vu0T0bHgixB1"
      },
      "execution_count": null,
      "outputs": []
    },
    {
      "cell_type": "markdown",
      "source": [
        "MELAKUKAN FILTER PADA BEBERAPA NILAI UNTUK MASING-MASING VARIABEL"
      ],
      "metadata": {
        "id": "0NFdLY0HFrt8"
      }
    },
    {
      "cell_type": "code",
      "source": [
        "normal_data_borrower = user[(user['pc0'] == 0) & (user['pc2'] == -1) & (user['pc3'] == -1) & (user['pc4'] == -1) & (user['pc5'] == -1) & (user['pc6'] == -1) & (user['pc7'] == -1) & (user['pc8'] == -1) & (user['pc9'] == -1) & (user['pc10'] == 0) & (user['pc11'] == -1) & (user['pc12'] == -1) & (user['pc13'] == -1) & (user['pc14'] == -1) & (user['pc15'] == -1) & (user['pc16'] == -1)]\n"
      ],
      "metadata": {
        "id": "djChdv7fhdsf"
      },
      "execution_count": null,
      "outputs": []
    },
    {
      "cell_type": "code",
      "source": [
        "normal_data_borrower.shape[0]"
      ],
      "metadata": {
        "colab": {
          "base_uri": "https://localhost:8080/"
        },
        "id": "RT-HrkIihdnl",
        "outputId": "8145a469-c618-47ac-91dd-89347e97715a"
      },
      "execution_count": null,
      "outputs": [
        {
          "output_type": "execute_result",
          "data": {
            "text/plain": [
              "104872"
            ]
          },
          "metadata": {},
          "execution_count": 39
        }
      ]
    },
    {
      "cell_type": "code",
      "source": [
        "normal_data_borrower1 = user[(user['pc0'] == 1) & (user['pc2'] == -1) & (user['pc3'] == -1) & (user['pc4'] == -1) & (user['pc5'] == -1) & (user['pc6'] == -1) & (user['pc7'] == -1) & (user['pc8'] == -1) & (user['pc9'] == -1) & (user['pc10'] == 0) & (user['pc11'] == -1) & (user['pc12'] == -1) & (user['pc13'] == -1) & (user['pc14'] == -1) & (user['pc15'] == -1) & (user['pc16'] == -1)]\n"
      ],
      "metadata": {
        "id": "CfqUXq4ejFTl"
      },
      "execution_count": null,
      "outputs": []
    },
    {
      "cell_type": "code",
      "source": [
        "normal_data_borrower1.shape[0]"
      ],
      "metadata": {
        "colab": {
          "base_uri": "https://localhost:8080/"
        },
        "id": "OKUpwBDljFQq",
        "outputId": "20e4ab00-862c-44a1-fcec-fe7bcbda5e6a"
      },
      "execution_count": null,
      "outputs": [
        {
          "output_type": "execute_result",
          "data": {
            "text/plain": [
              "351044"
            ]
          },
          "metadata": {},
          "execution_count": 38
        }
      ]
    },
    {
      "cell_type": "code",
      "source": [
        "test_df = pd.read_csv('/content/datathon-2024/ristek-datathon-2024/ristek-datathon-2024/test.csv')\n",
        "test_df.head()"
      ],
      "metadata": {
        "colab": {
          "base_uri": "https://localhost:8080/",
          "height": 206
        },
        "id": "ZzRfS5RYjFOB",
        "outputId": "3b2cd9f8-c5c9-4655-c5f4-08577857c63e"
      },
      "execution_count": null,
      "outputs": [
        {
          "output_type": "execute_result",
          "data": {
            "text/plain": [
              "   user_id  pc0  pc1    pc2    pc3       pc4  pc5    pc6    pc7    pc8  \\\n",
              "0        4  1.0  2.0 -1.000 -1.000 -1.000000 -1.0 -1.000 -1.000 -1.000   \n",
              "1       13  1.0  5.0  0.445  0.420  0.943820  0.8  0.783  0.234  0.778   \n",
              "2       37  1.0  6.0  1.680  1.080  0.642857  0.6  1.167  0.046  1.007   \n",
              "3       61  0.0  3.0  1.505  0.875  0.581395  0.9  0.425  0.012  0.286   \n",
              "4       66  1.0  5.0  2.210  1.075  0.486425  1.0  1.349  0.087  1.015   \n",
              "\n",
              "        pc9  pc10      pc11      pc12      pc13      pc14      pc15      pc16  \n",
              "0 -1.000000   0.0 -1.000000 -1.000000 -1.000000 -1.000000 -1.000000 -1.000000  \n",
              "1  0.993614   2.0  0.056180  0.006386  0.095238  0.750000  0.022472  0.250000  \n",
              "2  0.862896   1.0  0.357143  0.137104  0.027778  0.500000  0.002976  0.166667  \n",
              "3  0.672941   1.0  0.418605  0.327059  0.051429  0.333333  0.003322  0.111111  \n",
              "4  0.752409   2.0  0.513575  0.247591  0.046512  0.800000  0.004525  0.200000  "
            ],
            "text/html": [
              "\n",
              "  <div id=\"df-60b249eb-fda2-412c-bd87-8c6ddd34dfb7\" class=\"colab-df-container\">\n",
              "    <div>\n",
              "<style scoped>\n",
              "    .dataframe tbody tr th:only-of-type {\n",
              "        vertical-align: middle;\n",
              "    }\n",
              "\n",
              "    .dataframe tbody tr th {\n",
              "        vertical-align: top;\n",
              "    }\n",
              "\n",
              "    .dataframe thead th {\n",
              "        text-align: right;\n",
              "    }\n",
              "</style>\n",
              "<table border=\"1\" class=\"dataframe\">\n",
              "  <thead>\n",
              "    <tr style=\"text-align: right;\">\n",
              "      <th></th>\n",
              "      <th>user_id</th>\n",
              "      <th>pc0</th>\n",
              "      <th>pc1</th>\n",
              "      <th>pc2</th>\n",
              "      <th>pc3</th>\n",
              "      <th>pc4</th>\n",
              "      <th>pc5</th>\n",
              "      <th>pc6</th>\n",
              "      <th>pc7</th>\n",
              "      <th>pc8</th>\n",
              "      <th>pc9</th>\n",
              "      <th>pc10</th>\n",
              "      <th>pc11</th>\n",
              "      <th>pc12</th>\n",
              "      <th>pc13</th>\n",
              "      <th>pc14</th>\n",
              "      <th>pc15</th>\n",
              "      <th>pc16</th>\n",
              "    </tr>\n",
              "  </thead>\n",
              "  <tbody>\n",
              "    <tr>\n",
              "      <th>0</th>\n",
              "      <td>4</td>\n",
              "      <td>1.0</td>\n",
              "      <td>2.0</td>\n",
              "      <td>-1.000</td>\n",
              "      <td>-1.000</td>\n",
              "      <td>-1.000000</td>\n",
              "      <td>-1.0</td>\n",
              "      <td>-1.000</td>\n",
              "      <td>-1.000</td>\n",
              "      <td>-1.000</td>\n",
              "      <td>-1.000000</td>\n",
              "      <td>0.0</td>\n",
              "      <td>-1.000000</td>\n",
              "      <td>-1.000000</td>\n",
              "      <td>-1.000000</td>\n",
              "      <td>-1.000000</td>\n",
              "      <td>-1.000000</td>\n",
              "      <td>-1.000000</td>\n",
              "    </tr>\n",
              "    <tr>\n",
              "      <th>1</th>\n",
              "      <td>13</td>\n",
              "      <td>1.0</td>\n",
              "      <td>5.0</td>\n",
              "      <td>0.445</td>\n",
              "      <td>0.420</td>\n",
              "      <td>0.943820</td>\n",
              "      <td>0.8</td>\n",
              "      <td>0.783</td>\n",
              "      <td>0.234</td>\n",
              "      <td>0.778</td>\n",
              "      <td>0.993614</td>\n",
              "      <td>2.0</td>\n",
              "      <td>0.056180</td>\n",
              "      <td>0.006386</td>\n",
              "      <td>0.095238</td>\n",
              "      <td>0.750000</td>\n",
              "      <td>0.022472</td>\n",
              "      <td>0.250000</td>\n",
              "    </tr>\n",
              "    <tr>\n",
              "      <th>2</th>\n",
              "      <td>37</td>\n",
              "      <td>1.0</td>\n",
              "      <td>6.0</td>\n",
              "      <td>1.680</td>\n",
              "      <td>1.080</td>\n",
              "      <td>0.642857</td>\n",
              "      <td>0.6</td>\n",
              "      <td>1.167</td>\n",
              "      <td>0.046</td>\n",
              "      <td>1.007</td>\n",
              "      <td>0.862896</td>\n",
              "      <td>1.0</td>\n",
              "      <td>0.357143</td>\n",
              "      <td>0.137104</td>\n",
              "      <td>0.027778</td>\n",
              "      <td>0.500000</td>\n",
              "      <td>0.002976</td>\n",
              "      <td>0.166667</td>\n",
              "    </tr>\n",
              "    <tr>\n",
              "      <th>3</th>\n",
              "      <td>61</td>\n",
              "      <td>0.0</td>\n",
              "      <td>3.0</td>\n",
              "      <td>1.505</td>\n",
              "      <td>0.875</td>\n",
              "      <td>0.581395</td>\n",
              "      <td>0.9</td>\n",
              "      <td>0.425</td>\n",
              "      <td>0.012</td>\n",
              "      <td>0.286</td>\n",
              "      <td>0.672941</td>\n",
              "      <td>1.0</td>\n",
              "      <td>0.418605</td>\n",
              "      <td>0.327059</td>\n",
              "      <td>0.051429</td>\n",
              "      <td>0.333333</td>\n",
              "      <td>0.003322</td>\n",
              "      <td>0.111111</td>\n",
              "    </tr>\n",
              "    <tr>\n",
              "      <th>4</th>\n",
              "      <td>66</td>\n",
              "      <td>1.0</td>\n",
              "      <td>5.0</td>\n",
              "      <td>2.210</td>\n",
              "      <td>1.075</td>\n",
              "      <td>0.486425</td>\n",
              "      <td>1.0</td>\n",
              "      <td>1.349</td>\n",
              "      <td>0.087</td>\n",
              "      <td>1.015</td>\n",
              "      <td>0.752409</td>\n",
              "      <td>2.0</td>\n",
              "      <td>0.513575</td>\n",
              "      <td>0.247591</td>\n",
              "      <td>0.046512</td>\n",
              "      <td>0.800000</td>\n",
              "      <td>0.004525</td>\n",
              "      <td>0.200000</td>\n",
              "    </tr>\n",
              "  </tbody>\n",
              "</table>\n",
              "</div>\n",
              "    <div class=\"colab-df-buttons\">\n",
              "\n",
              "  <div class=\"colab-df-container\">\n",
              "    <button class=\"colab-df-convert\" onclick=\"convertToInteractive('df-60b249eb-fda2-412c-bd87-8c6ddd34dfb7')\"\n",
              "            title=\"Convert this dataframe to an interactive table.\"\n",
              "            style=\"display:none;\">\n",
              "\n",
              "  <svg xmlns=\"http://www.w3.org/2000/svg\" height=\"24px\" viewBox=\"0 -960 960 960\">\n",
              "    <path d=\"M120-120v-720h720v720H120Zm60-500h600v-160H180v160Zm220 220h160v-160H400v160Zm0 220h160v-160H400v160ZM180-400h160v-160H180v160Zm440 0h160v-160H620v160ZM180-180h160v-160H180v160Zm440 0h160v-160H620v160Z\"/>\n",
              "  </svg>\n",
              "    </button>\n",
              "\n",
              "  <style>\n",
              "    .colab-df-container {\n",
              "      display:flex;\n",
              "      gap: 12px;\n",
              "    }\n",
              "\n",
              "    .colab-df-convert {\n",
              "      background-color: #E8F0FE;\n",
              "      border: none;\n",
              "      border-radius: 50%;\n",
              "      cursor: pointer;\n",
              "      display: none;\n",
              "      fill: #1967D2;\n",
              "      height: 32px;\n",
              "      padding: 0 0 0 0;\n",
              "      width: 32px;\n",
              "    }\n",
              "\n",
              "    .colab-df-convert:hover {\n",
              "      background-color: #E2EBFA;\n",
              "      box-shadow: 0px 1px 2px rgba(60, 64, 67, 0.3), 0px 1px 3px 1px rgba(60, 64, 67, 0.15);\n",
              "      fill: #174EA6;\n",
              "    }\n",
              "\n",
              "    .colab-df-buttons div {\n",
              "      margin-bottom: 4px;\n",
              "    }\n",
              "\n",
              "    [theme=dark] .colab-df-convert {\n",
              "      background-color: #3B4455;\n",
              "      fill: #D2E3FC;\n",
              "    }\n",
              "\n",
              "    [theme=dark] .colab-df-convert:hover {\n",
              "      background-color: #434B5C;\n",
              "      box-shadow: 0px 1px 3px 1px rgba(0, 0, 0, 0.15);\n",
              "      filter: drop-shadow(0px 1px 2px rgba(0, 0, 0, 0.3));\n",
              "      fill: #FFFFFF;\n",
              "    }\n",
              "  </style>\n",
              "\n",
              "    <script>\n",
              "      const buttonEl =\n",
              "        document.querySelector('#df-60b249eb-fda2-412c-bd87-8c6ddd34dfb7 button.colab-df-convert');\n",
              "      buttonEl.style.display =\n",
              "        google.colab.kernel.accessAllowed ? 'block' : 'none';\n",
              "\n",
              "      async function convertToInteractive(key) {\n",
              "        const element = document.querySelector('#df-60b249eb-fda2-412c-bd87-8c6ddd34dfb7');\n",
              "        const dataTable =\n",
              "          await google.colab.kernel.invokeFunction('convertToInteractive',\n",
              "                                                    [key], {});\n",
              "        if (!dataTable) return;\n",
              "\n",
              "        const docLinkHtml = 'Like what you see? Visit the ' +\n",
              "          '<a target=\"_blank\" href=https://colab.research.google.com/notebooks/data_table.ipynb>data table notebook</a>'\n",
              "          + ' to learn more about interactive tables.';\n",
              "        element.innerHTML = '';\n",
              "        dataTable['output_type'] = 'display_data';\n",
              "        await google.colab.output.renderOutput(dataTable, element);\n",
              "        const docLink = document.createElement('div');\n",
              "        docLink.innerHTML = docLinkHtml;\n",
              "        element.appendChild(docLink);\n",
              "      }\n",
              "    </script>\n",
              "  </div>\n",
              "\n",
              "\n",
              "<div id=\"df-e6dd7f0c-52b4-4f8c-88a8-2aeb4993e01d\">\n",
              "  <button class=\"colab-df-quickchart\" onclick=\"quickchart('df-e6dd7f0c-52b4-4f8c-88a8-2aeb4993e01d')\"\n",
              "            title=\"Suggest charts\"\n",
              "            style=\"display:none;\">\n",
              "\n",
              "<svg xmlns=\"http://www.w3.org/2000/svg\" height=\"24px\"viewBox=\"0 0 24 24\"\n",
              "     width=\"24px\">\n",
              "    <g>\n",
              "        <path d=\"M19 3H5c-1.1 0-2 .9-2 2v14c0 1.1.9 2 2 2h14c1.1 0 2-.9 2-2V5c0-1.1-.9-2-2-2zM9 17H7v-7h2v7zm4 0h-2V7h2v10zm4 0h-2v-4h2v4z\"/>\n",
              "    </g>\n",
              "</svg>\n",
              "  </button>\n",
              "\n",
              "<style>\n",
              "  .colab-df-quickchart {\n",
              "      --bg-color: #E8F0FE;\n",
              "      --fill-color: #1967D2;\n",
              "      --hover-bg-color: #E2EBFA;\n",
              "      --hover-fill-color: #174EA6;\n",
              "      --disabled-fill-color: #AAA;\n",
              "      --disabled-bg-color: #DDD;\n",
              "  }\n",
              "\n",
              "  [theme=dark] .colab-df-quickchart {\n",
              "      --bg-color: #3B4455;\n",
              "      --fill-color: #D2E3FC;\n",
              "      --hover-bg-color: #434B5C;\n",
              "      --hover-fill-color: #FFFFFF;\n",
              "      --disabled-bg-color: #3B4455;\n",
              "      --disabled-fill-color: #666;\n",
              "  }\n",
              "\n",
              "  .colab-df-quickchart {\n",
              "    background-color: var(--bg-color);\n",
              "    border: none;\n",
              "    border-radius: 50%;\n",
              "    cursor: pointer;\n",
              "    display: none;\n",
              "    fill: var(--fill-color);\n",
              "    height: 32px;\n",
              "    padding: 0;\n",
              "    width: 32px;\n",
              "  }\n",
              "\n",
              "  .colab-df-quickchart:hover {\n",
              "    background-color: var(--hover-bg-color);\n",
              "    box-shadow: 0 1px 2px rgba(60, 64, 67, 0.3), 0 1px 3px 1px rgba(60, 64, 67, 0.15);\n",
              "    fill: var(--button-hover-fill-color);\n",
              "  }\n",
              "\n",
              "  .colab-df-quickchart-complete:disabled,\n",
              "  .colab-df-quickchart-complete:disabled:hover {\n",
              "    background-color: var(--disabled-bg-color);\n",
              "    fill: var(--disabled-fill-color);\n",
              "    box-shadow: none;\n",
              "  }\n",
              "\n",
              "  .colab-df-spinner {\n",
              "    border: 2px solid var(--fill-color);\n",
              "    border-color: transparent;\n",
              "    border-bottom-color: var(--fill-color);\n",
              "    animation:\n",
              "      spin 1s steps(1) infinite;\n",
              "  }\n",
              "\n",
              "  @keyframes spin {\n",
              "    0% {\n",
              "      border-color: transparent;\n",
              "      border-bottom-color: var(--fill-color);\n",
              "      border-left-color: var(--fill-color);\n",
              "    }\n",
              "    20% {\n",
              "      border-color: transparent;\n",
              "      border-left-color: var(--fill-color);\n",
              "      border-top-color: var(--fill-color);\n",
              "    }\n",
              "    30% {\n",
              "      border-color: transparent;\n",
              "      border-left-color: var(--fill-color);\n",
              "      border-top-color: var(--fill-color);\n",
              "      border-right-color: var(--fill-color);\n",
              "    }\n",
              "    40% {\n",
              "      border-color: transparent;\n",
              "      border-right-color: var(--fill-color);\n",
              "      border-top-color: var(--fill-color);\n",
              "    }\n",
              "    60% {\n",
              "      border-color: transparent;\n",
              "      border-right-color: var(--fill-color);\n",
              "    }\n",
              "    80% {\n",
              "      border-color: transparent;\n",
              "      border-right-color: var(--fill-color);\n",
              "      border-bottom-color: var(--fill-color);\n",
              "    }\n",
              "    90% {\n",
              "      border-color: transparent;\n",
              "      border-bottom-color: var(--fill-color);\n",
              "    }\n",
              "  }\n",
              "</style>\n",
              "\n",
              "  <script>\n",
              "    async function quickchart(key) {\n",
              "      const quickchartButtonEl =\n",
              "        document.querySelector('#' + key + ' button');\n",
              "      quickchartButtonEl.disabled = true;  // To prevent multiple clicks.\n",
              "      quickchartButtonEl.classList.add('colab-df-spinner');\n",
              "      try {\n",
              "        const charts = await google.colab.kernel.invokeFunction(\n",
              "            'suggestCharts', [key], {});\n",
              "      } catch (error) {\n",
              "        console.error('Error during call to suggestCharts:', error);\n",
              "      }\n",
              "      quickchartButtonEl.classList.remove('colab-df-spinner');\n",
              "      quickchartButtonEl.classList.add('colab-df-quickchart-complete');\n",
              "    }\n",
              "    (() => {\n",
              "      let quickchartButtonEl =\n",
              "        document.querySelector('#df-e6dd7f0c-52b4-4f8c-88a8-2aeb4993e01d button');\n",
              "      quickchartButtonEl.style.display =\n",
              "        google.colab.kernel.accessAllowed ? 'block' : 'none';\n",
              "    })();\n",
              "  </script>\n",
              "</div>\n",
              "\n",
              "    </div>\n",
              "  </div>\n"
            ],
            "application/vnd.google.colaboratory.intrinsic+json": {
              "type": "dataframe",
              "variable_name": "test_df"
            }
          },
          "metadata": {},
          "execution_count": 6
        }
      ]
    },
    {
      "cell_type": "code",
      "source": [
        "sns.set(rc={'figure.figsize':(4,2)})\n",
        "sns.boxplot(x=test_df['pc0'])\n",
        "plt.show()\n",
        "sns.boxplot(x=test_df['pc1'])\n",
        "plt.show()\n",
        "sns.boxplot(x=test_df['pc2'])\n",
        "plt.show()\n",
        "sns.boxplot(x=test_df['pc3'])\n",
        "plt.show()\n",
        "sns.boxplot(x=test_df['pc4'])\n",
        "plt.show()\n",
        "sns.boxplot(x=test_df['pc5'])\n",
        "plt.show()\n",
        "sns.boxplot(x=test_df['pc6'])\n",
        "plt.show()\n",
        "sns.boxplot(x=test_df['pc7'])\n",
        "plt.show()\n",
        "sns.boxplot(x=test_df['pc8'])\n",
        "plt.show()\n",
        "sns.boxplot(x=test_df['pc9'])\n",
        "plt.show()\n",
        "sns.boxplot(x=test_df['pc10'])\n",
        "plt.show()\n",
        "sns.boxplot(x=test_df['pc11'])\n",
        "plt.show()\n",
        "sns.boxplot(x=test_df['pc12'])\n",
        "plt.show()\n",
        "sns.boxplot(x=test_df['pc13'])\n",
        "plt.show()\n",
        "sns.boxplot(x=test_df['pc14'])\n",
        "plt.show()\n",
        "sns.boxplot(x=test_df['pc15'])\n",
        "plt.show()\n",
        "sns.boxplot(x=test_df['pc16'])\n",
        "plt.show()"
      ],
      "metadata": {
        "colab": {
          "base_uri": "https://localhost:8080/",
          "height": 1000
        },
        "id": "wc_t1s90kWmk",
        "outputId": "68556032-25cb-4bf5-a0c9-cd8531bb0e13"
      },
      "execution_count": null,
      "outputs": [
        {
          "output_type": "display_data",
          "data": {
            "text/plain": [
              "<Figure size 400x200 with 1 Axes>"
            ],
            "image/png": "[encoded data removed]"
          },
          "metadata": {}
        },
        {
          "output_type": "display_data",
          "data": {
            "text/plain": [
              "<Figure size 400x200 with 1 Axes>"
            ],
            "image/png": "[encoded data removed]"
          },
          "metadata": {}
        },
        {
          "output_type": "display_data",
          "data": {
            "text/plain": [
              "<Figure size 400x200 with 1 Axes>"
            ],
            "image/png": "[encoded data removed]"
          },
          "metadata": {}
        },
        {
          "output_type": "display_data",
          "data": {
            "text/plain": [
              "<Figure size 400x200 with 1 Axes>"
            ],
            "image/png": "[encoded data removed]"
          },
          "metadata": {}
        },
        {
          "output_type": "display_data",
          "data": {
            "text/plain": [
              "<Figure size 400x200 with 1 Axes>"
            ],
            "image/png": "[encoded data removed]"
          },
          "metadata": {}
        },
        {
          "output_type": "display_data",
          "data": {
            "text/plain": [
              "<Figure size 400x200 with 1 Axes>"
            ],
            "image/png": "[encoded data removed]"
          },
          "metadata": {}
        },
        {
          "output_type": "display_data",
          "data": {
            "text/plain": [
              "<Figure size 400x200 with 1 Axes>"
            ],
            "image/png": "[encoded data removed]"
          },
          "metadata": {}
        },
        {
          "output_type": "display_data",
          "data": {
            "text/plain": [
              "<Figure size 400x200 with 1 Axes>"
            ],
            "image/png": "[encoded data removed]"
          },
          "metadata": {}
        },
        {
          "output_type": "display_data",
          "data": {
            "text/plain": [
              "<Figure size 400x200 with 1 Axes>"
            ],
            "image/png": "[encoded data removed]"
          },
          "metadata": {}
        },
        {
          "output_type": "display_data",
          "data": {
            "text/plain": [
              "<Figure size 400x200 with 1 Axes>"
            ],
            "image/png": "[encoded data removed]"
          },
          "metadata": {}
        },
        {
          "output_type": "display_data",
          "data": {
            "text/plain": [
              "<Figure size 400x200 with 1 Axes>"
            ],
            "image/png": "[encoded data removed]"
          },
          "metadata": {}
        },
        {
          "output_type": "display_data",
          "data": {
            "text/plain": [
              "<Figure size 400x200 with 1 Axes>"
            ],
            "image/png": "[encoded data removed]"
          },
          "metadata": {}
        },
        {
          "output_type": "display_data",
          "data": {
            "text/plain": [
              "<Figure size 400x200 with 1 Axes>"
            ],
            "image/png": "[encoded data removed]"
          },
          "metadata": {}
        },
        {
          "output_type": "display_data",
          "data": {
            "text/plain": [
              "<Figure size 400x200 with 1 Axes>"
            ],
            "image/png": "[encoded data removed]"
          },
          "metadata": {}
        },
        {
          "output_type": "display_data",
          "data": {
            "text/plain": [
              "<Figure size 400x200 with 1 Axes>"
            ],
            "image/png": "[encoded data removed]"
          },
          "metadata": {}
        },
        {
          "output_type": "display_data",
          "data": {
            "text/plain": [
              "<Figure size 400x200 with 1 Axes>"
            ],
            "image/png": "[encoded data removed]"
          },
          "metadata": {}
        },
        {
          "output_type": "display_data",
          "data": {
            "text/plain": [
              "<Figure size 400x200 with 1 Axes>"
            ],
            "image/png": "[encoded data removed]"
          },
          "metadata": {}
        }
      ]
    },
    {
      "cell_type": "code",
      "source": [],
      "metadata": {
        "id": "5NO9hKRwjFHo"
      },
      "execution_count": null,
      "outputs": []
    },
    {
      "cell_type": "markdown",
      "source": [
        "# PREPROCESSING DATA"
      ],
      "metadata": {
        "id": "WIM6BvRveC9R"
      }
    },
    {
      "cell_type": "markdown",
      "source": [
        "SEPARATE THE DATASET BASED ON LABEL"
      ],
      "metadata": {
        "id": "rHI9zOG3Svhd"
      }
    },
    {
      "cell_type": "code",
      "source": [
        "user1 = df[df['label'] == 1]\n",
        "user1.shape[0]"
      ],
      "metadata": {
        "colab": {
          "base_uri": "https://localhost:8080/"
        },
        "id": "yJr6elh8aqfi",
        "outputId": "dbbf77bb-9354-4ef1-96f4-100d63eac31b"
      },
      "execution_count": null,
      "outputs": [
        {
          "output_type": "execute_result",
          "data": {
            "text/plain": [
              "10857"
            ]
          },
          "metadata": {},
          "execution_count": 7
        }
      ]
    },
    {
      "cell_type": "markdown",
      "source": [
        "Checking Duplicate"
      ],
      "metadata": {
        "id": "u51i_Q1HGrwB"
      }
    },
    {
      "cell_type": "markdown",
      "source": [
        "PC0 =0"
      ],
      "metadata": {
        "id": "oFUbVP4nHHHu"
      }
    },
    {
      "cell_type": "code",
      "source": [
        "fraud_data = user1[(user['pc0'] == 0) & (user1['pc2'] == -1) & (user1['pc3'] == -1) & (user1['pc4'] == -1) & (user1['pc5'] == -1) & (user1['pc6'] == -1) & (user1['pc7'] == -1) & (user1['pc8'] == -1) & (user1['pc9'] == -1) & (user1['pc10'] == 0) & (user1['pc11'] == -1) & (user1['pc12'] == -1) & (user1['pc13'] == -1) & (user1['pc14'] == -1) & (user1['pc15'] == -1) & (user1['pc16'] == -1)]\n",
        "fraud_data.shape[0]"
      ],
      "metadata": {
        "id": "LNKHOsaEGudr"
      },
      "execution_count": null,
      "outputs": []
    },
    {
      "cell_type": "markdown",
      "source": [
        "PC0 = 1"
      ],
      "metadata": {
        "id": "aRiwKYGGHIWp"
      }
    },
    {
      "cell_type": "code",
      "source": [
        "fraud_data = user1[(user['pc0'] == 1) & (user1['pc2'] == -1) & (user1['pc3'] == -1) & (user1['pc4'] == -1) & (user1['pc5'] == -1) & (user1['pc6'] == -1) & (user1['pc7'] == -1) & (user1['pc8'] == -1) & (user1['pc9'] == -1) & (user1['pc10'] == 0) & (user1['pc11'] == -1) & (user1['pc12'] == -1) & (user1['pc13'] == -1) & (user1['pc14'] == -1) & (user1['pc15'] == -1) & (user1['pc16'] == -1)]\n",
        "fraud_data.shape[0]"
      ],
      "metadata": {
        "id": "7zTuPeMUHFBc"
      },
      "execution_count": null,
      "outputs": []
    },
    {
      "cell_type": "code",
      "source": [
        "user = df[df['label'] == 0]\n",
        "user.shape[0]"
      ],
      "metadata": {
        "id": "tJn_UfBgrhhz",
        "colab": {
          "base_uri": "https://localhost:8080/"
        },
        "outputId": "1e5f7729-a3a3-426e-eb73-c34eb9980821"
      },
      "execution_count": null,
      "outputs": [
        {
          "output_type": "execute_result",
          "data": {
            "text/plain": [
              "847042"
            ]
          },
          "metadata": {},
          "execution_count": 8
        }
      ]
    },
    {
      "cell_type": "markdown",
      "source": [
        "MENGHAPUS DUPLICATE PADA LABEL BERBEDA UNTUK LABEL 0 SAJA (PC0 = 0)"
      ],
      "metadata": {
        "id": "uo6NuNUKSzkd"
      }
    },
    {
      "cell_type": "markdown",
      "source": [
        "Nilai Duplikasi ini dihapus khusus untuk data dengan label 1 untuk handling imbalance data dan juga dilihat dari karakteristik yang mirip dengan data pada dataset non-borrower"
      ],
      "metadata": {
        "id": "N9ScHzyzGTnF"
      }
    },
    {
      "cell_type": "markdown",
      "source": [
        "Nilai pc1 tidak didefinisikan karena setiap nilai pc1 (selama nilai pc lain sama dengan kode di bawah) memiliki duplikasi pada label 1"
      ],
      "metadata": {
        "id": "VkSNTPYLF79r"
      }
    },
    {
      "cell_type": "code",
      "source": [
        "normal_data = user[(user['pc0'] == 0) & (user['pc2'] == -1) & (user['pc3'] == -1) & (user['pc4'] == -1) & (user['pc5'] == -1) & (user['pc6'] == -1) & (user['pc7'] == -1) & (user['pc8'] == -1) & (user['pc9'] == -1) & (user['pc10'] == 0) & (user['pc11'] == -1) & (user['pc12'] == -1) & (user['pc13'] == -1) & (user['pc14'] == -1) & (user['pc15'] == -1) & (user['pc16'] == -1)]\n",
        "user.drop(normal_data.index, inplace=True)"
      ],
      "metadata": {
        "id": "ypB21B53rjD9",
        "colab": {
          "base_uri": "https://localhost:8080/"
        },
        "outputId": "ac4efeea-7b1d-4469-a36b-67d156caca04"
      },
      "execution_count": null,
      "outputs": [
        {
          "output_type": "stream",
          "name": "stderr",
          "text": [
            "<ipython-input-9-08803db54c20>:2: SettingWithCopyWarning: \n",
            "A value is trying to be set on a copy of a slice from a DataFrame\n",
            "\n",
            "See the caveats in the documentation: https://pandas.pydata.org/pandas-docs/stable/user_guide/indexing.html#returning-a-view-versus-a-copy\n",
            "  user.drop(normal_data.index, inplace=True)\n"
          ]
        }
      ]
    },
    {
      "cell_type": "markdown",
      "source": [
        "MENGHAPUS DUPLICATE PADA LABEL BERBEDA UNTUK LABEL 0 SAJA (PC0 = 1)"
      ],
      "metadata": {
        "id": "Skkod8hUS0en"
      }
    },
    {
      "cell_type": "markdown",
      "source": [
        "Nilai Duplikasi ini dihapus khusus untuk data dengan label 1 untuk handling imbalance data dan juga dilihat dari karakteristik yang mirip dengan data pada dataset non-borrower"
      ],
      "metadata": {
        "id": "h4WGX62DGnzb"
      }
    },
    {
      "cell_type": "markdown",
      "source": [
        "Nilai pc1 tidak didefinisikan karena setiap nilai pc1 (selama nilai pc lain sama dengan kode di bawah) memiliki duplikasi pada label 1"
      ],
      "metadata": {
        "id": "WVtnnPkSGPUC"
      }
    },
    {
      "cell_type": "code",
      "source": [
        "normal_data = user[(user['pc0'] == 1) & (user['pc2'] == -1) & (user['pc3'] == -1) & (user['pc4'] == -1) & (user['pc5'] == -1) & (user['pc6'] == -1) & (user['pc7'] == -1) & (user['pc8'] == -1) & (user['pc9'] == -1) & (user['pc10'] == 0) & (user['pc11'] == -1) & (user['pc12'] == -1) & (user['pc13'] == -1) & (user['pc14'] == -1) & (user['pc15'] == -1) & (user['pc16'] == -1)]\n",
        "user.drop(normal_data.index, inplace=True)"
      ],
      "metadata": {
        "id": "WiiVkxU0rjs0",
        "colab": {
          "base_uri": "https://localhost:8080/"
        },
        "outputId": "ee39dafd-eb01-46e0-d435-61f5aea2b767"
      },
      "execution_count": null,
      "outputs": [
        {
          "output_type": "stream",
          "name": "stderr",
          "text": [
            "<ipython-input-10-15c0b23098e5>:2: SettingWithCopyWarning: \n",
            "A value is trying to be set on a copy of a slice from a DataFrame\n",
            "\n",
            "See the caveats in the documentation: https://pandas.pydata.org/pandas-docs/stable/user_guide/indexing.html#returning-a-view-versus-a-copy\n",
            "  user.drop(normal_data.index, inplace=True)\n"
          ]
        }
      ]
    },
    {
      "cell_type": "code",
      "source": [
        "normal_data.shape[0]"
      ],
      "metadata": {
        "colab": {
          "base_uri": "https://localhost:8080/"
        },
        "id": "2uQMrErd8xbr",
        "outputId": "f60d30b6-c918-4d33-a1b7-0997dcbe0fec"
      },
      "execution_count": null,
      "outputs": [
        {
          "output_type": "execute_result",
          "data": {
            "text/plain": [
              "221345"
            ]
          },
          "metadata": {},
          "execution_count": 34
        }
      ]
    },
    {
      "cell_type": "code",
      "source": [
        "user.shape[0]"
      ],
      "metadata": {
        "id": "FUupmAbWroM0",
        "colab": {
          "base_uri": "https://localhost:8080/"
        },
        "outputId": "4463ca63-7a45-429f-ad24-00a83a07eb37"
      },
      "execution_count": null,
      "outputs": [
        {
          "output_type": "execute_result",
          "data": {
            "text/plain": [
              "847042"
            ]
          },
          "metadata": {},
          "execution_count": 6
        }
      ]
    },
    {
      "cell_type": "markdown",
      "source": [
        "MENGHAPUS DATA DUPLICATE SETELAH MENGHAPUS KOLOM USER_ID"
      ],
      "metadata": {
        "id": "MYeST4DWTQF7"
      }
    },
    {
      "cell_type": "code",
      "source": [
        "user = user.drop(columns = ['user_id']).drop_duplicates().reset_index(drop=True)"
      ],
      "metadata": {
        "id": "M3WISNs7rpfV"
      },
      "execution_count": null,
      "outputs": []
    },
    {
      "cell_type": "code",
      "source": [
        "user1 = user1.drop(columns = ['user_id'])"
      ],
      "metadata": {
        "id": "x8cjSLFgry5P"
      },
      "execution_count": null,
      "outputs": []
    },
    {
      "cell_type": "markdown",
      "source": [
        "MENGGABUNGKAN DATA KEMBALI"
      ],
      "metadata": {
        "id": "ZK-qGRO3TYKL"
      }
    },
    {
      "cell_type": "code",
      "source": [
        "df = pd.concat([user, user1])"
      ],
      "metadata": {
        "id": "Pi8bUUlKry4t"
      },
      "execution_count": null,
      "outputs": []
    },
    {
      "cell_type": "markdown",
      "source": [
        "MEMBERI INDEX BARU"
      ],
      "metadata": {
        "id": "SMXupTc8TcJX"
      }
    },
    {
      "cell_type": "code",
      "source": [
        "df = df.reset_index(drop=True)"
      ],
      "metadata": {
        "id": "_TNE4EzLry0r"
      },
      "execution_count": null,
      "outputs": []
    },
    {
      "cell_type": "markdown",
      "source": [
        "SEPARATE DATASET BASED ON LABEL"
      ],
      "metadata": {
        "id": "_4n6ZRg0Td3Q"
      }
    },
    {
      "cell_type": "code",
      "source": [
        "#separating the data for analysis\n",
        "df_fraud = df[df['label'] == 1]\n",
        "df_non_fraud = df[df['label'] == 0]"
      ],
      "metadata": {
        "id": "sAIrivEHr_6Q"
      },
      "execution_count": null,
      "outputs": []
    },
    {
      "cell_type": "markdown",
      "source": [
        "UNDERSAMPLING (N LABEL 0 = N LABEL 1)"
      ],
      "metadata": {
        "id": "2o3XEptPTgNN"
      }
    },
    {
      "cell_type": "code",
      "source": [
        "# build a sample dataset with similar distribution of fraud and non-fraud\n",
        "df_non_fraud_sample = df_non_fraud.sample(n=df_fraud.shape[0], random_state=42)"
      ],
      "metadata": {
        "id": "xbMJeyRXsEAf"
      },
      "execution_count": null,
      "outputs": []
    },
    {
      "cell_type": "code",
      "source": [
        "df_non_fraud_sample.shape[0]"
      ],
      "metadata": {
        "colab": {
          "base_uri": "https://localhost:8080/"
        },
        "id": "1lmLKCcxlTp1",
        "outputId": "7ebf3b65-69c1-44ce-ab42-607873fb0fa7"
      },
      "execution_count": null,
      "outputs": [
        {
          "output_type": "execute_result",
          "data": {
            "text/plain": [
              "10857"
            ]
          },
          "metadata": {},
          "execution_count": 59
        }
      ]
    },
    {
      "cell_type": "code",
      "source": [
        "df_fraud.shape[0]"
      ],
      "metadata": {
        "id": "kcImhyk3sF-f",
        "colab": {
          "base_uri": "https://localhost:8080/"
        },
        "outputId": "4a9179ae-6831-43de-eb3f-ad259b787a32"
      },
      "execution_count": null,
      "outputs": [
        {
          "output_type": "execute_result",
          "data": {
            "text/plain": [
              "10857"
            ]
          },
          "metadata": {},
          "execution_count": 57
        }
      ]
    },
    {
      "cell_type": "markdown",
      "source": [
        "MEMBENTUK DATA TRAIN BARU BERDASAR SAMPLE"
      ],
      "metadata": {
        "id": "i3uJ7ubXTmvT"
      }
    },
    {
      "cell_type": "code",
      "source": [
        "new_df = pd.concat([df_fraud, df_non_fraud_sample], axis = 0)"
      ],
      "metadata": {
        "id": "xpt4hzbBsF5j"
      },
      "execution_count": null,
      "outputs": []
    },
    {
      "cell_type": "markdown",
      "source": [
        "# FEATURE ENGINEERING"
      ],
      "metadata": {
        "id": "HSxCdIrZebhU"
      }
    },
    {
      "cell_type": "markdown",
      "source": [
        "MEMISAHKAN FITUR"
      ],
      "metadata": {
        "id": "8Y5f-M8RTp5M"
      }
    },
    {
      "cell_type": "code",
      "source": [
        "X = new_df.drop(columns=['label'], axis = 1)\n",
        "y = new_df['label']"
      ],
      "metadata": {
        "id": "LABOQjZ3sF5A"
      },
      "execution_count": null,
      "outputs": []
    },
    {
      "cell_type": "markdown",
      "source": [
        "MEMBAGI DATA UNTUK TRAIN DAN TEST"
      ],
      "metadata": {
        "id": "hjf_GVCETrO2"
      }
    },
    {
      "cell_type": "code",
      "source": [
        "X_train, X_test, y_train, y_test = train_test_split(X, y, test_size=0.2, stratify=y, random_state=42)"
      ],
      "metadata": {
        "id": "KgJov-I0sF1f"
      },
      "execution_count": null,
      "outputs": []
    },
    {
      "cell_type": "code",
      "source": [
        "print(X.shape, X_train.shape, X_test.shape)"
      ],
      "metadata": {
        "id": "60AQN1OTsF03",
        "colab": {
          "base_uri": "https://localhost:8080/"
        },
        "outputId": "d7383b81-4554-48a8-b12e-849a98b54886"
      },
      "execution_count": null,
      "outputs": [
        {
          "output_type": "stream",
          "name": "stdout",
          "text": [
            "(21714, 17) (17371, 17) (4343, 17)\n"
          ]
        }
      ]
    },
    {
      "cell_type": "markdown",
      "source": [
        "SCALING"
      ],
      "metadata": {
        "id": "3wV0PEFZTwmD"
      }
    },
    {
      "cell_type": "code",
      "source": [
        "from sklearn.preprocessing import StandardScaler\n",
        "\n",
        "scaler = StandardScaler()\n",
        "X_train_scaled = scaler.fit_transform(X_train)\n",
        "X_test_scaled = scaler.transform(X_test)"
      ],
      "metadata": {
        "id": "BroCfA1WsNsM"
      },
      "execution_count": null,
      "outputs": []
    },
    {
      "cell_type": "markdown",
      "source": [
        "# MODELING"
      ],
      "metadata": {
        "id": "unXgwEC8eiEl"
      }
    },
    {
      "cell_type": "markdown",
      "source": [
        "TRAINING MODEL"
      ],
      "metadata": {
        "id": "ZiCwGOaXTyZq"
      }
    },
    {
      "cell_type": "code",
      "source": [
        "from sklearn.linear_model import LogisticRegression\n",
        "from sklearn.model_selection import GridSearchCV\n",
        "from sklearn.metrics import accuracy_score\n",
        "from sklearn.preprocessing import StandardScaler\n",
        "\n",
        "SEED = 42\n",
        "\n",
        "# Standardize the data\n",
        "scaler = StandardScaler()\n",
        "X_train_scaled = scaler.fit_transform(X_train)\n",
        "X_test_scaled = scaler.transform(X_test)\n",
        "\n",
        "# Define the model\n",
        "model = LogisticRegression(random_state = SEED)\n",
        "\n",
        "# Define the parameters grid for GridSearchCV\n",
        "param_grid = {\n",
        "    'C': [0.001, 0.01, 0.1, 1, 10, 100],  # Regularization parameter\n",
        "    'penalty': ['l1', 'l2'],              # Regularization type\n",
        "    'solver': ['liblinear', 'saga']       # Solver type\n",
        "}\n",
        "\n",
        "# Perform Grid Search CV\n",
        "grid_search = GridSearchCV(estimator=model, param_grid=param_grid, cv=10, scoring='accuracy', verbose=1, n_jobs=-1)\n",
        "grid_search.fit(X_train_scaled, y_train)\n",
        "\n",
        "# Best parameters and best score\n",
        "print(\"Best parameters found: \", grid_search.best_params_)\n",
        "print(\"Best cross-validation score: {:.2f}\".format(grid_search.best_score_))\n",
        "\n",
        "# Evaluate on test set with best parameters\n",
        "best_model = grid_search.best_estimator_\n",
        "y_pred = best_model.predict(X_test_scaled)\n",
        "test_accuracy = accuracy_score(y_test, y_pred)\n",
        "print('Test set accuracy with best model: {:.4f}'.format(test_accuracy))\n"
      ],
      "metadata": {
        "id": "ET9yabfBsNlr",
        "colab": {
          "base_uri": "https://localhost:8080/"
        },
        "outputId": "76e4f97f-8930-4018-9ba8-f672b6ae0cd8"
      },
      "execution_count": null,
      "outputs": [
        {
          "output_type": "stream",
          "name": "stdout",
          "text": [
            "Fitting 10 folds for each of 24 candidates, totalling 240 fits\n",
            "Best parameters found:  {'C': 1, 'penalty': 'l2', 'solver': 'liblinear'}\n",
            "Best cross-validation score: 0.83\n",
            "Test set accuracy with best model: 0.8347\n"
          ]
        }
      ]
    },
    {
      "cell_type": "markdown",
      "source": [
        "EVALUASI"
      ],
      "metadata": {
        "id": "3ovWKuSoT1Am"
      }
    },
    {
      "cell_type": "code",
      "source": [
        "from sklearn.metrics import classification_report\n",
        "from sklearn.metrics import recall_score\n",
        "print(classification_report(y_test, y_pred))"
      ],
      "metadata": {
        "id": "nEOVhHsQsNlE",
        "colab": {
          "base_uri": "https://localhost:8080/"
        },
        "outputId": "1bd920c3-94b6-4a3a-b14e-6c4c32a41e03"
      },
      "execution_count": null,
      "outputs": [
        {
          "output_type": "stream",
          "name": "stdout",
          "text": [
            "              precision    recall  f1-score   support\n",
            "\n",
            "           0       0.77      0.95      0.85      2172\n",
            "           1       0.94      0.72      0.81      2171\n",
            "\n",
            "    accuracy                           0.83      4343\n",
            "   macro avg       0.85      0.83      0.83      4343\n",
            "weighted avg       0.85      0.83      0.83      4343\n",
            "\n"
          ]
        }
      ]
    },
    {
      "cell_type": "markdown",
      "source": [
        "RECALL"
      ],
      "metadata": {
        "id": "B9bsw3TCT23C"
      }
    },
    {
      "cell_type": "code",
      "source": [
        "recall = recall_score(y_test, y_pred)\n",
        "print('Recall: {:.4f}'.format(recall))"
      ],
      "metadata": {
        "id": "NEvgT-L1sNhJ",
        "colab": {
          "base_uri": "https://localhost:8080/"
        },
        "outputId": "15cc40e7-829c-45fe-d7d1-fee5adfbbd76"
      },
      "execution_count": null,
      "outputs": [
        {
          "output_type": "stream",
          "name": "stdout",
          "text": [
            "Recall: 0.7167\n"
          ]
        }
      ]
    },
    {
      "cell_type": "markdown",
      "source": [
        "AP SCORE"
      ],
      "metadata": {
        "id": "V4yF6f6ET30f"
      }
    },
    {
      "cell_type": "code",
      "source": [
        "from sklearn.metrics import classification_report, average_precision_score\n",
        "\n",
        "AP_score = average_precision_score(y_test, y_pred)\n",
        "print('Average Precision with best model: {:.4f}'.format(AP_score))"
      ],
      "metadata": {
        "id": "6rQE2Jp6sNgi",
        "colab": {
          "base_uri": "https://localhost:8080/"
        },
        "outputId": "96a5149b-dc78-4287-b7f4-8fdb67bf62fc"
      },
      "execution_count": null,
      "outputs": [
        {
          "output_type": "stream",
          "name": "stdout",
          "text": [
            "Average Precision with best model: 0.8138\n"
          ]
        }
      ]
    },
    {
      "cell_type": "markdown",
      "source": [
        "MEMBACA TEST DATASET"
      ],
      "metadata": {
        "id": "V6ScUkMPT5Gg"
      }
    },
    {
      "cell_type": "code",
      "source": [
        "test_df = pd.read_csv('/content/datathon-2024/ristek-datathon-2024/ristek-datathon-2024/test.csv')\n",
        "test_df.head()"
      ],
      "metadata": {
        "id": "Vkf2mip8sNdM",
        "colab": {
          "base_uri": "https://localhost:8080/",
          "height": 206
        },
        "outputId": "206414b5-0f29-4de7-f6da-4354f50805ef"
      },
      "execution_count": null,
      "outputs": [
        {
          "output_type": "execute_result",
          "data": {
            "text/plain": [
              "   user_id  pc0  pc1    pc2    pc3       pc4  pc5    pc6    pc7    pc8  \\\n",
              "0        4  1.0  2.0 -1.000 -1.000 -1.000000 -1.0 -1.000 -1.000 -1.000   \n",
              "1       13  1.0  5.0  0.445  0.420  0.943820  0.8  0.783  0.234  0.778   \n",
              "2       37  1.0  6.0  1.680  1.080  0.642857  0.6  1.167  0.046  1.007   \n",
              "3       61  0.0  3.0  1.505  0.875  0.581395  0.9  0.425  0.012  0.286   \n",
              "4       66  1.0  5.0  2.210  1.075  0.486425  1.0  1.349  0.087  1.015   \n",
              "\n",
              "        pc9  pc10      pc11      pc12      pc13      pc14      pc15      pc16  \n",
              "0 -1.000000   0.0 -1.000000 -1.000000 -1.000000 -1.000000 -1.000000 -1.000000  \n",
              "1  0.993614   2.0  0.056180  0.006386  0.095238  0.750000  0.022472  0.250000  \n",
              "2  0.862896   1.0  0.357143  0.137104  0.027778  0.500000  0.002976  0.166667  \n",
              "3  0.672941   1.0  0.418605  0.327059  0.051429  0.333333  0.003322  0.111111  \n",
              "4  0.752409   2.0  0.513575  0.247591  0.046512  0.800000  0.004525  0.200000  "
            ],
            "text/html": [
              "\n",
              "  <div id=\"df-8217c86e-18e1-441c-846f-0a0c8c11d005\" class=\"colab-df-container\">\n",
              "    <div>\n",
              "<style scoped>\n",
              "    .dataframe tbody tr th:only-of-type {\n",
              "        vertical-align: middle;\n",
              "    }\n",
              "\n",
              "    .dataframe tbody tr th {\n",
              "        vertical-align: top;\n",
              "    }\n",
              "\n",
              "    .dataframe thead th {\n",
              "        text-align: right;\n",
              "    }\n",
              "</style>\n",
              "<table border=\"1\" class=\"dataframe\">\n",
              "  <thead>\n",
              "    <tr style=\"text-align: right;\">\n",
              "      <th></th>\n",
              "      <th>user_id</th>\n",
              "      <th>pc0</th>\n",
              "      <th>pc1</th>\n",
              "      <th>pc2</th>\n",
              "      <th>pc3</th>\n",
              "      <th>pc4</th>\n",
              "      <th>pc5</th>\n",
              "      <th>pc6</th>\n",
              "      <th>pc7</th>\n",
              "      <th>pc8</th>\n",
              "      <th>pc9</th>\n",
              "      <th>pc10</th>\n",
              "      <th>pc11</th>\n",
              "      <th>pc12</th>\n",
              "      <th>pc13</th>\n",
              "      <th>pc14</th>\n",
              "      <th>pc15</th>\n",
              "      <th>pc16</th>\n",
              "    </tr>\n",
              "  </thead>\n",
              "  <tbody>\n",
              "    <tr>\n",
              "      <th>0</th>\n",
              "      <td>4</td>\n",
              "      <td>1.0</td>\n",
              "      <td>2.0</td>\n",
              "      <td>-1.000</td>\n",
              "      <td>-1.000</td>\n",
              "      <td>-1.000000</td>\n",
              "      <td>-1.0</td>\n",
              "      <td>-1.000</td>\n",
              "      <td>-1.000</td>\n",
              "      <td>-1.000</td>\n",
              "      <td>-1.000000</td>\n",
              "      <td>0.0</td>\n",
              "      <td>-1.000000</td>\n",
              "      <td>-1.000000</td>\n",
              "      <td>-1.000000</td>\n",
              "      <td>-1.000000</td>\n",
              "      <td>-1.000000</td>\n",
              "      <td>-1.000000</td>\n",
              "    </tr>\n",
              "    <tr>\n",
              "      <th>1</th>\n",
              "      <td>13</td>\n",
              "      <td>1.0</td>\n",
              "      <td>5.0</td>\n",
              "      <td>0.445</td>\n",
              "      <td>0.420</td>\n",
              "      <td>0.943820</td>\n",
              "      <td>0.8</td>\n",
              "      <td>0.783</td>\n",
              "      <td>0.234</td>\n",
              "      <td>0.778</td>\n",
              "      <td>0.993614</td>\n",
              "      <td>2.0</td>\n",
              "      <td>0.056180</td>\n",
              "      <td>0.006386</td>\n",
              "      <td>0.095238</td>\n",
              "      <td>0.750000</td>\n",
              "      <td>0.022472</td>\n",
              "      <td>0.250000</td>\n",
              "    </tr>\n",
              "    <tr>\n",
              "      <th>2</th>\n",
              "      <td>37</td>\n",
              "      <td>1.0</td>\n",
              "      <td>6.0</td>\n",
              "      <td>1.680</td>\n",
              "      <td>1.080</td>\n",
              "      <td>0.642857</td>\n",
              "      <td>0.6</td>\n",
              "      <td>1.167</td>\n",
              "      <td>0.046</td>\n",
              "      <td>1.007</td>\n",
              "      <td>0.862896</td>\n",
              "      <td>1.0</td>\n",
              "      <td>0.357143</td>\n",
              "      <td>0.137104</td>\n",
              "      <td>0.027778</td>\n",
              "      <td>0.500000</td>\n",
              "      <td>0.002976</td>\n",
              "      <td>0.166667</td>\n",
              "    </tr>\n",
              "    <tr>\n",
              "      <th>3</th>\n",
              "      <td>61</td>\n",
              "      <td>0.0</td>\n",
              "      <td>3.0</td>\n",
              "      <td>1.505</td>\n",
              "      <td>0.875</td>\n",
              "      <td>0.581395</td>\n",
              "      <td>0.9</td>\n",
              "      <td>0.425</td>\n",
              "      <td>0.012</td>\n",
              "      <td>0.286</td>\n",
              "      <td>0.672941</td>\n",
              "      <td>1.0</td>\n",
              "      <td>0.418605</td>\n",
              "      <td>0.327059</td>\n",
              "      <td>0.051429</td>\n",
              "      <td>0.333333</td>\n",
              "      <td>0.003322</td>\n",
              "      <td>0.111111</td>\n",
              "    </tr>\n",
              "    <tr>\n",
              "      <th>4</th>\n",
              "      <td>66</td>\n",
              "      <td>1.0</td>\n",
              "      <td>5.0</td>\n",
              "      <td>2.210</td>\n",
              "      <td>1.075</td>\n",
              "      <td>0.486425</td>\n",
              "      <td>1.0</td>\n",
              "      <td>1.349</td>\n",
              "      <td>0.087</td>\n",
              "      <td>1.015</td>\n",
              "      <td>0.752409</td>\n",
              "      <td>2.0</td>\n",
              "      <td>0.513575</td>\n",
              "      <td>0.247591</td>\n",
              "      <td>0.046512</td>\n",
              "      <td>0.800000</td>\n",
              "      <td>0.004525</td>\n",
              "      <td>0.200000</td>\n",
              "    </tr>\n",
              "  </tbody>\n",
              "</table>\n",
              "</div>\n",
              "    <div class=\"colab-df-buttons\">\n",
              "\n",
              "  <div class=\"colab-df-container\">\n",
              "    <button class=\"colab-df-convert\" onclick=\"convertToInteractive('df-8217c86e-18e1-441c-846f-0a0c8c11d005')\"\n",
              "            title=\"Convert this dataframe to an interactive table.\"\n",
              "            style=\"display:none;\">\n",
              "\n",
              "  <svg xmlns=\"http://www.w3.org/2000/svg\" height=\"24px\" viewBox=\"0 -960 960 960\">\n",
              "    <path d=\"M120-120v-720h720v720H120Zm60-500h600v-160H180v160Zm220 220h160v-160H400v160Zm0 220h160v-160H400v160ZM180-400h160v-160H180v160Zm440 0h160v-160H620v160ZM180-180h160v-160H180v160Zm440 0h160v-160H620v160Z\"/>\n",
              "  </svg>\n",
              "    </button>\n",
              "\n",
              "  <style>\n",
              "    .colab-df-container {\n",
              "      display:flex;\n",
              "      gap: 12px;\n",
              "    }\n",
              "\n",
              "    .colab-df-convert {\n",
              "      background-color: #E8F0FE;\n",
              "      border: none;\n",
              "      border-radius: 50%;\n",
              "      cursor: pointer;\n",
              "      display: none;\n",
              "      fill: #1967D2;\n",
              "      height: 32px;\n",
              "      padding: 0 0 0 0;\n",
              "      width: 32px;\n",
              "    }\n",
              "\n",
              "    .colab-df-convert:hover {\n",
              "      background-color: #E2EBFA;\n",
              "      box-shadow: 0px 1px 2px rgba(60, 64, 67, 0.3), 0px 1px 3px 1px rgba(60, 64, 67, 0.15);\n",
              "      fill: #174EA6;\n",
              "    }\n",
              "\n",
              "    .colab-df-buttons div {\n",
              "      margin-bottom: 4px;\n",
              "    }\n",
              "\n",
              "    [theme=dark] .colab-df-convert {\n",
              "      background-color: #3B4455;\n",
              "      fill: #D2E3FC;\n",
              "    }\n",
              "\n",
              "    [theme=dark] .colab-df-convert:hover {\n",
              "      background-color: #434B5C;\n",
              "      box-shadow: 0px 1px 3px 1px rgba(0, 0, 0, 0.15);\n",
              "      filter: drop-shadow(0px 1px 2px rgba(0, 0, 0, 0.3));\n",
              "      fill: #FFFFFF;\n",
              "    }\n",
              "  </style>\n",
              "\n",
              "    <script>\n",
              "      const buttonEl =\n",
              "        document.querySelector('#df-8217c86e-18e1-441c-846f-0a0c8c11d005 button.colab-df-convert');\n",
              "      buttonEl.style.display =\n",
              "        google.colab.kernel.accessAllowed ? 'block' : 'none';\n",
              "\n",
              "      async function convertToInteractive(key) {\n",
              "        const element = document.querySelector('#df-8217c86e-18e1-441c-846f-0a0c8c11d005');\n",
              "        const dataTable =\n",
              "          await google.colab.kernel.invokeFunction('convertToInteractive',\n",
              "                                                    [key], {});\n",
              "        if (!dataTable) return;\n",
              "\n",
              "        const docLinkHtml = 'Like what you see? Visit the ' +\n",
              "          '<a target=\"_blank\" href=https://colab.research.google.com/notebooks/data_table.ipynb>data table notebook</a>'\n",
              "          + ' to learn more about interactive tables.';\n",
              "        element.innerHTML = '';\n",
              "        dataTable['output_type'] = 'display_data';\n",
              "        await google.colab.output.renderOutput(dataTable, element);\n",
              "        const docLink = document.createElement('div');\n",
              "        docLink.innerHTML = docLinkHtml;\n",
              "        element.appendChild(docLink);\n",
              "      }\n",
              "    </script>\n",
              "  </div>\n",
              "\n",
              "\n",
              "<div id=\"df-02b38c9a-63ff-4103-ab19-52e68c20ab6c\">\n",
              "  <button class=\"colab-df-quickchart\" onclick=\"quickchart('df-02b38c9a-63ff-4103-ab19-52e68c20ab6c')\"\n",
              "            title=\"Suggest charts\"\n",
              "            style=\"display:none;\">\n",
              "\n",
              "<svg xmlns=\"http://www.w3.org/2000/svg\" height=\"24px\"viewBox=\"0 0 24 24\"\n",
              "     width=\"24px\">\n",
              "    <g>\n",
              "        <path d=\"M19 3H5c-1.1 0-2 .9-2 2v14c0 1.1.9 2 2 2h14c1.1 0 2-.9 2-2V5c0-1.1-.9-2-2-2zM9 17H7v-7h2v7zm4 0h-2V7h2v10zm4 0h-2v-4h2v4z\"/>\n",
              "    </g>\n",
              "</svg>\n",
              "  </button>\n",
              "\n",
              "<style>\n",
              "  .colab-df-quickchart {\n",
              "      --bg-color: #E8F0FE;\n",
              "      --fill-color: #1967D2;\n",
              "      --hover-bg-color: #E2EBFA;\n",
              "      --hover-fill-color: #174EA6;\n",
              "      --disabled-fill-color: #AAA;\n",
              "      --disabled-bg-color: #DDD;\n",
              "  }\n",
              "\n",
              "  [theme=dark] .colab-df-quickchart {\n",
              "      --bg-color: #3B4455;\n",
              "      --fill-color: #D2E3FC;\n",
              "      --hover-bg-color: #434B5C;\n",
              "      --hover-fill-color: #FFFFFF;\n",
              "      --disabled-bg-color: #3B4455;\n",
              "      --disabled-fill-color: #666;\n",
              "  }\n",
              "\n",
              "  .colab-df-quickchart {\n",
              "    background-color: var(--bg-color);\n",
              "    border: none;\n",
              "    border-radius: 50%;\n",
              "    cursor: pointer;\n",
              "    display: none;\n",
              "    fill: var(--fill-color);\n",
              "    height: 32px;\n",
              "    padding: 0;\n",
              "    width: 32px;\n",
              "  }\n",
              "\n",
              "  .colab-df-quickchart:hover {\n",
              "    background-color: var(--hover-bg-color);\n",
              "    box-shadow: 0 1px 2px rgba(60, 64, 67, 0.3), 0 1px 3px 1px rgba(60, 64, 67, 0.15);\n",
              "    fill: var(--button-hover-fill-color);\n",
              "  }\n",
              "\n",
              "  .colab-df-quickchart-complete:disabled,\n",
              "  .colab-df-quickchart-complete:disabled:hover {\n",
              "    background-color: var(--disabled-bg-color);\n",
              "    fill: var(--disabled-fill-color);\n",
              "    box-shadow: none;\n",
              "  }\n",
              "\n",
              "  .colab-df-spinner {\n",
              "    border: 2px solid var(--fill-color);\n",
              "    border-color: transparent;\n",
              "    border-bottom-color: var(--fill-color);\n",
              "    animation:\n",
              "      spin 1s steps(1) infinite;\n",
              "  }\n",
              "\n",
              "  @keyframes spin {\n",
              "    0% {\n",
              "      border-color: transparent;\n",
              "      border-bottom-color: var(--fill-color);\n",
              "      border-left-color: var(--fill-color);\n",
              "    }\n",
              "    20% {\n",
              "      border-color: transparent;\n",
              "      border-left-color: var(--fill-color);\n",
              "      border-top-color: var(--fill-color);\n",
              "    }\n",
              "    30% {\n",
              "      border-color: transparent;\n",
              "      border-left-color: var(--fill-color);\n",
              "      border-top-color: var(--fill-color);\n",
              "      border-right-color: var(--fill-color);\n",
              "    }\n",
              "    40% {\n",
              "      border-color: transparent;\n",
              "      border-right-color: var(--fill-color);\n",
              "      border-top-color: var(--fill-color);\n",
              "    }\n",
              "    60% {\n",
              "      border-color: transparent;\n",
              "      border-right-color: var(--fill-color);\n",
              "    }\n",
              "    80% {\n",
              "      border-color: transparent;\n",
              "      border-right-color: var(--fill-color);\n",
              "      border-bottom-color: var(--fill-color);\n",
              "    }\n",
              "    90% {\n",
              "      border-color: transparent;\n",
              "      border-bottom-color: var(--fill-color);\n",
              "    }\n",
              "  }\n",
              "</style>\n",
              "\n",
              "  <script>\n",
              "    async function quickchart(key) {\n",
              "      const quickchartButtonEl =\n",
              "        document.querySelector('#' + key + ' button');\n",
              "      quickchartButtonEl.disabled = true;  // To prevent multiple clicks.\n",
              "      quickchartButtonEl.classList.add('colab-df-spinner');\n",
              "      try {\n",
              "        const charts = await google.colab.kernel.invokeFunction(\n",
              "            'suggestCharts', [key], {});\n",
              "      } catch (error) {\n",
              "        console.error('Error during call to suggestCharts:', error);\n",
              "      }\n",
              "      quickchartButtonEl.classList.remove('colab-df-spinner');\n",
              "      quickchartButtonEl.classList.add('colab-df-quickchart-complete');\n",
              "    }\n",
              "    (() => {\n",
              "      let quickchartButtonEl =\n",
              "        document.querySelector('#df-02b38c9a-63ff-4103-ab19-52e68c20ab6c button');\n",
              "      quickchartButtonEl.style.display =\n",
              "        google.colab.kernel.accessAllowed ? 'block' : 'none';\n",
              "    })();\n",
              "  </script>\n",
              "</div>\n",
              "\n",
              "    </div>\n",
              "  </div>\n"
            ],
            "application/vnd.google.colaboratory.intrinsic+json": {
              "type": "dataframe",
              "variable_name": "test_df"
            }
          },
          "metadata": {},
          "execution_count": 73
        }
      ]
    },
    {
      "cell_type": "markdown",
      "source": [
        "CLEANING AND PREDICT TEST DATASET"
      ],
      "metadata": {
        "id": "vh2kMPCRT6yU"
      }
    },
    {
      "cell_type": "code",
      "source": [
        "# Assuming test_df is your new dataset DataFrame\n",
        "\n",
        "# Ensure test_df has the same columns as the training data except for 'user_id' and 'label'\n",
        "X_new = test_df.drop(columns=['user_id'], axis=1)\n",
        "\n",
        "# Scale the new data using the same scaler\n",
        "X_new_scaled = scaler.transform(X_new)\n",
        "\n",
        "# Make predictions on the new data\n",
        "new_predictions = best_model.predict(X_new_scaled)"
      ],
      "metadata": {
        "id": "vAHMvZ9zsNcj"
      },
      "execution_count": null,
      "outputs": []
    },
    {
      "cell_type": "markdown",
      "source": [
        "MENJADIKAN DATAFRAME"
      ],
      "metadata": {
        "id": "t70kpDgcT_UR"
      }
    },
    {
      "cell_type": "code",
      "source": [
        "# Create a DataFrame with 'user_id' and 'label'\n",
        "prediction_df = pd.DataFrame({\n",
        "    'user_id': test_df['user_id'],\n",
        "    'label': new_predictions\n",
        "})\n",
        "\n",
        "# Save the predictions to a CSV file\n",
        "prediction_df.to_csv('new_predictions.csv', index=False)\n"
      ],
      "metadata": {
        "id": "2y-_n8VcsNY1"
      },
      "execution_count": null,
      "outputs": []
    },
    {
      "cell_type": "markdown",
      "source": [
        "MENYIMPAN MODEL"
      ],
      "metadata": {
        "id": "tFYn3zKPipJw"
      }
    },
    {
      "cell_type": "code",
      "source": [
        "import pickle\n",
        "import lightgbm\n",
        "\n",
        "# Penyimpanan model yang telah di-fit(train) dalam format \".pkl\"\n",
        "pickle.dump(model, open('Susu Beruang_Logistic Regression.pkl', 'wb'))"
      ],
      "metadata": {
        "id": "zOhTgGNdiqk1"
      },
      "execution_count": null,
      "outputs": []
    },
    {
      "cell_type": "markdown",
      "source": [
        "# ANALISIS DAN PEMBAHASAN HASIL"
      ],
      "metadata": {
        "id": "cO5vjAuKe5qr"
      }
    },
    {
      "cell_type": "markdown",
      "source": [
        "## EDA"
      ],
      "metadata": {
        "id": "C8zL2rBASHJE"
      }
    },
    {
      "cell_type": "markdown",
      "source": [
        "Informasi dari dataset memiliki ukuran yang sangat besar di mana dataset yang diberikan memiliki hampir satu juta observasi. Tidak hanya jumlah observasi yang besar, namun juga memiliki fitur yang banyak. Sayangnya, informasi yang diberikan tidak seimbang, yaitu sebagian besar transaksi yaitu sebesar 98.74% bukan merupakan penipuan (Non Fraud) sehingga sulit untuk mengidentifikasi aktivitas penipuan. Seluruh dataset yang digunakan untuk model pelatihan tidak menunjukkan adanya missing values. Selain itu, adanya hampir 400 ribu data duplikasi observasi pada seluruh nilai fitur tetapi dengan pelabelan yang berbeda. Hal ini menyebabkan sulitnya pengambilan keputusan untuk tetap atau tidaknya mempertahankan data. Dengan dataset asli yang sudah dinormalisasi, maka variabel-variabel (pc0-pc16) tampaknya memiliki rentang yang sangat kecil, dengan nilai median mendekati nol. Kotak-kotaknya sangat kecil yang terlihat pada box plot yang dihasilkan menunjukkan variasi minimal di mana nilai-nilai variabel sangat dekat satu sama lain dan distribusinya sempit. Artinya, tidak banyak perbedaan antara nilai variabel dan sebagian besar nilai berkumpul di sekitar pusat distribusi tanpa banyak outlier atau nilai ekstrim. Hal ini mengakibatkan data tersebut lebih abstrak dan menyulitkan dalam memahami pola data. Pada analisis multicollinearity, didapatkan hasil yang menunjukkan bahwa antar variabel memiliki multicollinearity yang tinggi. Sebagai contoh, variabel pc4 dengan pc9, pc8 dengan pc6, memiliki nilai korelasi sempurna yaitu 1. Hal ini dapat mengganggu model karena dapat menyebabkan terjadinya kesalahan dalam prediksi, yaitu overfitting. Multicollinearity memicu masalah overfitting karena model memberikan bobot berlebihan pada variabel yang sangat berkorelasi. Hal ini mengakibatkan model menjadi lebih rumit dan kurang mampu membuat prediksi pada data yang belum pernah ada sebelumnya yang mengakibatkan terjadinya penurunan skor akurasi prediksi. Selain itu, variabel antar dataset yang berkorelasi sangat tinggi dapat pula mengakibatkan redudansi variabel di mana antar variabel yang berkorelasi tinggi membawa informasi yang sama. Hal ini menambah kompleksitas model tanpa meningkatkan kemampuan prediktifnya. Redudansi tidak hanya membuat model lebih sulit memprediksi, tetapi juga memperlambat proses pelatihan dan dapat memperburuk performa model. Namun, cukup sulit bagi kami untuk memutuskan menghapus variabel-variabel tersebut karena variabel tersebut sengaja dikaburkan untuk kepentingan anonimitas."
      ],
      "metadata": {
        "id": "dd-rGnJ3SI02"
      }
    },
    {
      "cell_type": "markdown",
      "source": [
        "## Preprocessing"
      ],
      "metadata": {
        "id": "aXSKDJRGRhpc"
      }
    },
    {
      "cell_type": "markdown",
      "source": [
        "Pada proses ini kami melakukan pemeriksaan pada data null (missing value) dan duplikat. Untuk label 1 hasilnya sebanyak 7109 dan untuk label 0 ada sebanyak 303395\n",
        "\n",
        "Kami memutuskan untuk menghapus duplicate pada data berlabel 0 karena berdasarkan EDA, diperoleh fakta bahwa terdapat ketidakseimbangan pada data label fraud dan nonfraud yang cukup timpang di mana data dengan label 1 ada sebanyak 10857 dan data dengan label 0 berjumlah 78x lipat dibandingkan data berlabel 1, yakni sebanyak 847042. Sebagai bagian dari solusi untuk mengatasi imbalanced data, kami memutuskan untuk menghapus data dengan label 0 (fraud).\n",
        "\n",
        "Ditemukan pula bahwa pola pc0 = 0 dan pc1 - pc16 = -1 kecuali pc10 = 0.0, serta pc0 = 1 dan pc1 - pc16 = -1 kecuali pc10 = 0.0 sering muncul dalam dataset non_borrower_user. Mengingat bahwa dataset non_borrower_user tidak digunakan dalam pelatihan model, hal ini memperkuat alasan untuk menghapus seluruh data yang memiliki pola fitur identitas tersebut.\n"
      ],
      "metadata": {
        "id": "-FWRlehaRlQF"
      }
    },
    {
      "cell_type": "markdown",
      "source": [
        "## Modeling"
      ],
      "metadata": {
        "id": "2IR9jNaSRr7v"
      }
    },
    {
      "cell_type": "markdown",
      "source": [
        "Model regresi logistik dipilih karena mudah diterapkan dan hasilnya mudah diinterpretasikan. Hal ini penting dalam deteksi penipuan, dimana memahami hubungan antara prediktor dan kemungkinan penipuan bisa menjadi sangat penting. Selain itu, regresi logistik dengan regularisasi (L1 atau L2) dapat membantu mengatasi multikolinearitas dengan memberikan penalti pada koefisien yang besar, sehingga mengurangi dampaknya dan berpotensi menghasilkan performa dan stabilitas model yang lebih baik. Regresi logistik juga memberikan perkiraan probabilitas, yang bisa sangat berguna dalam deteksi penipuan untuk menetapkan ambang batas dan membuat keputusan berbasis risiko.\n",
        "Pada proses prediksi dataset yang diberikan dilihat pula bahwa dataset tersebut beberapa nilai yang tidak diketahui labelnya atau memiliki label ganda apabila dilihat pada data train. Hal ini memberikan keuntungan apabila menggunakan LR, dimana LR sangat efisien untuk mengklasifikasikan catatan yang tidak diketahui. Selain itu, berdasarkan beberapa percobaan yang telah dilakukan, jika dibandingkan dengan algoritma LightGBM, FA-CNN, RLS, model LR memberikan skor presisi rata-rata yang lebih baik. LightGBM memberikan AP score , FA-CNN  , RLS 0.6774, dan LR 0.8138. Hal ini menunjukkan bahwa model LR memberikan nilai average precision score yang lebih baik.\n"
      ],
      "metadata": {
        "id": "O5xV1b47Ru7G"
      }
    },
    {
      "cell_type": "markdown",
      "source": [
        "# KESIMPULAN"
      ],
      "metadata": {
        "id": "QUFVA5t5e_cP"
      }
    },
    {
      "cell_type": "markdown",
      "source": [
        "Dari analisis yang telah dilakukan, dapat disimpulkan bahwa logistic regression merupakan model yang cukup efektif dalam mendeteksi penipuan finansial pada platform fintech. Model ini dipilih karena kemudahan penerapannya dan interpretasi yang jelas, yang sangat penting dalam memahami hubungan antara prediktor dan kemungkinan terjadinya penipuan. Meskipun tantangan seperti data yang sangat besar, multikolinearitas, dan ketidakseimbangan kelas data dihadapi, teknik preprocessing yang tepat seperti penghapusan data duplikat dan penggunaan regularisasi dalam model regresi logistik membantu meningkatkan performa dan stabilitas model. Setelah berhasil melakukan beberapa submisi, kelompok kami memilih dua submisi dengan skor AP 0.02 dan 0.01949.\n",
        "\n",
        "\n",
        "\n",
        "\n",
        "\n"
      ],
      "metadata": {
        "id": "RA6l-MhXTXJg"
      }
    },
    {
      "cell_type": "markdown",
      "source": [
        "# DAFTAR PUSTAKA"
      ],
      "metadata": {
        "id": "IX-tTnfJpeoT"
      }
    },
    {
      "cell_type": "markdown",
      "source": [
        "Ali A, Razak SA, Othman SH, Eisa TAE, Al-Daqhm A, Nasser M, Elhassan T, Elshafie H, Saif A. 2022. Financial Fraud Detection Based on Machine Learning: A Systematic Literature Review. Applied Sciences. 12(9): 9637. https://doi.org/10.3390/app12199637.\n",
        "\n",
        "James G, Witten D, Hastie T, Tibshirani R. 2013. An Introduction to Statistical Learning: with Applications in R. New York (NY): Springer\n",
        "\n",
        "Kumar Y, S Sameeka, Payal R. 2020. Comparative analysis for fraud detection using logistic regression, random forest, and support vector machine. SSRN Electric Journal. 7(4):728. http://dx.doi.org/10.2139/ssrn.3751339.\n",
        "\n",
        "Trivedi NK, Simaiya S, Lilhore UK, Sharma SK. 2020. An Efficient Credit Card Detection Model Based on Machine Learning Method. International Journal of Advanced Science and Technology. 29 (5): 3414 - 3424.\n"
      ],
      "metadata": {
        "id": "0dUVFHhfR1F2"
      }
    }
  ]
}